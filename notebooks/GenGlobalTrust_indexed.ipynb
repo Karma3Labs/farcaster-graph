{
 "cells": [
  {
   "cell_type": "code",
   "execution_count": 1,
   "id": "73ad8ad8-6814-4669-a47b-ea3937805b9f",
   "metadata": {},
   "outputs": [],
   "source": [
    "import pandas as pd\n",
    "import numpy as np\n",
    "pd.set_option(\"mode.copy_on_write\", True)"
   ]
  },
  {
   "cell_type": "code",
   "execution_count": 4,
   "id": "5fb9095c-1cc2-43de-b831-0d3afc36a6bb",
   "metadata": {},
   "outputs": [
    {
     "name": "stdin",
     "output_type": "stream",
     "text": [
      " ········\n"
     ]
    }
   ],
   "source": [
    "import getpass\n",
    "pg_password = getpass.getpass()"
   ]
  },
  {
   "cell_type": "code",
   "execution_count": 5,
   "id": "4ed751a4-f11b-4b32-aa96-ee339725e4ef",
   "metadata": {},
   "outputs": [
    {
     "name": "stdout",
     "output_type": "stream",
     "text": [
      "(datetime.datetime(2024, 3, 10, 1, 49, 29, 881239, tzinfo=datetime.timezone.utc),)\n"
     ]
    }
   ],
   "source": [
    "import psycopg2\n",
    "pg_dsn = f\"dbname=replicator user=replicator host=127.0.0.1 port=6541 password={pg_password}\"\n",
    "tmp_sql = \"select now()\"\n",
    "with psycopg2.connect(pg_dsn) as conn:\n",
    "    with conn.cursor() as cursor:\n",
    "        cursor.execute(tmp_sql)\n",
    "        print(cursor.fetchone())"
   ]
  },
  {
   "cell_type": "code",
   "execution_count": 6,
   "id": "9422ea7e-3394-4257-85b8-5b0cd9625c64",
   "metadata": {},
   "outputs": [],
   "source": [
    "import tempfile\n",
    "def ijv_df_read_sql_tmpfile(query):\n",
    "    with tempfile.TemporaryFile() as tmpfile:\n",
    "        copy_sql = \"COPY ({query}) TO STDOUT WITH CSV {head}\".format(\n",
    "           query=query, head=\"HEADER\"\n",
    "        )\n",
    "        with psycopg2.connect(pg_dsn) as conn:\n",
    "            with conn.cursor() as cursor:\n",
    "                cursor.copy_expert(copy_sql, tmpfile)\n",
    "                tmpfile.seek(0)\n",
    "                df = pd.read_csv(tmpfile, index_col=['i','j'], dtype={'i': 'Int32', 'j': 'Int32'})\n",
    "                return df"
   ]
  },
  {
   "cell_type": "code",
   "execution_count": 7,
   "id": "b1c6f440-0057-465f-9da3-4a7a5d8a447b",
   "metadata": {},
   "outputs": [
    {
     "name": "stdout",
     "output_type": "stream",
     "text": [
      "CPU times: user 585 ms, sys: 69.5 ms, total: 654 ms\n",
      "Wall time: 4.75 s\n"
     ]
    }
   ],
   "source": [
    "%%time\n",
    "likes_sql = \"\"\"\n",
    "    SELECT fid as i, target_cast_fid as j, count(1) as likes_v \n",
    "    FROM reactions \n",
    "    WHERE type=1\n",
    "    AND fid < 10000\n",
    "    GROUP BY i, j\n",
    "    -- limit 100\n",
    "  \"\"\"\n",
    "likes_df = ijv_df_read_sql_tmpfile(likes_sql)"
   ]
  },
  {
   "cell_type": "code",
   "execution_count": 8,
   "id": "57eb3799-36c5-43f1-837b-6251b4351168",
   "metadata": {},
   "outputs": [
    {
     "name": "stdout",
     "output_type": "stream",
     "text": [
      "<class 'pandas.core.frame.DataFrame'>\n",
      "MultiIndex: 271944 entries, (2526, 6946) to (2433, 56)\n",
      "Data columns (total 1 columns):\n",
      " #   Column   Non-Null Count   Dtype\n",
      "---  ------   --------------   -----\n",
      " 0   likes_v  271944 non-null  int64\n",
      "dtypes: int64(1)\n",
      "memory usage: 3.7 MB\n"
     ]
    }
   ],
   "source": [
    "likes_df.info(memory_usage='deep')"
   ]
  },
  {
   "cell_type": "code",
   "execution_count": 9,
   "id": "657b8739-aea2-49ea-a1c7-5328c3609a14",
   "metadata": {},
   "outputs": [
    {
     "data": {
      "text/html": [
       "<div>\n",
       "<style scoped>\n",
       "    .dataframe tbody tr th:only-of-type {\n",
       "        vertical-align: middle;\n",
       "    }\n",
       "\n",
       "    .dataframe tbody tr th {\n",
       "        vertical-align: top;\n",
       "    }\n",
       "\n",
       "    .dataframe thead th {\n",
       "        text-align: right;\n",
       "    }\n",
       "</style>\n",
       "<table border=\"1\" class=\"dataframe\">\n",
       "  <thead>\n",
       "    <tr style=\"text-align: right;\">\n",
       "      <th></th>\n",
       "      <th></th>\n",
       "      <th>likes_v</th>\n",
       "    </tr>\n",
       "    <tr>\n",
       "      <th>i</th>\n",
       "      <th>j</th>\n",
       "      <th></th>\n",
       "    </tr>\n",
       "  </thead>\n",
       "  <tbody>\n",
       "    <tr>\n",
       "      <th>2056</th>\n",
       "      <th>191824</th>\n",
       "      <td>1</td>\n",
       "    </tr>\n",
       "    <tr>\n",
       "      <th>473</th>\n",
       "      <th>1030</th>\n",
       "      <td>2</td>\n",
       "    </tr>\n",
       "    <tr>\n",
       "      <th>4753</th>\n",
       "      <th>4612</th>\n",
       "      <td>1</td>\n",
       "    </tr>\n",
       "    <tr>\n",
       "      <th>5543</th>\n",
       "      <th>191775</th>\n",
       "      <td>4</td>\n",
       "    </tr>\n",
       "    <tr>\n",
       "      <th>4565</th>\n",
       "      <th>4407</th>\n",
       "      <td>1</td>\n",
       "    </tr>\n",
       "  </tbody>\n",
       "</table>\n",
       "</div>"
      ],
      "text/plain": [
       "             likes_v\n",
       "i    j              \n",
       "2056 191824        1\n",
       "473  1030          2\n",
       "4753 4612          1\n",
       "5543 191775        4\n",
       "4565 4407          1"
      ]
     },
     "execution_count": 9,
     "metadata": {},
     "output_type": "execute_result"
    }
   ],
   "source": [
    "likes_df.sample(5)"
   ]
  },
  {
   "cell_type": "code",
   "execution_count": 10,
   "id": "c64c9714-a117-4636-8299-5a32ad1191d9",
   "metadata": {},
   "outputs": [
    {
     "data": {
      "text/plain": [
       "dtype('O')"
      ]
     },
     "execution_count": 10,
     "metadata": {},
     "output_type": "execute_result"
    }
   ],
   "source": [
    "likes_df.index.dtype"
   ]
  },
  {
   "cell_type": "code",
   "execution_count": 11,
   "id": "963a7b13-58bd-4820-8faa-8b3a7eabf4cd",
   "metadata": {},
   "outputs": [
    {
     "name": "stdout",
     "output_type": "stream",
     "text": [
      "CPU times: user 497 ms, sys: 61.6 ms, total: 559 ms\n",
      "Wall time: 4.8 s\n"
     ]
    }
   ],
   "source": [
    "%%time\n",
    "replies_sql = \"\"\"\n",
    "    SELECT fid as i, parent_fid as j, count(1) as replies_v \n",
    "    FROM casts\n",
    "    WHERE parent_hash IS NOT NULL\n",
    "    AND fid < 10000\n",
    "    GROUP by i, j\n",
    "  \"\"\"\n",
    "replies_df = ijv_df_read_sql_tmpfile(replies_sql)"
   ]
  },
  {
   "cell_type": "code",
   "execution_count": 12,
   "id": "76318bf8-cfad-47d2-a14a-3d5ce9df9b4b",
   "metadata": {},
   "outputs": [
    {
     "name": "stdout",
     "output_type": "stream",
     "text": [
      "<class 'pandas.core.frame.DataFrame'>\n",
      "MultiIndex: 231879 entries, (4651, 431) to (8149, 7143)\n",
      "Data columns (total 1 columns):\n",
      " #   Column     Non-Null Count   Dtype\n",
      "---  ------     --------------   -----\n",
      " 0   replies_v  231879 non-null  int64\n",
      "dtypes: int64(1)\n",
      "memory usage: 3.2 MB\n"
     ]
    }
   ],
   "source": [
    "replies_df.info(memory_usage='deep')"
   ]
  },
  {
   "cell_type": "code",
   "execution_count": 13,
   "id": "6450dfaf-ea5f-495d-8e23-cb3cea457894",
   "metadata": {},
   "outputs": [
    {
     "name": "stdout",
     "output_type": "stream",
     "text": [
      "CPU times: user 143 ms, sys: 22.2 ms, total: 165 ms\n",
      "Wall time: 3.21 s\n"
     ]
    }
   ],
   "source": [
    "%%time\n",
    "mentions_sql = \"\"\"\n",
    "\t\tWITH mention AS (\n",
    "\t\t\tSELECT fid as author_fid, mention.value as mention_fid \n",
    "\t\t\tFROM casts, json_array_elements_text(casts.mentions) as mention\n",
    "\t\t)\n",
    "\t\tSELECT \n",
    "\t\t\tauthor_fid as i, mention_fid as j, count(1) as mentions_v\n",
    "\t\tFROM mention\n",
    "        WHERE author_fid < 10000\n",
    "\t\tGROUP BY i, j\n",
    "  \"\"\"\n",
    "mentions_df = ijv_df_read_sql_tmpfile(mentions_sql)"
   ]
  },
  {
   "cell_type": "code",
   "execution_count": 14,
   "id": "c10a6dbd-faeb-4fcd-95fe-399f3d49c766",
   "metadata": {},
   "outputs": [
    {
     "name": "stdout",
     "output_type": "stream",
     "text": [
      "<class 'pandas.core.frame.DataFrame'>\n",
      "MultiIndex: 48679 entries, (2, 1) to (9994, 3)\n",
      "Data columns (total 1 columns):\n",
      " #   Column      Non-Null Count  Dtype\n",
      "---  ------      --------------  -----\n",
      " 0   mentions_v  48679 non-null  int64\n",
      "dtypes: int64(1)\n",
      "memory usage: 918.8 KB\n"
     ]
    }
   ],
   "source": [
    "mentions_df.info(memory_usage='deep')"
   ]
  },
  {
   "cell_type": "code",
   "execution_count": 15,
   "id": "89efe359-467f-4ab8-9ff9-4fbee77b70ad",
   "metadata": {},
   "outputs": [
    {
     "name": "stdout",
     "output_type": "stream",
     "text": [
      "CPU times: user 147 ms, sys: 25.9 ms, total: 173 ms\n",
      "Wall time: 2.76 s\n"
     ]
    }
   ],
   "source": [
    "%%time\n",
    "recasts_sql = \"\"\"\n",
    "    SELECT fid as i, target_cast_fid as j, count(1) as reacts_v \n",
    "    FROM reactions \n",
    "    WHERE type=2\n",
    "    AND fid < 10000\n",
    "    GROUP BY i, j\n",
    "  \"\"\"\n",
    "recasts_df = ijv_df_read_sql_tmpfile(recasts_sql)"
   ]
  },
  {
   "cell_type": "code",
   "execution_count": 16,
   "id": "0d2bb4ff-7c59-4549-bbbf-223f1508d3f8",
   "metadata": {},
   "outputs": [
    {
     "name": "stdout",
     "output_type": "stream",
     "text": [
      "<class 'pandas.core.frame.DataFrame'>\n",
      "MultiIndex: 43143 entries, (2, 2) to (9991, 189625)\n",
      "Data columns (total 1 columns):\n",
      " #   Column    Non-Null Count  Dtype\n",
      "---  ------    --------------  -----\n",
      " 0   reacts_v  43143 non-null  int64\n",
      "dtypes: int64(1)\n",
      "memory usage: 686.5 KB\n"
     ]
    }
   ],
   "source": [
    "recasts_df.info(memory_usage='deep')"
   ]
  },
  {
   "cell_type": "code",
   "execution_count": 17,
   "id": "d3c4b49b-5fee-464a-ac58-69b9b9636351",
   "metadata": {},
   "outputs": [
    {
     "name": "stdout",
     "output_type": "stream",
     "text": [
      "CPU times: user 2.32 s, sys: 242 ms, total: 2.57 s\n",
      "Wall time: 21 s\n"
     ]
    }
   ],
   "source": [
    "%%time\n",
    "follows_sql = \"\"\"\n",
    "    SELECT \n",
    "        follower_fid as i, \n",
    "        following_fid as j,\n",
    "        1 as follows_v\n",
    "    FROM mv_follow_links \n",
    "    WHERE follower_fid < 10000\n",
    "    ORDER BY i, j, follows_v desc\n",
    "    \"\"\"\n",
    "follows_df = ijv_df_read_sql_tmpfile(follows_sql)"
   ]
  },
  {
   "cell_type": "code",
   "execution_count": 18,
   "id": "77509522-6d1d-4e51-aa7f-0c45e1674e1d",
   "metadata": {},
   "outputs": [
    {
     "name": "stdout",
     "output_type": "stream",
     "text": [
      "<class 'pandas.core.frame.DataFrame'>\n",
      "MultiIndex: 1100115 entries, (1, 2) to (9999, 9892)\n",
      "Data columns (total 1 columns):\n",
      " #   Column     Non-Null Count    Dtype\n",
      "---  ------     --------------    -----\n",
      " 0   follows_v  1100115 non-null  int64\n",
      "dtypes: int64(1)\n",
      "memory usage: 15.9 MB\n"
     ]
    }
   ],
   "source": [
    "follows_df.info(memory_usage='deep')"
   ]
  },
  {
   "cell_type": "code",
   "execution_count": 19,
   "id": "b30bcad9-3e92-45c5-9795-6e7a13bddf65",
   "metadata": {},
   "outputs": [
    {
     "name": "stdout",
     "output_type": "stream",
     "text": [
      "CPU times: user 330 ms, sys: 42 ms, total: 372 ms\n",
      "Wall time: 394 ms\n"
     ]
    }
   ],
   "source": [
    "%%time\n",
    "df = likes_df.merge(replies_df, how='outer', left_index=True, right_index=True, indicator=False)"
   ]
  },
  {
   "cell_type": "code",
   "execution_count": 20,
   "id": "1b454aef-bf97-40f7-98e3-11d1c39c585e",
   "metadata": {},
   "outputs": [
    {
     "name": "stdout",
     "output_type": "stream",
     "text": [
      "<class 'pandas.core.frame.DataFrame'>\n",
      "MultiIndex: 403229 entries, (1, 3) to (9998, 970)\n",
      "Data columns (total 2 columns):\n",
      " #   Column     Non-Null Count   Dtype  \n",
      "---  ------     --------------   -----  \n",
      " 0   likes_v    271944 non-null  float64\n",
      " 1   replies_v  231879 non-null  float64\n",
      "dtypes: float64(2)\n",
      "memory usage: 8.3 MB\n"
     ]
    }
   ],
   "source": [
    "df.info(memory_usage='deep')"
   ]
  },
  {
   "cell_type": "code",
   "execution_count": 21,
   "id": "b8cdb6be-523a-4053-a7db-a2fad7d36104",
   "metadata": {},
   "outputs": [
    {
     "name": "stdout",
     "output_type": "stream",
     "text": [
      "CPU times: user 265 ms, sys: 41.7 ms, total: 307 ms\n",
      "Wall time: 324 ms\n"
     ]
    }
   ],
   "source": [
    "%%time\n",
    "df = df.merge(mentions_df, how='outer', left_index=True, right_index=True, indicator=False)"
   ]
  },
  {
   "cell_type": "code",
   "execution_count": 22,
   "id": "e76be080-6122-4259-b424-5c58ceff4c4b",
   "metadata": {},
   "outputs": [
    {
     "name": "stdout",
     "output_type": "stream",
     "text": [
      "<class 'pandas.core.frame.DataFrame'>\n",
      "MultiIndex: 421416 entries, (1, 3) to (9998, 970)\n",
      "Data columns (total 3 columns):\n",
      " #   Column      Non-Null Count   Dtype  \n",
      "---  ------      --------------   -----  \n",
      " 0   likes_v     271944 non-null  float64\n",
      " 1   replies_v   231879 non-null  float64\n",
      " 2   mentions_v  48679 non-null   float64\n",
      "dtypes: float64(3)\n",
      "memory usage: 11.9 MB\n"
     ]
    }
   ],
   "source": [
    "df.info(memory_usage='deep')"
   ]
  },
  {
   "cell_type": "code",
   "execution_count": 23,
   "id": "53b22920-58b2-47d8-ac3d-470e1ce68b96",
   "metadata": {},
   "outputs": [
    {
     "name": "stdout",
     "output_type": "stream",
     "text": [
      "CPU times: user 271 ms, sys: 54 ms, total: 325 ms\n",
      "Wall time: 348 ms\n"
     ]
    }
   ],
   "source": [
    "%%time\n",
    "df = df.merge(recasts_df, how='outer', left_index=True, right_index=True, indicator=False)"
   ]
  },
  {
   "cell_type": "code",
   "execution_count": 24,
   "id": "41b5f6d4-9819-4a44-bd45-c1b50a15cbad",
   "metadata": {},
   "outputs": [
    {
     "name": "stdout",
     "output_type": "stream",
     "text": [
      "<class 'pandas.core.frame.DataFrame'>\n",
      "MultiIndex: 424852 entries, (1, 3) to (9998, 970)\n",
      "Data columns (total 4 columns):\n",
      " #   Column      Non-Null Count   Dtype  \n",
      "---  ------      --------------   -----  \n",
      " 0   likes_v     271944 non-null  float64\n",
      " 1   replies_v   231879 non-null  float64\n",
      " 2   mentions_v  48679 non-null   float64\n",
      " 3   reacts_v    43143 non-null   float64\n",
      "dtypes: float64(4)\n",
      "memory usage: 15.2 MB\n"
     ]
    }
   ],
   "source": [
    "df.info(memory_usage='deep')"
   ]
  },
  {
   "cell_type": "code",
   "execution_count": 25,
   "id": "673c02b7-0601-431c-bae9-adff52203364",
   "metadata": {},
   "outputs": [
    {
     "name": "stdout",
     "output_type": "stream",
     "text": [
      "CPU times: user 897 ms, sys: 182 ms, total: 1.08 s\n",
      "Wall time: 1.24 s\n"
     ]
    }
   ],
   "source": [
    "%%time\n",
    "df = df.merge(follows_df, how='outer', left_index=True, right_index=True, indicator=False)"
   ]
  },
  {
   "cell_type": "code",
   "execution_count": 26,
   "id": "7373e79b-7cc1-488a-8c72-bb909419dc36",
   "metadata": {},
   "outputs": [
    {
     "name": "stdout",
     "output_type": "stream",
     "text": [
      "<class 'pandas.core.frame.DataFrame'>\n",
      "MultiIndex: 1303353 entries, (1, 2) to (9999, 9892)\n",
      "Data columns (total 5 columns):\n",
      " #   Column      Non-Null Count    Dtype  \n",
      "---  ------      --------------    -----  \n",
      " 0   likes_v     271944 non-null   float64\n",
      " 1   replies_v   231879 non-null   float64\n",
      " 2   mentions_v  48679 non-null    float64\n",
      " 3   reacts_v    43143 non-null    float64\n",
      " 4   follows_v   1100115 non-null  float64\n",
      "dtypes: float64(5)\n",
      "memory usage: 58.4 MB\n"
     ]
    }
   ],
   "source": [
    "df.info(memory_usage='deep')"
   ]
  },
  {
   "cell_type": "code",
   "execution_count": 27,
   "id": "0509fbbf-d033-4995-b2e4-34507668d92d",
   "metadata": {},
   "outputs": [
    {
     "data": {
      "text/html": [
       "<div>\n",
       "<style scoped>\n",
       "    .dataframe tbody tr th:only-of-type {\n",
       "        vertical-align: middle;\n",
       "    }\n",
       "\n",
       "    .dataframe tbody tr th {\n",
       "        vertical-align: top;\n",
       "    }\n",
       "\n",
       "    .dataframe thead th {\n",
       "        text-align: right;\n",
       "    }\n",
       "</style>\n",
       "<table border=\"1\" class=\"dataframe\">\n",
       "  <thead>\n",
       "    <tr style=\"text-align: right;\">\n",
       "      <th></th>\n",
       "      <th></th>\n",
       "      <th>likes_v</th>\n",
       "      <th>replies_v</th>\n",
       "      <th>mentions_v</th>\n",
       "      <th>reacts_v</th>\n",
       "      <th>follows_v</th>\n",
       "    </tr>\n",
       "    <tr>\n",
       "      <th>i</th>\n",
       "      <th>j</th>\n",
       "      <th></th>\n",
       "      <th></th>\n",
       "      <th></th>\n",
       "      <th></th>\n",
       "      <th></th>\n",
       "    </tr>\n",
       "  </thead>\n",
       "  <tbody>\n",
       "    <tr>\n",
       "      <th>3866</th>\n",
       "      <th>4091</th>\n",
       "      <td>NaN</td>\n",
       "      <td>NaN</td>\n",
       "      <td>NaN</td>\n",
       "      <td>NaN</td>\n",
       "      <td>1.0</td>\n",
       "    </tr>\n",
       "    <tr>\n",
       "      <th>716</th>\n",
       "      <th>4341</th>\n",
       "      <td>NaN</td>\n",
       "      <td>1.0</td>\n",
       "      <td>NaN</td>\n",
       "      <td>NaN</td>\n",
       "      <td>NaN</td>\n",
       "    </tr>\n",
       "    <tr>\n",
       "      <th>424</th>\n",
       "      <th>27</th>\n",
       "      <td>NaN</td>\n",
       "      <td>NaN</td>\n",
       "      <td>NaN</td>\n",
       "      <td>NaN</td>\n",
       "      <td>1.0</td>\n",
       "    </tr>\n",
       "    <tr>\n",
       "      <th>283</th>\n",
       "      <th>578</th>\n",
       "      <td>NaN</td>\n",
       "      <td>NaN</td>\n",
       "      <td>NaN</td>\n",
       "      <td>NaN</td>\n",
       "      <td>1.0</td>\n",
       "    </tr>\n",
       "    <tr>\n",
       "      <th>3514</th>\n",
       "      <th>463</th>\n",
       "      <td>NaN</td>\n",
       "      <td>NaN</td>\n",
       "      <td>NaN</td>\n",
       "      <td>NaN</td>\n",
       "      <td>1.0</td>\n",
       "    </tr>\n",
       "    <tr>\n",
       "      <th>8062</th>\n",
       "      <th>194</th>\n",
       "      <td>NaN</td>\n",
       "      <td>NaN</td>\n",
       "      <td>NaN</td>\n",
       "      <td>NaN</td>\n",
       "      <td>1.0</td>\n",
       "    </tr>\n",
       "    <tr>\n",
       "      <th>9523</th>\n",
       "      <th>1287</th>\n",
       "      <td>NaN</td>\n",
       "      <td>NaN</td>\n",
       "      <td>NaN</td>\n",
       "      <td>NaN</td>\n",
       "      <td>1.0</td>\n",
       "    </tr>\n",
       "    <tr>\n",
       "      <th>8106</th>\n",
       "      <th>60</th>\n",
       "      <td>NaN</td>\n",
       "      <td>NaN</td>\n",
       "      <td>NaN</td>\n",
       "      <td>NaN</td>\n",
       "      <td>1.0</td>\n",
       "    </tr>\n",
       "    <tr>\n",
       "      <th>7675</th>\n",
       "      <th>1655</th>\n",
       "      <td>NaN</td>\n",
       "      <td>NaN</td>\n",
       "      <td>NaN</td>\n",
       "      <td>NaN</td>\n",
       "      <td>1.0</td>\n",
       "    </tr>\n",
       "    <tr>\n",
       "      <th>9650</th>\n",
       "      <th>2</th>\n",
       "      <td>NaN</td>\n",
       "      <td>NaN</td>\n",
       "      <td>NaN</td>\n",
       "      <td>NaN</td>\n",
       "      <td>1.0</td>\n",
       "    </tr>\n",
       "  </tbody>\n",
       "</table>\n",
       "</div>"
      ],
      "text/plain": [
       "           likes_v  replies_v  mentions_v  reacts_v  follows_v\n",
       "i    j                                                        \n",
       "3866 4091      NaN        NaN         NaN       NaN        1.0\n",
       "716  4341      NaN        1.0         NaN       NaN        NaN\n",
       "424  27        NaN        NaN         NaN       NaN        1.0\n",
       "283  578       NaN        NaN         NaN       NaN        1.0\n",
       "3514 463       NaN        NaN         NaN       NaN        1.0\n",
       "8062 194       NaN        NaN         NaN       NaN        1.0\n",
       "9523 1287      NaN        NaN         NaN       NaN        1.0\n",
       "8106 60        NaN        NaN         NaN       NaN        1.0\n",
       "7675 1655      NaN        NaN         NaN       NaN        1.0\n",
       "9650 2         NaN        NaN         NaN       NaN        1.0"
      ]
     },
     "execution_count": 27,
     "metadata": {},
     "output_type": "execute_result"
    }
   ],
   "source": [
    "df.sample(10)"
   ]
  },
  {
   "cell_type": "code",
   "execution_count": null,
   "id": "7ce14311-bd2f-4e33-b9cc-450951466339",
   "metadata": {},
   "outputs": [],
   "source": []
  }
 ],
 "metadata": {
  "kernelspec": {
   "display_name": "k3ldata-env3",
   "language": "python",
   "name": "k3ldata-env3"
  },
  "language_info": {
   "codemirror_mode": {
    "name": "ipython",
    "version": 3
   },
   "file_extension": ".py",
   "mimetype": "text/x-python",
   "name": "python",
   "nbconvert_exporter": "python",
   "pygments_lexer": "ipython3",
   "version": "3.8.9"
  }
 },
 "nbformat": 4,
 "nbformat_minor": 5
}
