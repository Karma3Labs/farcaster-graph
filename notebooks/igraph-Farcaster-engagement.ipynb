{
 "cells": [
  {
   "cell_type": "code",
   "execution_count": 3,
   "id": "8e31c310",
   "metadata": {},
   "outputs": [],
   "source": [
    "import igraph as ig\n",
    "import pandas as pd\n",
    "import os"
   ]
  },
  {
   "cell_type": "code",
   "execution_count": 4,
   "id": "6bbce68d",
   "metadata": {},
   "outputs": [
    {
     "data": {
      "text/plain": [
       "['lt_l1rep6rec3m12enhancedConnections.csv', 'lt_existingConnections.csv']"
      ]
     },
     "execution_count": 4,
     "metadata": {},
     "output_type": "execute_result"
    }
   ],
   "source": [
    "os.listdir(\"data/\")"
   ]
  },
  {
   "cell_type": "code",
   "execution_count": 11,
   "id": "970439b6",
   "metadata": {},
   "outputs": [
    {
     "name": "stdout",
     "output_type": "stream",
     "text": [
      "CPU times: user 2.3 s, sys: 338 ms, total: 2.64 s\n",
      "Wall time: 2.96 s\n"
     ]
    }
   ],
   "source": [
    "%%time\n",
    "edges_df = pd.read_csv(\"data/lt_l1rep6rec3m12enhancedConnections.csv\")"
   ]
  },
  {
   "cell_type": "code",
   "execution_count": 12,
   "id": "5fd15456",
   "metadata": {},
   "outputs": [
    {
     "name": "stdout",
     "output_type": "stream",
     "text": [
      "<class 'pandas.core.frame.DataFrame'>\n",
      "RangeIndex: 3456854 entries, 0 to 3456853\n",
      "Data columns (total 3 columns):\n",
      " #   Column  Dtype \n",
      "---  ------  ----- \n",
      " 0   i       object\n",
      " 1   j       object\n",
      " 2   v       int64 \n",
      "dtypes: int64(1), object(2)\n",
      "memory usage: 79.1+ MB\n"
     ]
    }
   ],
   "source": [
    "edges_df.info()"
   ]
  },
  {
   "cell_type": "code",
   "execution_count": 13,
   "id": "6aa0ae0a",
   "metadata": {},
   "outputs": [
    {
     "name": "stdout",
     "output_type": "stream",
     "text": [
      "False\n"
     ]
    }
   ],
   "source": [
    "gml_filepath = \"data/fc_l1rep6rec3m12enhancedConnections.gml\"\n",
    "print(os.path.isfile(gml_filepath))"
   ]
  },
  {
   "cell_type": "code",
   "execution_count": 14,
   "id": "e03d35c5",
   "metadata": {},
   "outputs": [
    {
     "name": "stdout",
     "output_type": "stream",
     "text": [
      "CPU times: user 9.15 s, sys: 1.21 s, total: 10.4 s\n",
      "Wall time: 12 s\n"
     ]
    }
   ],
   "source": [
    "%%time\n",
    "if os.path.isfile(gml_filepath):\n",
    "    print(\"loading existing graph model\")\n",
    "    g = ig.load(gml_filepath)\n",
    "else:\n",
    "    g = ig.Graph.DataFrame(edges_df, directed=True, use_vids=False)\n",
    "    g.save(gml_filepath)"
   ]
  },
  {
   "cell_type": "code",
   "execution_count": 15,
   "id": "4f1285d8",
   "metadata": {},
   "outputs": [
    {
     "name": "stdout",
     "output_type": "stream",
     "text": [
      "IGRAPH DN-- 44784 3456854 -- \n",
      "+ attr: name (v), v (e)\n"
     ]
    }
   ],
   "source": [
    "ig.summary(g)"
   ]
  },
  {
   "cell_type": "code",
   "execution_count": 67,
   "id": "b17f073e",
   "metadata": {},
   "outputs": [
    {
     "data": {
      "text/plain": [
       "[242]"
      ]
     },
     "execution_count": 67,
     "metadata": {},
     "output_type": "execute_result"
    }
   ],
   "source": [
    "g.degree([\"0x0a860752374e8430b7ae704df85b24d6f6b9adf4\"], mode=\"out\")"
   ]
  },
  {
   "cell_type": "code",
   "execution_count": 68,
   "id": "bb651c34",
   "metadata": {},
   "outputs": [
    {
     "name": "stdout",
     "output_type": "stream",
     "text": [
      "CPU times: user 283 µs, sys: 614 µs, total: 897 µs\n",
      "Wall time: 2.44 ms\n"
     ]
    }
   ],
   "source": [
    "%%time\n",
    "mindist = 1 # exclude the input vertex\n",
    "order = 1\n",
    "k1 = g.neighborhood(['0x0a860752374e8430b7ae704df85b24d6f6b9adf4'], order=order, mode=\"out\", mindist=mindist)"
   ]
  },
  {
   "cell_type": "code",
   "execution_count": 69,
   "id": "e858d801",
   "metadata": {},
   "outputs": [
    {
     "data": {
      "text/plain": [
       "242"
      ]
     },
     "execution_count": 69,
     "metadata": {},
     "output_type": "execute_result"
    }
   ],
   "source": [
    "len(k1[0])"
   ]
  },
  {
   "cell_type": "code",
   "execution_count": 72,
   "id": "6d033f12",
   "metadata": {},
   "outputs": [
    {
     "name": "stdout",
     "output_type": "stream",
     "text": [
      "CPU times: user 2.3 ms, sys: 18.7 ms, total: 21 ms\n",
      "Wall time: 42 ms\n"
     ]
    }
   ],
   "source": [
    "%%time\n",
    "mindist = 2 # exclude k1\n",
    "order = 2\n",
    "k2 = g.neighborhood(['0x0a860752374e8430b7ae704df85b24d6f6b9adf4'], order=order, mode=\"out\", mindist=mindist)"
   ]
  },
  {
   "cell_type": "code",
   "execution_count": 73,
   "id": "1edd2a88",
   "metadata": {},
   "outputs": [
    {
     "data": {
      "text/plain": [
       "14057"
      ]
     },
     "execution_count": 73,
     "metadata": {},
     "output_type": "execute_result"
    }
   ],
   "source": [
    "len(k2[0])"
   ]
  },
  {
   "cell_type": "code",
   "execution_count": 74,
   "id": "33c42d15",
   "metadata": {},
   "outputs": [
    {
     "name": "stdout",
     "output_type": "stream",
     "text": [
      "CPU times: user 20.1 ms, sys: 51.4 ms, total: 71.5 ms\n",
      "Wall time: 87.2 ms\n"
     ]
    }
   ],
   "source": [
    "%%time\n",
    "mindist = 3 # exclude k2\n",
    "order = 3\n",
    "k3 = g.neighborhood(['0x0a860752374e8430b7ae704df85b24d6f6b9adf4'], order=order, mode=\"out\", mindist=mindist)"
   ]
  },
  {
   "cell_type": "code",
   "execution_count": 75,
   "id": "09af8ff8",
   "metadata": {},
   "outputs": [
    {
     "data": {
      "text/plain": [
       "19516"
      ]
     },
     "execution_count": 75,
     "metadata": {},
     "output_type": "execute_result"
    }
   ],
   "source": [
    "len(k3[0])"
   ]
  },
  {
   "cell_type": "code",
   "execution_count": 76,
   "id": "52345968",
   "metadata": {},
   "outputs": [
    {
     "name": "stdout",
     "output_type": "stream",
     "text": [
      "CPU times: user 17.3 ms, sys: 10.6 ms, total: 27.9 ms\n",
      "Wall time: 31.3 ms\n"
     ]
    }
   ],
   "source": [
    "%%time\n",
    "mindist = 4 # exclude k3\n",
    "order = 4\n",
    "k4 = g.neighborhood(['0x0a860752374e8430b7ae704df85b24d6f6b9adf4'], order=order, mode=\"out\", mindist=mindist)"
   ]
  },
  {
   "cell_type": "code",
   "execution_count": 77,
   "id": "718e4486",
   "metadata": {},
   "outputs": [
    {
     "data": {
      "text/plain": [
       "1018"
      ]
     },
     "execution_count": 77,
     "metadata": {},
     "output_type": "execute_result"
    }
   ],
   "source": [
    "len(k4[0])"
   ]
  },
  {
   "cell_type": "code",
   "execution_count": 45,
   "id": "ad5b6b0c",
   "metadata": {},
   "outputs": [
    {
     "data": {
      "text/plain": [
       "664"
      ]
     },
     "execution_count": 45,
     "metadata": {},
     "output_type": "execute_result"
    }
   ],
   "source": [
    "g.vs.find(name='0x0ee0e0d0d396c2e3ce3a0496c2aa0892db860662').index"
   ]
  },
  {
   "cell_type": "code",
   "execution_count": 46,
   "id": "66479221",
   "metadata": {},
   "outputs": [
    {
     "data": {
      "text/plain": [
       "5024"
      ]
     },
     "execution_count": 46,
     "metadata": {},
     "output_type": "execute_result"
    }
   ],
   "source": [
    "g.vs.find(name='0x0a860752374e8430b7ae704df85b24d6f6b9adf4').index"
   ]
  },
  {
   "cell_type": "code",
   "execution_count": 143,
   "id": "f38f41d6",
   "metadata": {},
   "outputs": [
    {
     "data": {
      "text/plain": [
       "[igraph.Edge(<igraph.Graph object at 0x1197bdb40>, 116302, {'v': 24}),\n",
       " igraph.Edge(<igraph.Graph object at 0x1197bdb40>, 116324, {'v': 1}),\n",
       " igraph.Edge(<igraph.Graph object at 0x1197bdb40>, 116325, {'v': 1}),\n",
       " igraph.Edge(<igraph.Graph object at 0x1197bdb40>, 116326, {'v': 1}),\n",
       " igraph.Edge(<igraph.Graph object at 0x1197bdb40>, 116327, {'v': 13})]"
      ]
     },
     "execution_count": 143,
     "metadata": {},
     "output_type": "execute_result"
    }
   ],
   "source": [
    "g.vs.find(name='0x0a860752374e8430b7ae704df85b24d6f6b9adf4').out_edges()[:5]"
   ]
  },
  {
   "cell_type": "code",
   "execution_count": 149,
   "id": "bf534296",
   "metadata": {},
   "outputs": [
    {
     "data": {
      "text/plain": [
       "[igraph.Edge(<igraph.Graph object at 0x1197bdb40>, 0, {'v': 7}),\n",
       " igraph.Edge(<igraph.Graph object at 0x1197bdb40>, 375279, {'v': 1}),\n",
       " igraph.Edge(<igraph.Graph object at 0x1197bdb40>, 375280, {'v': 14}),\n",
       " igraph.Edge(<igraph.Graph object at 0x1197bdb40>, 375281, {'v': 1}),\n",
       " igraph.Edge(<igraph.Graph object at 0x1197bdb40>, 375282, {'v': 14}),\n",
       " igraph.Edge(<igraph.Graph object at 0x1197bdb40>, 375283, {'v': 2}),\n",
       " igraph.Edge(<igraph.Graph object at 0x1197bdb40>, 375284, {'v': 1}),\n",
       " igraph.Edge(<igraph.Graph object at 0x1197bdb40>, 375285, {'v': 6}),\n",
       " igraph.Edge(<igraph.Graph object at 0x1197bdb40>, 375286, {'v': 1}),\n",
       " igraph.Edge(<igraph.Graph object at 0x1197bdb40>, 375287, {'v': 1}),\n",
       " igraph.Edge(<igraph.Graph object at 0x1197bdb40>, 375288, {'v': 7}),\n",
       " igraph.Edge(<igraph.Graph object at 0x1197bdb40>, 375289, {'v': 1}),\n",
       " igraph.Edge(<igraph.Graph object at 0x1197bdb40>, 375290, {'v': 1}),\n",
       " igraph.Edge(<igraph.Graph object at 0x1197bdb40>, 375291, {'v': 1}),\n",
       " igraph.Edge(<igraph.Graph object at 0x1197bdb40>, 375292, {'v': 1}),\n",
       " igraph.Edge(<igraph.Graph object at 0x1197bdb40>, 375293, {'v': 1}),\n",
       " igraph.Edge(<igraph.Graph object at 0x1197bdb40>, 375294, {'v': 1}),\n",
       " igraph.Edge(<igraph.Graph object at 0x1197bdb40>, 375295, {'v': 1}),\n",
       " igraph.Edge(<igraph.Graph object at 0x1197bdb40>, 375296, {'v': 1}),\n",
       " igraph.Edge(<igraph.Graph object at 0x1197bdb40>, 375297, {'v': 43}),\n",
       " igraph.Edge(<igraph.Graph object at 0x1197bdb40>, 375298, {'v': 1}),\n",
       " igraph.Edge(<igraph.Graph object at 0x1197bdb40>, 375299, {'v': 1}),\n",
       " igraph.Edge(<igraph.Graph object at 0x1197bdb40>, 375300, {'v': 2}),\n",
       " igraph.Edge(<igraph.Graph object at 0x1197bdb40>, 375301, {'v': 1}),\n",
       " igraph.Edge(<igraph.Graph object at 0x1197bdb40>, 375302, {'v': 10}),\n",
       " igraph.Edge(<igraph.Graph object at 0x1197bdb40>, 375303, {'v': 7}),\n",
       " igraph.Edge(<igraph.Graph object at 0x1197bdb40>, 375304, {'v': 1}),\n",
       " igraph.Edge(<igraph.Graph object at 0x1197bdb40>, 375305, {'v': 1}),\n",
       " igraph.Edge(<igraph.Graph object at 0x1197bdb40>, 375306, {'v': 3}),\n",
       " igraph.Edge(<igraph.Graph object at 0x1197bdb40>, 375307, {'v': 1}),\n",
       " igraph.Edge(<igraph.Graph object at 0x1197bdb40>, 375308, {'v': 2}),\n",
       " igraph.Edge(<igraph.Graph object at 0x1197bdb40>, 375309, {'v': 1}),\n",
       " igraph.Edge(<igraph.Graph object at 0x1197bdb40>, 375310, {'v': 69}),\n",
       " igraph.Edge(<igraph.Graph object at 0x1197bdb40>, 375311, {'v': 7}),\n",
       " igraph.Edge(<igraph.Graph object at 0x1197bdb40>, 375312, {'v': 2}),\n",
       " igraph.Edge(<igraph.Graph object at 0x1197bdb40>, 375313, {'v': 71}),\n",
       " igraph.Edge(<igraph.Graph object at 0x1197bdb40>, 375314, {'v': 1}),\n",
       " igraph.Edge(<igraph.Graph object at 0x1197bdb40>, 375315, {'v': 1}),\n",
       " igraph.Edge(<igraph.Graph object at 0x1197bdb40>, 375316, {'v': 1}),\n",
       " igraph.Edge(<igraph.Graph object at 0x1197bdb40>, 375317, {'v': 30}),\n",
       " igraph.Edge(<igraph.Graph object at 0x1197bdb40>, 375318, {'v': 1}),\n",
       " igraph.Edge(<igraph.Graph object at 0x1197bdb40>, 375319, {'v': 10}),\n",
       " igraph.Edge(<igraph.Graph object at 0x1197bdb40>, 375320, {'v': 102}),\n",
       " igraph.Edge(<igraph.Graph object at 0x1197bdb40>, 375321, {'v': 14}),\n",
       " igraph.Edge(<igraph.Graph object at 0x1197bdb40>, 375322, {'v': 1}),\n",
       " igraph.Edge(<igraph.Graph object at 0x1197bdb40>, 375323, {'v': 2}),\n",
       " igraph.Edge(<igraph.Graph object at 0x1197bdb40>, 375324, {'v': 1}),\n",
       " igraph.Edge(<igraph.Graph object at 0x1197bdb40>, 375325, {'v': 26}),\n",
       " igraph.Edge(<igraph.Graph object at 0x1197bdb40>, 375326, {'v': 1}),\n",
       " igraph.Edge(<igraph.Graph object at 0x1197bdb40>, 375327, {'v': 1}),\n",
       " igraph.Edge(<igraph.Graph object at 0x1197bdb40>, 375328, {'v': 1}),\n",
       " igraph.Edge(<igraph.Graph object at 0x1197bdb40>, 375329, {'v': 1}),\n",
       " igraph.Edge(<igraph.Graph object at 0x1197bdb40>, 375330, {'v': 1}),\n",
       " igraph.Edge(<igraph.Graph object at 0x1197bdb40>, 375331, {'v': 13}),\n",
       " igraph.Edge(<igraph.Graph object at 0x1197bdb40>, 375332, {'v': 1}),\n",
       " igraph.Edge(<igraph.Graph object at 0x1197bdb40>, 375333, {'v': 1}),\n",
       " igraph.Edge(<igraph.Graph object at 0x1197bdb40>, 375334, {'v': 1}),\n",
       " igraph.Edge(<igraph.Graph object at 0x1197bdb40>, 375335, {'v': 76}),\n",
       " igraph.Edge(<igraph.Graph object at 0x1197bdb40>, 375336, {'v': 2}),\n",
       " igraph.Edge(<igraph.Graph object at 0x1197bdb40>, 375337, {'v': 4}),\n",
       " igraph.Edge(<igraph.Graph object at 0x1197bdb40>, 375338, {'v': 7}),\n",
       " igraph.Edge(<igraph.Graph object at 0x1197bdb40>, 375339, {'v': 7}),\n",
       " igraph.Edge(<igraph.Graph object at 0x1197bdb40>, 375340, {'v': 1}),\n",
       " igraph.Edge(<igraph.Graph object at 0x1197bdb40>, 375341, {'v': 1}),\n",
       " igraph.Edge(<igraph.Graph object at 0x1197bdb40>, 375342, {'v': 2}),\n",
       " igraph.Edge(<igraph.Graph object at 0x1197bdb40>, 375343, {'v': 1}),\n",
       " igraph.Edge(<igraph.Graph object at 0x1197bdb40>, 375344, {'v': 13}),\n",
       " igraph.Edge(<igraph.Graph object at 0x1197bdb40>, 375345, {'v': 5}),\n",
       " igraph.Edge(<igraph.Graph object at 0x1197bdb40>, 375346, {'v': 1}),\n",
       " igraph.Edge(<igraph.Graph object at 0x1197bdb40>, 375500, {'v': 1}),\n",
       " igraph.Edge(<igraph.Graph object at 0x1197bdb40>, 375501, {'v': 17}),\n",
       " igraph.Edge(<igraph.Graph object at 0x1197bdb40>, 375502, {'v': 97}),\n",
       " igraph.Edge(<igraph.Graph object at 0x1197bdb40>, 375503, {'v': 3}),\n",
       " igraph.Edge(<igraph.Graph object at 0x1197bdb40>, 375504, {'v': 35}),\n",
       " igraph.Edge(<igraph.Graph object at 0x1197bdb40>, 375505, {'v': 1}),\n",
       " igraph.Edge(<igraph.Graph object at 0x1197bdb40>, 375506, {'v': 7}),\n",
       " igraph.Edge(<igraph.Graph object at 0x1197bdb40>, 375507, {'v': 52}),\n",
       " igraph.Edge(<igraph.Graph object at 0x1197bdb40>, 375508, {'v': 7}),\n",
       " igraph.Edge(<igraph.Graph object at 0x1197bdb40>, 375509, {'v': 1}),\n",
       " igraph.Edge(<igraph.Graph object at 0x1197bdb40>, 375510, {'v': 2}),\n",
       " igraph.Edge(<igraph.Graph object at 0x1197bdb40>, 375511, {'v': 1}),\n",
       " igraph.Edge(<igraph.Graph object at 0x1197bdb40>, 375512, {'v': 1}),\n",
       " igraph.Edge(<igraph.Graph object at 0x1197bdb40>, 375513, {'v': 2}),\n",
       " igraph.Edge(<igraph.Graph object at 0x1197bdb40>, 375514, {'v': 1}),\n",
       " igraph.Edge(<igraph.Graph object at 0x1197bdb40>, 375515, {'v': 31}),\n",
       " igraph.Edge(<igraph.Graph object at 0x1197bdb40>, 374260, {'v': 105}),\n",
       " igraph.Edge(<igraph.Graph object at 0x1197bdb40>, 374251, {'v': 19}),\n",
       " igraph.Edge(<igraph.Graph object at 0x1197bdb40>, 374252, {'v': 2}),\n",
       " igraph.Edge(<igraph.Graph object at 0x1197bdb40>, 374253, {'v': 1}),\n",
       " igraph.Edge(<igraph.Graph object at 0x1197bdb40>, 374254, {'v': 67}),\n",
       " igraph.Edge(<igraph.Graph object at 0x1197bdb40>, 374255, {'v': 55}),\n",
       " igraph.Edge(<igraph.Graph object at 0x1197bdb40>, 374256, {'v': 4}),\n",
       " igraph.Edge(<igraph.Graph object at 0x1197bdb40>, 374257, {'v': 7}),\n",
       " igraph.Edge(<igraph.Graph object at 0x1197bdb40>, 374258, {'v': 1}),\n",
       " igraph.Edge(<igraph.Graph object at 0x1197bdb40>, 374259, {'v': 9}),\n",
       " igraph.Edge(<igraph.Graph object at 0x1197bdb40>, 374261, {'v': 44}),\n",
       " igraph.Edge(<igraph.Graph object at 0x1197bdb40>, 374263, {'v': 2}),\n",
       " igraph.Edge(<igraph.Graph object at 0x1197bdb40>, 374264, {'v': 99}),\n",
       " igraph.Edge(<igraph.Graph object at 0x1197bdb40>, 374267, {'v': 1}),\n",
       " igraph.Edge(<igraph.Graph object at 0x1197bdb40>, 374268, {'v': 1}),\n",
       " igraph.Edge(<igraph.Graph object at 0x1197bdb40>, 374270, {'v': 251}),\n",
       " igraph.Edge(<igraph.Graph object at 0x1197bdb40>, 374271, {'v': 1}),\n",
       " igraph.Edge(<igraph.Graph object at 0x1197bdb40>, 374272, {'v': 7}),\n",
       " igraph.Edge(<igraph.Graph object at 0x1197bdb40>, 374273, {'v': 7}),\n",
       " igraph.Edge(<igraph.Graph object at 0x1197bdb40>, 374274, {'v': 70}),\n",
       " igraph.Edge(<igraph.Graph object at 0x1197bdb40>, 374275, {'v': 109}),\n",
       " igraph.Edge(<igraph.Graph object at 0x1197bdb40>, 374276, {'v': 16}),\n",
       " igraph.Edge(<igraph.Graph object at 0x1197bdb40>, 374277, {'v': 18}),\n",
       " igraph.Edge(<igraph.Graph object at 0x1197bdb40>, 374278, {'v': 378}),\n",
       " igraph.Edge(<igraph.Graph object at 0x1197bdb40>, 374279, {'v': 21}),\n",
       " igraph.Edge(<igraph.Graph object at 0x1197bdb40>, 374280, {'v': 8}),\n",
       " igraph.Edge(<igraph.Graph object at 0x1197bdb40>, 374281, {'v': 143}),\n",
       " igraph.Edge(<igraph.Graph object at 0x1197bdb40>, 374282, {'v': 1}),\n",
       " igraph.Edge(<igraph.Graph object at 0x1197bdb40>, 374284, {'v': 1}),\n",
       " igraph.Edge(<igraph.Graph object at 0x1197bdb40>, 374285, {'v': 1}),\n",
       " igraph.Edge(<igraph.Graph object at 0x1197bdb40>, 374286, {'v': 1}),\n",
       " igraph.Edge(<igraph.Graph object at 0x1197bdb40>, 374287, {'v': 1}),\n",
       " igraph.Edge(<igraph.Graph object at 0x1197bdb40>, 374288, {'v': 9}),\n",
       " igraph.Edge(<igraph.Graph object at 0x1197bdb40>, 374289, {'v': 7}),\n",
       " igraph.Edge(<igraph.Graph object at 0x1197bdb40>, 374291, {'v': 67}),\n",
       " igraph.Edge(<igraph.Graph object at 0x1197bdb40>, 374292, {'v': 8}),\n",
       " igraph.Edge(<igraph.Graph object at 0x1197bdb40>, 374293, {'v': 350}),\n",
       " igraph.Edge(<igraph.Graph object at 0x1197bdb40>, 374294, {'v': 2}),\n",
       " igraph.Edge(<igraph.Graph object at 0x1197bdb40>, 374295, {'v': 1}),\n",
       " igraph.Edge(<igraph.Graph object at 0x1197bdb40>, 374296, {'v': 1}),\n",
       " igraph.Edge(<igraph.Graph object at 0x1197bdb40>, 374297, {'v': 7}),\n",
       " igraph.Edge(<igraph.Graph object at 0x1197bdb40>, 374298, {'v': 170}),\n",
       " igraph.Edge(<igraph.Graph object at 0x1197bdb40>, 374299, {'v': 1}),\n",
       " igraph.Edge(<igraph.Graph object at 0x1197bdb40>, 374300, {'v': 3}),\n",
       " igraph.Edge(<igraph.Graph object at 0x1197bdb40>, 374301, {'v': 74}),\n",
       " igraph.Edge(<igraph.Graph object at 0x1197bdb40>, 374302, {'v': 1}),\n",
       " igraph.Edge(<igraph.Graph object at 0x1197bdb40>, 374304, {'v': 7}),\n",
       " igraph.Edge(<igraph.Graph object at 0x1197bdb40>, 374305, {'v': 24}),\n",
       " igraph.Edge(<igraph.Graph object at 0x1197bdb40>, 374306, {'v': 7}),\n",
       " igraph.Edge(<igraph.Graph object at 0x1197bdb40>, 374307, {'v': 345}),\n",
       " igraph.Edge(<igraph.Graph object at 0x1197bdb40>, 374471, {'v': 310}),\n",
       " igraph.Edge(<igraph.Graph object at 0x1197bdb40>, 374472, {'v': 107}),\n",
       " igraph.Edge(<igraph.Graph object at 0x1197bdb40>, 374474, {'v': 1}),\n",
       " igraph.Edge(<igraph.Graph object at 0x1197bdb40>, 374475, {'v': 1}),\n",
       " igraph.Edge(<igraph.Graph object at 0x1197bdb40>, 374476, {'v': 1}),\n",
       " igraph.Edge(<igraph.Graph object at 0x1197bdb40>, 374479, {'v': 1}),\n",
       " igraph.Edge(<igraph.Graph object at 0x1197bdb40>, 374480, {'v': 5}),\n",
       " igraph.Edge(<igraph.Graph object at 0x1197bdb40>, 374483, {'v': 317}),\n",
       " igraph.Edge(<igraph.Graph object at 0x1197bdb40>, 374484, {'v': 33}),\n",
       " igraph.Edge(<igraph.Graph object at 0x1197bdb40>, 374485, {'v': 59}),\n",
       " igraph.Edge(<igraph.Graph object at 0x1197bdb40>, 374486, {'v': 7}),\n",
       " igraph.Edge(<igraph.Graph object at 0x1197bdb40>, 374488, {'v': 123}),\n",
       " igraph.Edge(<igraph.Graph object at 0x1197bdb40>, 374489, {'v': 7}),\n",
       " igraph.Edge(<igraph.Graph object at 0x1197bdb40>, 374492, {'v': 1}),\n",
       " igraph.Edge(<igraph.Graph object at 0x1197bdb40>, 374493, {'v': 305}),\n",
       " igraph.Edge(<igraph.Graph object at 0x1197bdb40>, 374495, {'v': 1}),\n",
       " igraph.Edge(<igraph.Graph object at 0x1197bdb40>, 374496, {'v': 160}),\n",
       " igraph.Edge(<igraph.Graph object at 0x1197bdb40>, 374497, {'v': 13}),\n",
       " igraph.Edge(<igraph.Graph object at 0x1197bdb40>, 374498, {'v': 1}),\n",
       " igraph.Edge(<igraph.Graph object at 0x1197bdb40>, 374499, {'v': 1}),\n",
       " igraph.Edge(<igraph.Graph object at 0x1197bdb40>, 374500, {'v': 2}),\n",
       " igraph.Edge(<igraph.Graph object at 0x1197bdb40>, 374502, {'v': 194}),\n",
       " igraph.Edge(<igraph.Graph object at 0x1197bdb40>, 374503, {'v': 15}),\n",
       " igraph.Edge(<igraph.Graph object at 0x1197bdb40>, 374504, {'v': 1}),\n",
       " igraph.Edge(<igraph.Graph object at 0x1197bdb40>, 374505, {'v': 225}),\n",
       " igraph.Edge(<igraph.Graph object at 0x1197bdb40>, 374506, {'v': 126}),\n",
       " igraph.Edge(<igraph.Graph object at 0x1197bdb40>, 374507, {'v': 2}),\n",
       " igraph.Edge(<igraph.Graph object at 0x1197bdb40>, 374508, {'v': 8}),\n",
       " igraph.Edge(<igraph.Graph object at 0x1197bdb40>, 374509, {'v': 11}),\n",
       " igraph.Edge(<igraph.Graph object at 0x1197bdb40>, 374510, {'v': 62}),\n",
       " igraph.Edge(<igraph.Graph object at 0x1197bdb40>, 374511, {'v': 7}),\n",
       " igraph.Edge(<igraph.Graph object at 0x1197bdb40>, 374513, {'v': 1}),\n",
       " igraph.Edge(<igraph.Graph object at 0x1197bdb40>, 374514, {'v': 1}),\n",
       " igraph.Edge(<igraph.Graph object at 0x1197bdb40>, 374515, {'v': 7}),\n",
       " igraph.Edge(<igraph.Graph object at 0x1197bdb40>, 374516, {'v': 3}),\n",
       " igraph.Edge(<igraph.Graph object at 0x1197bdb40>, 374517, {'v': 1}),\n",
       " igraph.Edge(<igraph.Graph object at 0x1197bdb40>, 374518, {'v': 19}),\n",
       " igraph.Edge(<igraph.Graph object at 0x1197bdb40>, 374519, {'v': 13}),\n",
       " igraph.Edge(<igraph.Graph object at 0x1197bdb40>, 374520, {'v': 1}),\n",
       " igraph.Edge(<igraph.Graph object at 0x1197bdb40>, 374521, {'v': 1}),\n",
       " igraph.Edge(<igraph.Graph object at 0x1197bdb40>, 374522, {'v': 1}),\n",
       " igraph.Edge(<igraph.Graph object at 0x1197bdb40>, 374523, {'v': 3}),\n",
       " igraph.Edge(<igraph.Graph object at 0x1197bdb40>, 374525, {'v': 2}),\n",
       " igraph.Edge(<igraph.Graph object at 0x1197bdb40>, 374526, {'v': 1}),\n",
       " igraph.Edge(<igraph.Graph object at 0x1197bdb40>, 374527, {'v': 448}),\n",
       " igraph.Edge(<igraph.Graph object at 0x1197bdb40>, 374528, {'v': 43}),\n",
       " igraph.Edge(<igraph.Graph object at 0x1197bdb40>, 374529, {'v': 1}),\n",
       " igraph.Edge(<igraph.Graph object at 0x1197bdb40>, 374530, {'v': 13}),\n",
       " igraph.Edge(<igraph.Graph object at 0x1197bdb40>, 374531, {'v': 1}),\n",
       " igraph.Edge(<igraph.Graph object at 0x1197bdb40>, 374532, {'v': 1}),\n",
       " igraph.Edge(<igraph.Graph object at 0x1197bdb40>, 374534, {'v': 1}),\n",
       " igraph.Edge(<igraph.Graph object at 0x1197bdb40>, 374535, {'v': 9}),\n",
       " igraph.Edge(<igraph.Graph object at 0x1197bdb40>, 374536, {'v': 14}),\n",
       " igraph.Edge(<igraph.Graph object at 0x1197bdb40>, 374537, {'v': 1}),\n",
       " igraph.Edge(<igraph.Graph object at 0x1197bdb40>, 374538, {'v': 43}),\n",
       " igraph.Edge(<igraph.Graph object at 0x1197bdb40>, 374539, {'v': 77}),\n",
       " igraph.Edge(<igraph.Graph object at 0x1197bdb40>, 374540, {'v': 1}),\n",
       " igraph.Edge(<igraph.Graph object at 0x1197bdb40>, 374541, {'v': 8}),\n",
       " igraph.Edge(<igraph.Graph object at 0x1197bdb40>, 374542, {'v': 1}),\n",
       " igraph.Edge(<igraph.Graph object at 0x1197bdb40>, 374543, {'v': 1}),\n",
       " igraph.Edge(<igraph.Graph object at 0x1197bdb40>, 374544, {'v': 19}),\n",
       " igraph.Edge(<igraph.Graph object at 0x1197bdb40>, 374545, {'v': 1}),\n",
       " igraph.Edge(<igraph.Graph object at 0x1197bdb40>, 374546, {'v': 26}),\n",
       " igraph.Edge(<igraph.Graph object at 0x1197bdb40>, 374547, {'v': 1}),\n",
       " igraph.Edge(<igraph.Graph object at 0x1197bdb40>, 374548, {'v': 2}),\n",
       " igraph.Edge(<igraph.Graph object at 0x1197bdb40>, 374549, {'v': 207}),\n",
       " igraph.Edge(<igraph.Graph object at 0x1197bdb40>, 374550, {'v': 1}),\n",
       " igraph.Edge(<igraph.Graph object at 0x1197bdb40>, 374551, {'v': 28}),\n",
       " igraph.Edge(<igraph.Graph object at 0x1197bdb40>, 374552, {'v': 18}),\n",
       " igraph.Edge(<igraph.Graph object at 0x1197bdb40>, 374555, {'v': 1}),\n",
       " igraph.Edge(<igraph.Graph object at 0x1197bdb40>, 374556, {'v': 1}),\n",
       " igraph.Edge(<igraph.Graph object at 0x1197bdb40>, 374557, {'v': 1}),\n",
       " igraph.Edge(<igraph.Graph object at 0x1197bdb40>, 374563, {'v': 19}),\n",
       " igraph.Edge(<igraph.Graph object at 0x1197bdb40>, 374564, {'v': 1}),\n",
       " igraph.Edge(<igraph.Graph object at 0x1197bdb40>, 374565, {'v': 15}),\n",
       " igraph.Edge(<igraph.Graph object at 0x1197bdb40>, 374567, {'v': 43}),\n",
       " igraph.Edge(<igraph.Graph object at 0x1197bdb40>, 374569, {'v': 17}),\n",
       " igraph.Edge(<igraph.Graph object at 0x1197bdb40>, 374570, {'v': 1}),\n",
       " igraph.Edge(<igraph.Graph object at 0x1197bdb40>, 374571, {'v': 1}),\n",
       " igraph.Edge(<igraph.Graph object at 0x1197bdb40>, 374572, {'v': 10}),\n",
       " igraph.Edge(<igraph.Graph object at 0x1197bdb40>, 374574, {'v': 13}),\n",
       " igraph.Edge(<igraph.Graph object at 0x1197bdb40>, 374575, {'v': 1}),\n",
       " igraph.Edge(<igraph.Graph object at 0x1197bdb40>, 374576, {'v': 1}),\n",
       " igraph.Edge(<igraph.Graph object at 0x1197bdb40>, 374577, {'v': 1}),\n",
       " igraph.Edge(<igraph.Graph object at 0x1197bdb40>, 374578, {'v': 55}),\n",
       " igraph.Edge(<igraph.Graph object at 0x1197bdb40>, 374579, {'v': 7}),\n",
       " igraph.Edge(<igraph.Graph object at 0x1197bdb40>, 374580, {'v': 7}),\n",
       " igraph.Edge(<igraph.Graph object at 0x1197bdb40>, 374581, {'v': 1}),\n",
       " igraph.Edge(<igraph.Graph object at 0x1197bdb40>, 374582, {'v': 1}),\n",
       " igraph.Edge(<igraph.Graph object at 0x1197bdb40>, 374584, {'v': 1}),\n",
       " igraph.Edge(<igraph.Graph object at 0x1197bdb40>, 374585, {'v': 7}),\n",
       " igraph.Edge(<igraph.Graph object at 0x1197bdb40>, 374587, {'v': 1}),\n",
       " igraph.Edge(<igraph.Graph object at 0x1197bdb40>, 374588, {'v': 1}),\n",
       " igraph.Edge(<igraph.Graph object at 0x1197bdb40>, 374589, {'v': 1}),\n",
       " igraph.Edge(<igraph.Graph object at 0x1197bdb40>, 374591, {'v': 1}),\n",
       " igraph.Edge(<igraph.Graph object at 0x1197bdb40>, 374592, {'v': 1}),\n",
       " igraph.Edge(<igraph.Graph object at 0x1197bdb40>, 374594, {'v': 2}),\n",
       " igraph.Edge(<igraph.Graph object at 0x1197bdb40>, 374595, {'v': 1}),\n",
       " igraph.Edge(<igraph.Graph object at 0x1197bdb40>, 374596, {'v': 3}),\n",
       " igraph.Edge(<igraph.Graph object at 0x1197bdb40>, 374597, {'v': 1}),\n",
       " igraph.Edge(<igraph.Graph object at 0x1197bdb40>, 374598, {'v': 7}),\n",
       " igraph.Edge(<igraph.Graph object at 0x1197bdb40>, 374599, {'v': 3}),\n",
       " igraph.Edge(<igraph.Graph object at 0x1197bdb40>, 374601, {'v': 7}),\n",
       " igraph.Edge(<igraph.Graph object at 0x1197bdb40>, 374603, {'v': 1}),\n",
       " igraph.Edge(<igraph.Graph object at 0x1197bdb40>, 374604, {'v': 7}),\n",
       " igraph.Edge(<igraph.Graph object at 0x1197bdb40>, 374605, {'v': 27}),\n",
       " igraph.Edge(<igraph.Graph object at 0x1197bdb40>, 374771, {'v': 7}),\n",
       " igraph.Edge(<igraph.Graph object at 0x1197bdb40>, 374774, {'v': 19}),\n",
       " igraph.Edge(<igraph.Graph object at 0x1197bdb40>, 374775, {'v': 7}),\n",
       " igraph.Edge(<igraph.Graph object at 0x1197bdb40>, 374776, {'v': 1}),\n",
       " igraph.Edge(<igraph.Graph object at 0x1197bdb40>, 374777, {'v': 1}),\n",
       " igraph.Edge(<igraph.Graph object at 0x1197bdb40>, 374780, {'v': 19}),\n",
       " igraph.Edge(<igraph.Graph object at 0x1197bdb40>, 374781, {'v': 1}),\n",
       " igraph.Edge(<igraph.Graph object at 0x1197bdb40>, 374782, {'v': 7}),\n",
       " igraph.Edge(<igraph.Graph object at 0x1197bdb40>, 374783, {'v': 1}),\n",
       " igraph.Edge(<igraph.Graph object at 0x1197bdb40>, 374784, {'v': 1}),\n",
       " igraph.Edge(<igraph.Graph object at 0x1197bdb40>, 374785, {'v': 117}),\n",
       " igraph.Edge(<igraph.Graph object at 0x1197bdb40>, 374786, {'v': 1}),\n",
       " igraph.Edge(<igraph.Graph object at 0x1197bdb40>, 374787, {'v': 1}),\n",
       " igraph.Edge(<igraph.Graph object at 0x1197bdb40>, 374788, {'v': 1}),\n",
       " igraph.Edge(<igraph.Graph object at 0x1197bdb40>, 374789, {'v': 1}),\n",
       " igraph.Edge(<igraph.Graph object at 0x1197bdb40>, 374791, {'v': 9}),\n",
       " igraph.Edge(<igraph.Graph object at 0x1197bdb40>, 374792, {'v': 50}),\n",
       " igraph.Edge(<igraph.Graph object at 0x1197bdb40>, 374793, {'v': 22}),\n",
       " igraph.Edge(<igraph.Graph object at 0x1197bdb40>, 374794, {'v': 1}),\n",
       " igraph.Edge(<igraph.Graph object at 0x1197bdb40>, 374796, {'v': 1}),\n",
       " igraph.Edge(<igraph.Graph object at 0x1197bdb40>, 374799, {'v': 13}),\n",
       " igraph.Edge(<igraph.Graph object at 0x1197bdb40>, 374800, {'v': 1}),\n",
       " igraph.Edge(<igraph.Graph object at 0x1197bdb40>, 374801, {'v': 16}),\n",
       " igraph.Edge(<igraph.Graph object at 0x1197bdb40>, 374803, {'v': 96}),\n",
       " igraph.Edge(<igraph.Graph object at 0x1197bdb40>, 374804, {'v': 1}),\n",
       " igraph.Edge(<igraph.Graph object at 0x1197bdb40>, 374805, {'v': 49}),\n",
       " igraph.Edge(<igraph.Graph object at 0x1197bdb40>, 374806, {'v': 1}),\n",
       " igraph.Edge(<igraph.Graph object at 0x1197bdb40>, 374809, {'v': 3}),\n",
       " igraph.Edge(<igraph.Graph object at 0x1197bdb40>, 374810, {'v': 19}),\n",
       " igraph.Edge(<igraph.Graph object at 0x1197bdb40>, 374811, {'v': 1}),\n",
       " igraph.Edge(<igraph.Graph object at 0x1197bdb40>, 374812, {'v': 13}),\n",
       " igraph.Edge(<igraph.Graph object at 0x1197bdb40>, 374813, {'v': 1}),\n",
       " igraph.Edge(<igraph.Graph object at 0x1197bdb40>, 374814, {'v': 13}),\n",
       " igraph.Edge(<igraph.Graph object at 0x1197bdb40>, 374815, {'v': 1}),\n",
       " igraph.Edge(<igraph.Graph object at 0x1197bdb40>, 374816, {'v': 1}),\n",
       " igraph.Edge(<igraph.Graph object at 0x1197bdb40>, 374818, {'v': 1}),\n",
       " igraph.Edge(<igraph.Graph object at 0x1197bdb40>, 374820, {'v': 1}),\n",
       " igraph.Edge(<igraph.Graph object at 0x1197bdb40>, 374821, {'v': 1}),\n",
       " igraph.Edge(<igraph.Graph object at 0x1197bdb40>, 374822, {'v': 1}),\n",
       " igraph.Edge(<igraph.Graph object at 0x1197bdb40>, 374823, {'v': 1}),\n",
       " igraph.Edge(<igraph.Graph object at 0x1197bdb40>, 374826, {'v': 58}),\n",
       " igraph.Edge(<igraph.Graph object at 0x1197bdb40>, 374827, {'v': 26}),\n",
       " igraph.Edge(<igraph.Graph object at 0x1197bdb40>, 374828, {'v': 1}),\n",
       " igraph.Edge(<igraph.Graph object at 0x1197bdb40>, 374829, {'v': 8}),\n",
       " igraph.Edge(<igraph.Graph object at 0x1197bdb40>, 374830, {'v': 1}),\n",
       " igraph.Edge(<igraph.Graph object at 0x1197bdb40>, 374832, {'v': 1}),\n",
       " igraph.Edge(<igraph.Graph object at 0x1197bdb40>, 374833, {'v': 10}),\n",
       " igraph.Edge(<igraph.Graph object at 0x1197bdb40>, 374835, {'v': 1}),\n",
       " igraph.Edge(<igraph.Graph object at 0x1197bdb40>, 374836, {'v': 1}),\n",
       " igraph.Edge(<igraph.Graph object at 0x1197bdb40>, 374837, {'v': 36}),\n",
       " igraph.Edge(<igraph.Graph object at 0x1197bdb40>, 374838, {'v': 21}),\n",
       " igraph.Edge(<igraph.Graph object at 0x1197bdb40>, 374839, {'v': 7}),\n",
       " igraph.Edge(<igraph.Graph object at 0x1197bdb40>, 374840, {'v': 39}),\n",
       " igraph.Edge(<igraph.Graph object at 0x1197bdb40>, 374843, {'v': 3}),\n",
       " igraph.Edge(<igraph.Graph object at 0x1197bdb40>, 374844, {'v': 30}),\n",
       " igraph.Edge(<igraph.Graph object at 0x1197bdb40>, 374845, {'v': 13}),\n",
       " igraph.Edge(<igraph.Graph object at 0x1197bdb40>, 374846, {'v': 56}),\n",
       " igraph.Edge(<igraph.Graph object at 0x1197bdb40>, 374847, {'v': 88}),\n",
       " igraph.Edge(<igraph.Graph object at 0x1197bdb40>, 374848, {'v': 23}),\n",
       " igraph.Edge(<igraph.Graph object at 0x1197bdb40>, 374849, {'v': 1}),\n",
       " igraph.Edge(<igraph.Graph object at 0x1197bdb40>, 374850, {'v': 11}),\n",
       " igraph.Edge(<igraph.Graph object at 0x1197bdb40>, 374851, {'v': 257}),\n",
       " igraph.Edge(<igraph.Graph object at 0x1197bdb40>, 374852, {'v': 7}),\n",
       " igraph.Edge(<igraph.Graph object at 0x1197bdb40>, 374853, {'v': 1}),\n",
       " igraph.Edge(<igraph.Graph object at 0x1197bdb40>, 374854, {'v': 7}),\n",
       " igraph.Edge(<igraph.Graph object at 0x1197bdb40>, 374857, {'v': 1}),\n",
       " igraph.Edge(<igraph.Graph object at 0x1197bdb40>, 374858, {'v': 8}),\n",
       " igraph.Edge(<igraph.Graph object at 0x1197bdb40>, 374861, {'v': 151}),\n",
       " igraph.Edge(<igraph.Graph object at 0x1197bdb40>, 374862, {'v': 10}),\n",
       " igraph.Edge(<igraph.Graph object at 0x1197bdb40>, 374863, {'v': 48}),\n",
       " igraph.Edge(<igraph.Graph object at 0x1197bdb40>, 374867, {'v': 1}),\n",
       " igraph.Edge(<igraph.Graph object at 0x1197bdb40>, 374868, {'v': 38}),\n",
       " igraph.Edge(<igraph.Graph object at 0x1197bdb40>, 374870, {'v': 1}),\n",
       " igraph.Edge(<igraph.Graph object at 0x1197bdb40>, 374871, {'v': 1}),\n",
       " igraph.Edge(<igraph.Graph object at 0x1197bdb40>, 374873, {'v': 7}),\n",
       " igraph.Edge(<igraph.Graph object at 0x1197bdb40>, 374876, {'v': 1}),\n",
       " igraph.Edge(<igraph.Graph object at 0x1197bdb40>, 374880, {'v': 1}),\n",
       " igraph.Edge(<igraph.Graph object at 0x1197bdb40>, 374881, {'v': 2}),\n",
       " igraph.Edge(<igraph.Graph object at 0x1197bdb40>, 374882, {'v': 9}),\n",
       " igraph.Edge(<igraph.Graph object at 0x1197bdb40>, 374883, {'v': 1}),\n",
       " igraph.Edge(<igraph.Graph object at 0x1197bdb40>, 374884, {'v': 1}),\n",
       " igraph.Edge(<igraph.Graph object at 0x1197bdb40>, 374885, {'v': 1}),\n",
       " igraph.Edge(<igraph.Graph object at 0x1197bdb40>, 374886, {'v': 1}),\n",
       " igraph.Edge(<igraph.Graph object at 0x1197bdb40>, 374887, {'v': 2}),\n",
       " igraph.Edge(<igraph.Graph object at 0x1197bdb40>, 374888, {'v': 132}),\n",
       " igraph.Edge(<igraph.Graph object at 0x1197bdb40>, 374889, {'v': 1}),\n",
       " igraph.Edge(<igraph.Graph object at 0x1197bdb40>, 374891, {'v': 87}),\n",
       " igraph.Edge(<igraph.Graph object at 0x1197bdb40>, 374892, {'v': 2}),\n",
       " igraph.Edge(<igraph.Graph object at 0x1197bdb40>, 374893, {'v': 16}),\n",
       " igraph.Edge(<igraph.Graph object at 0x1197bdb40>, 374895, {'v': 1}),\n",
       " igraph.Edge(<igraph.Graph object at 0x1197bdb40>, 374896, {'v': 1}),\n",
       " igraph.Edge(<igraph.Graph object at 0x1197bdb40>, 374897, {'v': 1}),\n",
       " igraph.Edge(<igraph.Graph object at 0x1197bdb40>, 374898, {'v': 19}),\n",
       " igraph.Edge(<igraph.Graph object at 0x1197bdb40>, 374899, {'v': 19}),\n",
       " igraph.Edge(<igraph.Graph object at 0x1197bdb40>, 374900, {'v': 2}),\n",
       " igraph.Edge(<igraph.Graph object at 0x1197bdb40>, 374902, {'v': 7}),\n",
       " igraph.Edge(<igraph.Graph object at 0x1197bdb40>, 374904, {'v': 28}),\n",
       " igraph.Edge(<igraph.Graph object at 0x1197bdb40>, 374907, {'v': 262}),\n",
       " igraph.Edge(<igraph.Graph object at 0x1197bdb40>, 375211, {'v': 2}),\n",
       " igraph.Edge(<igraph.Graph object at 0x1197bdb40>, 375212, {'v': 1}),\n",
       " igraph.Edge(<igraph.Graph object at 0x1197bdb40>, 375213, {'v': 1}),\n",
       " igraph.Edge(<igraph.Graph object at 0x1197bdb40>, 375214, {'v': 1}),\n",
       " igraph.Edge(<igraph.Graph object at 0x1197bdb40>, 375215, {'v': 1}),\n",
       " igraph.Edge(<igraph.Graph object at 0x1197bdb40>, 375217, {'v': 2}),\n",
       " igraph.Edge(<igraph.Graph object at 0x1197bdb40>, 375218, {'v': 78}),\n",
       " igraph.Edge(<igraph.Graph object at 0x1197bdb40>, 375220, {'v': 13}),\n",
       " igraph.Edge(<igraph.Graph object at 0x1197bdb40>, 375221, {'v': 1}),\n",
       " igraph.Edge(<igraph.Graph object at 0x1197bdb40>, 375222, {'v': 1}),\n",
       " igraph.Edge(<igraph.Graph object at 0x1197bdb40>, 375516, {'v': 1}),\n",
       " igraph.Edge(<igraph.Graph object at 0x1197bdb40>, 375517, {'v': 1}),\n",
       " igraph.Edge(<igraph.Graph object at 0x1197bdb40>, 375518, {'v': 14}),\n",
       " igraph.Edge(<igraph.Graph object at 0x1197bdb40>, 375519, {'v': 1}),\n",
       " igraph.Edge(<igraph.Graph object at 0x1197bdb40>, 375520, {'v': 1}),\n",
       " igraph.Edge(<igraph.Graph object at 0x1197bdb40>, 375521, {'v': 1}),\n",
       " igraph.Edge(<igraph.Graph object at 0x1197bdb40>, 375522, {'v': 1}),\n",
       " igraph.Edge(<igraph.Graph object at 0x1197bdb40>, 375524, {'v': 1}),\n",
       " igraph.Edge(<igraph.Graph object at 0x1197bdb40>, 375525, {'v': 353}),\n",
       " igraph.Edge(<igraph.Graph object at 0x1197bdb40>, 375526, {'v': 1}),\n",
       " igraph.Edge(<igraph.Graph object at 0x1197bdb40>, 375527, {'v': 4}),\n",
       " igraph.Edge(<igraph.Graph object at 0x1197bdb40>, 375528, {'v': 1}),\n",
       " igraph.Edge(<igraph.Graph object at 0x1197bdb40>, 375530, {'v': 47}),\n",
       " igraph.Edge(<igraph.Graph object at 0x1197bdb40>, 375531, {'v': 1}),\n",
       " igraph.Edge(<igraph.Graph object at 0x1197bdb40>, 375532, {'v': 1}),\n",
       " igraph.Edge(<igraph.Graph object at 0x1197bdb40>, 375533, {'v': 1}),\n",
       " igraph.Edge(<igraph.Graph object at 0x1197bdb40>, 375534, {'v': 1}),\n",
       " igraph.Edge(<igraph.Graph object at 0x1197bdb40>, 375535, {'v': 1}),\n",
       " igraph.Edge(<igraph.Graph object at 0x1197bdb40>, 375536, {'v': 8}),\n",
       " igraph.Edge(<igraph.Graph object at 0x1197bdb40>, 375537, {'v': 7}),\n",
       " igraph.Edge(<igraph.Graph object at 0x1197bdb40>, 375538, {'v': 1}),\n",
       " igraph.Edge(<igraph.Graph object at 0x1197bdb40>, 375539, {'v': 1}),\n",
       " igraph.Edge(<igraph.Graph object at 0x1197bdb40>, 375540, {'v': 1}),\n",
       " igraph.Edge(<igraph.Graph object at 0x1197bdb40>, 375541, {'v': 4}),\n",
       " igraph.Edge(<igraph.Graph object at 0x1197bdb40>, 375542, {'v': 1}),\n",
       " igraph.Edge(<igraph.Graph object at 0x1197bdb40>, 375543, {'v': 1}),\n",
       " igraph.Edge(<igraph.Graph object at 0x1197bdb40>, 375544, {'v': 37}),\n",
       " igraph.Edge(<igraph.Graph object at 0x1197bdb40>, 375545, {'v': 7}),\n",
       " igraph.Edge(<igraph.Graph object at 0x1197bdb40>, 375546, {'v': 2}),\n",
       " igraph.Edge(<igraph.Graph object at 0x1197bdb40>, 375547, {'v': 3}),\n",
       " igraph.Edge(<igraph.Graph object at 0x1197bdb40>, 375548, {'v': 13}),\n",
       " igraph.Edge(<igraph.Graph object at 0x1197bdb40>, 375549, {'v': 7}),\n",
       " igraph.Edge(<igraph.Graph object at 0x1197bdb40>, 375550, {'v': 1}),\n",
       " igraph.Edge(<igraph.Graph object at 0x1197bdb40>, 375551, {'v': 1}),\n",
       " igraph.Edge(<igraph.Graph object at 0x1197bdb40>, 375552, {'v': 19}),\n",
       " igraph.Edge(<igraph.Graph object at 0x1197bdb40>, 375553, {'v': 2}),\n",
       " igraph.Edge(<igraph.Graph object at 0x1197bdb40>, 375554, {'v': 1}),\n",
       " igraph.Edge(<igraph.Graph object at 0x1197bdb40>, 375555, {'v': 1}),\n",
       " igraph.Edge(<igraph.Graph object at 0x1197bdb40>, 375556, {'v': 256}),\n",
       " igraph.Edge(<igraph.Graph object at 0x1197bdb40>, 375557, {'v': 1}),\n",
       " igraph.Edge(<igraph.Graph object at 0x1197bdb40>, 375558, {'v': 19}),\n",
       " igraph.Edge(<igraph.Graph object at 0x1197bdb40>, 375559, {'v': 1}),\n",
       " igraph.Edge(<igraph.Graph object at 0x1197bdb40>, 375560, {'v': 1}),\n",
       " igraph.Edge(<igraph.Graph object at 0x1197bdb40>, 375561, {'v': 1}),\n",
       " igraph.Edge(<igraph.Graph object at 0x1197bdb40>, 375562, {'v': 3}),\n",
       " igraph.Edge(<igraph.Graph object at 0x1197bdb40>, 375563, {'v': 1}),\n",
       " igraph.Edge(<igraph.Graph object at 0x1197bdb40>, 375564, {'v': 1}),\n",
       " igraph.Edge(<igraph.Graph object at 0x1197bdb40>, 375565, {'v': 7}),\n",
       " igraph.Edge(<igraph.Graph object at 0x1197bdb40>, 375567, {'v': 22}),\n",
       " igraph.Edge(<igraph.Graph object at 0x1197bdb40>, 375568, {'v': 43}),\n",
       " igraph.Edge(<igraph.Graph object at 0x1197bdb40>, 375569, {'v': 1}),\n",
       " igraph.Edge(<igraph.Graph object at 0x1197bdb40>, 375570, {'v': 1}),\n",
       " igraph.Edge(<igraph.Graph object at 0x1197bdb40>, 375571, {'v': 1}),\n",
       " igraph.Edge(<igraph.Graph object at 0x1197bdb40>, 375572, {'v': 19}),\n",
       " igraph.Edge(<igraph.Graph object at 0x1197bdb40>, 375573, {'v': 1}),\n",
       " igraph.Edge(<igraph.Graph object at 0x1197bdb40>, 375225, {'v': 1}),\n",
       " igraph.Edge(<igraph.Graph object at 0x1197bdb40>, 375226, {'v': 1}),\n",
       " igraph.Edge(<igraph.Graph object at 0x1197bdb40>, 375228, {'v': 205}),\n",
       " igraph.Edge(<igraph.Graph object at 0x1197bdb40>, 375229, {'v': 7}),\n",
       " igraph.Edge(<igraph.Graph object at 0x1197bdb40>, 375230, {'v': 1}),\n",
       " igraph.Edge(<igraph.Graph object at 0x1197bdb40>, 375231, {'v': 1}),\n",
       " igraph.Edge(<igraph.Graph object at 0x1197bdb40>, 375232, {'v': 7}),\n",
       " igraph.Edge(<igraph.Graph object at 0x1197bdb40>, 375233, {'v': 1}),\n",
       " igraph.Edge(<igraph.Graph object at 0x1197bdb40>, 375234, {'v': 1}),\n",
       " igraph.Edge(<igraph.Graph object at 0x1197bdb40>, 375235, {'v': 13}),\n",
       " igraph.Edge(<igraph.Graph object at 0x1197bdb40>, 375236, {'v': 1}),\n",
       " igraph.Edge(<igraph.Graph object at 0x1197bdb40>, 375237, {'v': 1}),\n",
       " igraph.Edge(<igraph.Graph object at 0x1197bdb40>, 375240, {'v': 32}),\n",
       " igraph.Edge(<igraph.Graph object at 0x1197bdb40>, 375241, {'v': 1}),\n",
       " igraph.Edge(<igraph.Graph object at 0x1197bdb40>, 375242, {'v': 31}),\n",
       " igraph.Edge(<igraph.Graph object at 0x1197bdb40>, 375243, {'v': 1}),\n",
       " igraph.Edge(<igraph.Graph object at 0x1197bdb40>, 375244, {'v': 10}),\n",
       " igraph.Edge(<igraph.Graph object at 0x1197bdb40>, 375245, {'v': 60}),\n",
       " igraph.Edge(<igraph.Graph object at 0x1197bdb40>, 375247, {'v': 1}),\n",
       " igraph.Edge(<igraph.Graph object at 0x1197bdb40>, 375248, {'v': 16}),\n",
       " igraph.Edge(<igraph.Graph object at 0x1197bdb40>, 375249, {'v': 1}),\n",
       " igraph.Edge(<igraph.Graph object at 0x1197bdb40>, 375250, {'v': 7}),\n",
       " igraph.Edge(<igraph.Graph object at 0x1197bdb40>, 375251, {'v': 2}),\n",
       " igraph.Edge(<igraph.Graph object at 0x1197bdb40>, 375252, {'v': 1}),\n",
       " igraph.Edge(<igraph.Graph object at 0x1197bdb40>, 375253, {'v': 7}),\n",
       " igraph.Edge(<igraph.Graph object at 0x1197bdb40>, 375255, {'v': 1}),\n",
       " igraph.Edge(<igraph.Graph object at 0x1197bdb40>, 375257, {'v': 2}),\n",
       " igraph.Edge(<igraph.Graph object at 0x1197bdb40>, 375258, {'v': 29}),\n",
       " igraph.Edge(<igraph.Graph object at 0x1197bdb40>, 375259, {'v': 1}),\n",
       " igraph.Edge(<igraph.Graph object at 0x1197bdb40>, 375260, {'v': 1}),\n",
       " igraph.Edge(<igraph.Graph object at 0x1197bdb40>, 375261, {'v': 1}),\n",
       " igraph.Edge(<igraph.Graph object at 0x1197bdb40>, 375262, {'v': 56}),\n",
       " igraph.Edge(<igraph.Graph object at 0x1197bdb40>, 375264, {'v': 1}),\n",
       " igraph.Edge(<igraph.Graph object at 0x1197bdb40>, 375265, {'v': 1}),\n",
       " igraph.Edge(<igraph.Graph object at 0x1197bdb40>, 375266, {'v': 8}),\n",
       " igraph.Edge(<igraph.Graph object at 0x1197bdb40>, 375268, {'v': 1}),\n",
       " igraph.Edge(<igraph.Graph object at 0x1197bdb40>, 375269, {'v': 10}),\n",
       " igraph.Edge(<igraph.Graph object at 0x1197bdb40>, 375272, {'v': 1}),\n",
       " igraph.Edge(<igraph.Graph object at 0x1197bdb40>, 375273, {'v': 1}),\n",
       " igraph.Edge(<igraph.Graph object at 0x1197bdb40>, 375277, {'v': 5}),\n",
       " igraph.Edge(<igraph.Graph object at 0x1197bdb40>, 375278, {'v': 2}),\n",
       " igraph.Edge(<igraph.Graph object at 0x1197bdb40>, 375574, {'v': 12}),\n",
       " igraph.Edge(<igraph.Graph object at 0x1197bdb40>, 375575, {'v': 1}),\n",
       " igraph.Edge(<igraph.Graph object at 0x1197bdb40>, 375576, {'v': 1}),\n",
       " igraph.Edge(<igraph.Graph object at 0x1197bdb40>, 375577, {'v': 1}),\n",
       " igraph.Edge(<igraph.Graph object at 0x1197bdb40>, 375578, {'v': 9}),\n",
       " igraph.Edge(<igraph.Graph object at 0x1197bdb40>, 375579, {'v': 1}),\n",
       " igraph.Edge(<igraph.Graph object at 0x1197bdb40>, 375580, {'v': 1}),\n",
       " igraph.Edge(<igraph.Graph object at 0x1197bdb40>, 375581, {'v': 1}),\n",
       " igraph.Edge(<igraph.Graph object at 0x1197bdb40>, 375582, {'v': 1}),\n",
       " igraph.Edge(<igraph.Graph object at 0x1197bdb40>, 375583, {'v': 1}),\n",
       " igraph.Edge(<igraph.Graph object at 0x1197bdb40>, 375584, {'v': 1}),\n",
       " igraph.Edge(<igraph.Graph object at 0x1197bdb40>, 375585, {'v': 1}),\n",
       " igraph.Edge(<igraph.Graph object at 0x1197bdb40>, 375586, {'v': 1}),\n",
       " igraph.Edge(<igraph.Graph object at 0x1197bdb40>, 375587, {'v': 1}),\n",
       " igraph.Edge(<igraph.Graph object at 0x1197bdb40>, 375588, {'v': 1}),\n",
       " igraph.Edge(<igraph.Graph object at 0x1197bdb40>, 375590, {'v': 1}),\n",
       " igraph.Edge(<igraph.Graph object at 0x1197bdb40>, 375592, {'v': 7}),\n",
       " igraph.Edge(<igraph.Graph object at 0x1197bdb40>, 375593, {'v': 31}),\n",
       " igraph.Edge(<igraph.Graph object at 0x1197bdb40>, 375594, {'v': 1}),\n",
       " igraph.Edge(<igraph.Graph object at 0x1197bdb40>, 375596, {'v': 8}),\n",
       " igraph.Edge(<igraph.Graph object at 0x1197bdb40>, 375597, {'v': 7}),\n",
       " igraph.Edge(<igraph.Graph object at 0x1197bdb40>, 375599, {'v': 1}),\n",
       " igraph.Edge(<igraph.Graph object at 0x1197bdb40>, 375600, {'v': 2}),\n",
       " igraph.Edge(<igraph.Graph object at 0x1197bdb40>, 375601, {'v': 1}),\n",
       " igraph.Edge(<igraph.Graph object at 0x1197bdb40>, 375602, {'v': 9}),\n",
       " igraph.Edge(<igraph.Graph object at 0x1197bdb40>, 375603, {'v': 11}),\n",
       " igraph.Edge(<igraph.Graph object at 0x1197bdb40>, 375605, {'v': 101}),\n",
       " igraph.Edge(<igraph.Graph object at 0x1197bdb40>, 375607, {'v': 1}),\n",
       " igraph.Edge(<igraph.Graph object at 0x1197bdb40>, 375609, {'v': 7}),\n",
       " igraph.Edge(<igraph.Graph object at 0x1197bdb40>, 375611, {'v': 91}),\n",
       " igraph.Edge(<igraph.Graph object at 0x1197bdb40>, 375613, {'v': 24}),\n",
       " igraph.Edge(<igraph.Graph object at 0x1197bdb40>, 375614, {'v': 3}),\n",
       " igraph.Edge(<igraph.Graph object at 0x1197bdb40>, 375615, {'v': 3}),\n",
       " igraph.Edge(<igraph.Graph object at 0x1197bdb40>, 375616, {'v': 25}),\n",
       " igraph.Edge(<igraph.Graph object at 0x1197bdb40>, 375618, {'v': 7}),\n",
       " igraph.Edge(<igraph.Graph object at 0x1197bdb40>, 375619, {'v': 2}),\n",
       " igraph.Edge(<igraph.Graph object at 0x1197bdb40>, 375620, {'v': 7}),\n",
       " igraph.Edge(<igraph.Graph object at 0x1197bdb40>, 375622, {'v': 1}),\n",
       " igraph.Edge(<igraph.Graph object at 0x1197bdb40>, 375623, {'v': 1}),\n",
       " igraph.Edge(<igraph.Graph object at 0x1197bdb40>, 375624, {'v': 7}),\n",
       " igraph.Edge(<igraph.Graph object at 0x1197bdb40>, 375625, {'v': 1}),\n",
       " igraph.Edge(<igraph.Graph object at 0x1197bdb40>, 375626, {'v': 8}),\n",
       " igraph.Edge(<igraph.Graph object at 0x1197bdb40>, 375628, {'v': 13}),\n",
       " igraph.Edge(<igraph.Graph object at 0x1197bdb40>, 375631, {'v': 1}),\n",
       " igraph.Edge(<igraph.Graph object at 0x1197bdb40>, 375632, {'v': 9}),\n",
       " igraph.Edge(<igraph.Graph object at 0x1197bdb40>, 375635, {'v': 10}),\n",
       " igraph.Edge(<igraph.Graph object at 0x1197bdb40>, 375636, {'v': 1}),\n",
       " igraph.Edge(<igraph.Graph object at 0x1197bdb40>, 375788, {'v': 1}),\n",
       " igraph.Edge(<igraph.Graph object at 0x1197bdb40>, 375789, {'v': 1}),\n",
       " igraph.Edge(<igraph.Graph object at 0x1197bdb40>, 375790, {'v': 37}),\n",
       " igraph.Edge(<igraph.Graph object at 0x1197bdb40>, 375791, {'v': 2}),\n",
       " igraph.Edge(<igraph.Graph object at 0x1197bdb40>, 375792, {'v': 37}),\n",
       " igraph.Edge(<igraph.Graph object at 0x1197bdb40>, 375589, {'v': 1}),\n",
       " igraph.Edge(<igraph.Graph object at 0x1197bdb40>, 375591, {'v': 1}),\n",
       " igraph.Edge(<igraph.Graph object at 0x1197bdb40>, 375595, {'v': 8}),\n",
       " igraph.Edge(<igraph.Graph object at 0x1197bdb40>, 375598, {'v': 1}),\n",
       " igraph.Edge(<igraph.Graph object at 0x1197bdb40>, 2189, {'v': 7}),\n",
       " igraph.Edge(<igraph.Graph object at 0x1197bdb40>, 2190, {'v': 4}),\n",
       " igraph.Edge(<igraph.Graph object at 0x1197bdb40>, 2191, {'v': 1}),\n",
       " igraph.Edge(<igraph.Graph object at 0x1197bdb40>, 2192, {'v': 1}),\n",
       " igraph.Edge(<igraph.Graph object at 0x1197bdb40>, 2193, {'v': 1}),\n",
       " igraph.Edge(<igraph.Graph object at 0x1197bdb40>, 2194, {'v': 25}),\n",
       " igraph.Edge(<igraph.Graph object at 0x1197bdb40>, 2195, {'v': 1}),\n",
       " igraph.Edge(<igraph.Graph object at 0x1197bdb40>, 2196, {'v': 14}),\n",
       " igraph.Edge(<igraph.Graph object at 0x1197bdb40>, 2197, {'v': 7}),\n",
       " igraph.Edge(<igraph.Graph object at 0x1197bdb40>, 2198, {'v': 1}),\n",
       " igraph.Edge(<igraph.Graph object at 0x1197bdb40>, 2199, {'v': 30}),\n",
       " igraph.Edge(<igraph.Graph object at 0x1197bdb40>, 2200, {'v': 4}),\n",
       " igraph.Edge(<igraph.Graph object at 0x1197bdb40>, 2201, {'v': 1}),\n",
       " igraph.Edge(<igraph.Graph object at 0x1197bdb40>, 375794, {'v': 2}),\n",
       " igraph.Edge(<igraph.Graph object at 0x1197bdb40>, 375796, {'v': 90}),\n",
       " igraph.Edge(<igraph.Graph object at 0x1197bdb40>, 375797, {'v': 10}),\n",
       " igraph.Edge(<igraph.Graph object at 0x1197bdb40>, 375798, {'v': 1}),\n",
       " igraph.Edge(<igraph.Graph object at 0x1197bdb40>, 375799, {'v': 14}),\n",
       " igraph.Edge(<igraph.Graph object at 0x1197bdb40>, 375801, {'v': 17}),\n",
       " igraph.Edge(<igraph.Graph object at 0x1197bdb40>, 375803, {'v': 1}),\n",
       " igraph.Edge(<igraph.Graph object at 0x1197bdb40>, 375807, {'v': 1}),\n",
       " igraph.Edge(<igraph.Graph object at 0x1197bdb40>, 375808, {'v': 1}),\n",
       " igraph.Edge(<igraph.Graph object at 0x1197bdb40>, 375810, {'v': 7}),\n",
       " igraph.Edge(<igraph.Graph object at 0x1197bdb40>, 375812, {'v': 28}),\n",
       " igraph.Edge(<igraph.Graph object at 0x1197bdb40>, 375815, {'v': 20}),\n",
       " igraph.Edge(<igraph.Graph object at 0x1197bdb40>, 375816, {'v': 7}),\n",
       " igraph.Edge(<igraph.Graph object at 0x1197bdb40>, 375817, {'v': 1}),\n",
       " igraph.Edge(<igraph.Graph object at 0x1197bdb40>, 375818, {'v': 9}),\n",
       " igraph.Edge(<igraph.Graph object at 0x1197bdb40>, 375821, {'v': 306}),\n",
       " igraph.Edge(<igraph.Graph object at 0x1197bdb40>, 375822, {'v': 1}),\n",
       " igraph.Edge(<igraph.Graph object at 0x1197bdb40>, 375823, {'v': 12}),\n",
       " igraph.Edge(<igraph.Graph object at 0x1197bdb40>, 375824, {'v': 1}),\n",
       " igraph.Edge(<igraph.Graph object at 0x1197bdb40>, 375826, {'v': 15}),\n",
       " igraph.Edge(<igraph.Graph object at 0x1197bdb40>, 375828, {'v': 3}),\n",
       " igraph.Edge(<igraph.Graph object at 0x1197bdb40>, 375829, {'v': 1}),\n",
       " igraph.Edge(<igraph.Graph object at 0x1197bdb40>, 375833, {'v': 1}),\n",
       " igraph.Edge(<igraph.Graph object at 0x1197bdb40>, 375834, {'v': 7}),\n",
       " igraph.Edge(<igraph.Graph object at 0x1197bdb40>, 375836, {'v': 7}),\n",
       " igraph.Edge(<igraph.Graph object at 0x1197bdb40>, 375837, {'v': 29}),\n",
       " igraph.Edge(<igraph.Graph object at 0x1197bdb40>, 375838, {'v': 1}),\n",
       " igraph.Edge(<igraph.Graph object at 0x1197bdb40>, 375839, {'v': 1}),\n",
       " igraph.Edge(<igraph.Graph object at 0x1197bdb40>, 375840, {'v': 255}),\n",
       " igraph.Edge(<igraph.Graph object at 0x1197bdb40>, 375843, {'v': 1}),\n",
       " igraph.Edge(<igraph.Graph object at 0x1197bdb40>, 375844, {'v': 1}),\n",
       " igraph.Edge(<igraph.Graph object at 0x1197bdb40>, 375847, {'v': 70}),\n",
       " igraph.Edge(<igraph.Graph object at 0x1197bdb40>, 375848, {'v': 1}),\n",
       " igraph.Edge(<igraph.Graph object at 0x1197bdb40>, 375849, {'v': 1}),\n",
       " igraph.Edge(<igraph.Graph object at 0x1197bdb40>, 375853, {'v': 1}),\n",
       " igraph.Edge(<igraph.Graph object at 0x1197bdb40>, 375854, {'v': 1}),\n",
       " igraph.Edge(<igraph.Graph object at 0x1197bdb40>, 375856, {'v': 92}),\n",
       " igraph.Edge(<igraph.Graph object at 0x1197bdb40>, 375857, {'v': 22}),\n",
       " igraph.Edge(<igraph.Graph object at 0x1197bdb40>, 375860, {'v': 13}),\n",
       " igraph.Edge(<igraph.Graph object at 0x1197bdb40>, 375862, {'v': 56}),\n",
       " igraph.Edge(<igraph.Graph object at 0x1197bdb40>, 375863, {'v': 1}),\n",
       " igraph.Edge(<igraph.Graph object at 0x1197bdb40>, 375864, {'v': 11}),\n",
       " igraph.Edge(<igraph.Graph object at 0x1197bdb40>, 375865, {'v': 33}),\n",
       " igraph.Edge(<igraph.Graph object at 0x1197bdb40>, 375866, {'v': 1}),\n",
       " igraph.Edge(<igraph.Graph object at 0x1197bdb40>, 375867, {'v': 7}),\n",
       " igraph.Edge(<igraph.Graph object at 0x1197bdb40>, 375869, {'v': 4}),\n",
       " igraph.Edge(<igraph.Graph object at 0x1197bdb40>, 375871, {'v': 269}),\n",
       " igraph.Edge(<igraph.Graph object at 0x1197bdb40>, 375872, {'v': 7}),\n",
       " igraph.Edge(<igraph.Graph object at 0x1197bdb40>, 375875, {'v': 1}),\n",
       " igraph.Edge(<igraph.Graph object at 0x1197bdb40>, 375876, {'v': 1}),\n",
       " igraph.Edge(<igraph.Graph object at 0x1197bdb40>, 375882, {'v': 2}),\n",
       " igraph.Edge(<igraph.Graph object at 0x1197bdb40>, 375883, {'v': 1}),\n",
       " igraph.Edge(<igraph.Graph object at 0x1197bdb40>, 375885, {'v': 40}),\n",
       " igraph.Edge(<igraph.Graph object at 0x1197bdb40>, 375886, {'v': 7}),\n",
       " igraph.Edge(<igraph.Graph object at 0x1197bdb40>, 375887, {'v': 1}),\n",
       " igraph.Edge(<igraph.Graph object at 0x1197bdb40>, 375889, {'v': 7}),\n",
       " igraph.Edge(<igraph.Graph object at 0x1197bdb40>, 375891, {'v': 175}),\n",
       " igraph.Edge(<igraph.Graph object at 0x1197bdb40>, 375892, {'v': 18}),\n",
       " igraph.Edge(<igraph.Graph object at 0x1197bdb40>, 375894, {'v': 1}),\n",
       " igraph.Edge(<igraph.Graph object at 0x1197bdb40>, 375895, {'v': 1}),\n",
       " igraph.Edge(<igraph.Graph object at 0x1197bdb40>, 375896, {'v': 8}),\n",
       " igraph.Edge(<igraph.Graph object at 0x1197bdb40>, 375897, {'v': 7}),\n",
       " igraph.Edge(<igraph.Graph object at 0x1197bdb40>, 375898, {'v': 1}),\n",
       " igraph.Edge(<igraph.Graph object at 0x1197bdb40>, 375899, {'v': 1}),\n",
       " igraph.Edge(<igraph.Graph object at 0x1197bdb40>, 375901, {'v': 13}),\n",
       " igraph.Edge(<igraph.Graph object at 0x1197bdb40>, 375902, {'v': 1}),\n",
       " igraph.Edge(<igraph.Graph object at 0x1197bdb40>, 375906, {'v': 1}),\n",
       " igraph.Edge(<igraph.Graph object at 0x1197bdb40>, 375908, {'v': 8}),\n",
       " igraph.Edge(<igraph.Graph object at 0x1197bdb40>, 375911, {'v': 1}),\n",
       " igraph.Edge(<igraph.Graph object at 0x1197bdb40>, 375912, {'v': 18}),\n",
       " igraph.Edge(<igraph.Graph object at 0x1197bdb40>, 375913, {'v': 1}),\n",
       " igraph.Edge(<igraph.Graph object at 0x1197bdb40>, 375914, {'v': 93}),\n",
       " igraph.Edge(<igraph.Graph object at 0x1197bdb40>, 375915, {'v': 7}),\n",
       " igraph.Edge(<igraph.Graph object at 0x1197bdb40>, 375916, {'v': 2}),\n",
       " igraph.Edge(<igraph.Graph object at 0x1197bdb40>, 375917, {'v': 100}),\n",
       " igraph.Edge(<igraph.Graph object at 0x1197bdb40>, 375918, {'v': 51}),\n",
       " igraph.Edge(<igraph.Graph object at 0x1197bdb40>, 375919, {'v': 7}),\n",
       " igraph.Edge(<igraph.Graph object at 0x1197bdb40>, 375921, {'v': 1}),\n",
       " igraph.Edge(<igraph.Graph object at 0x1197bdb40>, 375604, {'v': 1}),\n",
       " igraph.Edge(<igraph.Graph object at 0x1197bdb40>, 375606, {'v': 43}),\n",
       " igraph.Edge(<igraph.Graph object at 0x1197bdb40>, 375608, {'v': 1}),\n",
       " igraph.Edge(<igraph.Graph object at 0x1197bdb40>, 375610, {'v': 1}),\n",
       " igraph.Edge(<igraph.Graph object at 0x1197bdb40>, 375612, {'v': 1}),\n",
       " igraph.Edge(<igraph.Graph object at 0x1197bdb40>, 375617, {'v': 1}),\n",
       " igraph.Edge(<igraph.Graph object at 0x1197bdb40>, 2476, {'v': 7}),\n",
       " igraph.Edge(<igraph.Graph object at 0x1197bdb40>, 2477, {'v': 13}),\n",
       " igraph.Edge(<igraph.Graph object at 0x1197bdb40>, 2478, {'v': 1}),\n",
       " igraph.Edge(<igraph.Graph object at 0x1197bdb40>, 2479, {'v': 1}),\n",
       " igraph.Edge(<igraph.Graph object at 0x1197bdb40>, 2480, {'v': 1}),\n",
       " igraph.Edge(<igraph.Graph object at 0x1197bdb40>, 2481, {'v': 1}),\n",
       " igraph.Edge(<igraph.Graph object at 0x1197bdb40>, 2482, {'v': 13}),\n",
       " igraph.Edge(<igraph.Graph object at 0x1197bdb40>, 2483, {'v': 1}),\n",
       " igraph.Edge(<igraph.Graph object at 0x1197bdb40>, 2484, {'v': 13}),\n",
       " igraph.Edge(<igraph.Graph object at 0x1197bdb40>, 2485, {'v': 85}),\n",
       " igraph.Edge(<igraph.Graph object at 0x1197bdb40>, 2486, {'v': 1}),\n",
       " igraph.Edge(<igraph.Graph object at 0x1197bdb40>, 2487, {'v': 1}),\n",
       " igraph.Edge(<igraph.Graph object at 0x1197bdb40>, 2488, {'v': 1}),\n",
       " igraph.Edge(<igraph.Graph object at 0x1197bdb40>, 2489, {'v': 1}),\n",
       " igraph.Edge(<igraph.Graph object at 0x1197bdb40>, 2490, {'v': 1}),\n",
       " igraph.Edge(<igraph.Graph object at 0x1197bdb40>, 2491, {'v': 1}),\n",
       " igraph.Edge(<igraph.Graph object at 0x1197bdb40>, 2492, {'v': 1}),\n",
       " igraph.Edge(<igraph.Graph object at 0x1197bdb40>, 2493, {'v': 1}),\n",
       " igraph.Edge(<igraph.Graph object at 0x1197bdb40>, 2494, {'v': 7}),\n",
       " igraph.Edge(<igraph.Graph object at 0x1197bdb40>, 2495, {'v': 1}),\n",
       " igraph.Edge(<igraph.Graph object at 0x1197bdb40>, 2496, {'v': 2}),\n",
       " igraph.Edge(<igraph.Graph object at 0x1197bdb40>, 2497, {'v': 1}),\n",
       " igraph.Edge(<igraph.Graph object at 0x1197bdb40>, 2498, {'v': 1}),\n",
       " igraph.Edge(<igraph.Graph object at 0x1197bdb40>, 2499, {'v': 1}),\n",
       " igraph.Edge(<igraph.Graph object at 0x1197bdb40>, 2500, {'v': 3}),\n",
       " igraph.Edge(<igraph.Graph object at 0x1197bdb40>, 2501, {'v': 7}),\n",
       " igraph.Edge(<igraph.Graph object at 0x1197bdb40>, 2502, {'v': 1}),\n",
       " igraph.Edge(<igraph.Graph object at 0x1197bdb40>, 2503, {'v': 1}),\n",
       " igraph.Edge(<igraph.Graph object at 0x1197bdb40>, 375922, {'v': 13}),\n",
       " igraph.Edge(<igraph.Graph object at 0x1197bdb40>, 376071, {'v': 1}),\n",
       " igraph.Edge(<igraph.Graph object at 0x1197bdb40>, 376072, {'v': 1}),\n",
       " igraph.Edge(<igraph.Graph object at 0x1197bdb40>, 376073, {'v': 1}),\n",
       " igraph.Edge(<igraph.Graph object at 0x1197bdb40>, 376075, {'v': 2}),\n",
       " igraph.Edge(<igraph.Graph object at 0x1197bdb40>, 376077, {'v': 7}),\n",
       " igraph.Edge(<igraph.Graph object at 0x1197bdb40>, 376078, {'v': 9}),\n",
       " igraph.Edge(<igraph.Graph object at 0x1197bdb40>, 376079, {'v': 33}),\n",
       " igraph.Edge(<igraph.Graph object at 0x1197bdb40>, 376081, {'v': 14}),\n",
       " igraph.Edge(<igraph.Graph object at 0x1197bdb40>, 376082, {'v': 151}),\n",
       " igraph.Edge(<igraph.Graph object at 0x1197bdb40>, 376083, {'v': 1}),\n",
       " igraph.Edge(<igraph.Graph object at 0x1197bdb40>, 376087, {'v': 1}),\n",
       " igraph.Edge(<igraph.Graph object at 0x1197bdb40>, 376090, {'v': 1}),\n",
       " igraph.Edge(<igraph.Graph object at 0x1197bdb40>, 376091, {'v': 1}),\n",
       " igraph.Edge(<igraph.Graph object at 0x1197bdb40>, 376094, {'v': 1}),\n",
       " igraph.Edge(<igraph.Graph object at 0x1197bdb40>, 376095, {'v': 64}),\n",
       " igraph.Edge(<igraph.Graph object at 0x1197bdb40>, 376096, {'v': 14}),\n",
       " igraph.Edge(<igraph.Graph object at 0x1197bdb40>, 376097, {'v': 13}),\n",
       " igraph.Edge(<igraph.Graph object at 0x1197bdb40>, 376098, {'v': 1}),\n",
       " igraph.Edge(<igraph.Graph object at 0x1197bdb40>, 376099, {'v': 1}),\n",
       " igraph.Edge(<igraph.Graph object at 0x1197bdb40>, 376100, {'v': 21}),\n",
       " igraph.Edge(<igraph.Graph object at 0x1197bdb40>, 376103, {'v': 1}),\n",
       " igraph.Edge(<igraph.Graph object at 0x1197bdb40>, 376104, {'v': 1}),\n",
       " igraph.Edge(<igraph.Graph object at 0x1197bdb40>, 376106, {'v': 1}),\n",
       " igraph.Edge(<igraph.Graph object at 0x1197bdb40>, 376107, {'v': 1}),\n",
       " igraph.Edge(<igraph.Graph object at 0x1197bdb40>, 376109, {'v': 1}),\n",
       " igraph.Edge(<igraph.Graph object at 0x1197bdb40>, 376111, {'v': 25}),\n",
       " igraph.Edge(<igraph.Graph object at 0x1197bdb40>, 376112, {'v': 13}),\n",
       " igraph.Edge(<igraph.Graph object at 0x1197bdb40>, 376113, {'v': 1}),\n",
       " igraph.Edge(<igraph.Graph object at 0x1197bdb40>, 376115, {'v': 7}),\n",
       " igraph.Edge(<igraph.Graph object at 0x1197bdb40>, 376116, {'v': 7}),\n",
       " igraph.Edge(<igraph.Graph object at 0x1197bdb40>, 376117, {'v': 2}),\n",
       " igraph.Edge(<igraph.Graph object at 0x1197bdb40>, 376118, {'v': 13}),\n",
       " igraph.Edge(<igraph.Graph object at 0x1197bdb40>, 376119, {'v': 7}),\n",
       " igraph.Edge(<igraph.Graph object at 0x1197bdb40>, 376120, {'v': 7}),\n",
       " igraph.Edge(<igraph.Graph object at 0x1197bdb40>, 376122, {'v': 27}),\n",
       " igraph.Edge(<igraph.Graph object at 0x1197bdb40>, 376123, {'v': 13}),\n",
       " igraph.Edge(<igraph.Graph object at 0x1197bdb40>, 376125, {'v': 1}),\n",
       " igraph.Edge(<igraph.Graph object at 0x1197bdb40>, 376129, {'v': 1}),\n",
       " igraph.Edge(<igraph.Graph object at 0x1197bdb40>, 376130, {'v': 14}),\n",
       " igraph.Edge(<igraph.Graph object at 0x1197bdb40>, 376131, {'v': 1}),\n",
       " igraph.Edge(<igraph.Graph object at 0x1197bdb40>, 376134, {'v': 5}),\n",
       " igraph.Edge(<igraph.Graph object at 0x1197bdb40>, 376135, {'v': 1}),\n",
       " igraph.Edge(<igraph.Graph object at 0x1197bdb40>, 376137, {'v': 19}),\n",
       " igraph.Edge(<igraph.Graph object at 0x1197bdb40>, 376139, {'v': 1}),\n",
       " igraph.Edge(<igraph.Graph object at 0x1197bdb40>, 376146, {'v': 1}),\n",
       " igraph.Edge(<igraph.Graph object at 0x1197bdb40>, 376147, {'v': 1}),\n",
       " igraph.Edge(<igraph.Graph object at 0x1197bdb40>, 376148, {'v': 7}),\n",
       " igraph.Edge(<igraph.Graph object at 0x1197bdb40>, 376149, {'v': 58}),\n",
       " igraph.Edge(<igraph.Graph object at 0x1197bdb40>, 376152, {'v': 48}),\n",
       " igraph.Edge(<igraph.Graph object at 0x1197bdb40>, 376155, {'v': 2}),\n",
       " igraph.Edge(<igraph.Graph object at 0x1197bdb40>, 376156, {'v': 13}),\n",
       " igraph.Edge(<igraph.Graph object at 0x1197bdb40>, 376157, {'v': 1}),\n",
       " igraph.Edge(<igraph.Graph object at 0x1197bdb40>, 376158, {'v': 1}),\n",
       " igraph.Edge(<igraph.Graph object at 0x1197bdb40>, 376159, {'v': 1}),\n",
       " igraph.Edge(<igraph.Graph object at 0x1197bdb40>, 376161, {'v': 1}),\n",
       " igraph.Edge(<igraph.Graph object at 0x1197bdb40>, 376162, {'v': 1}),\n",
       " igraph.Edge(<igraph.Graph object at 0x1197bdb40>, 376163, {'v': 2}),\n",
       " igraph.Edge(<igraph.Graph object at 0x1197bdb40>, 376164, {'v': 1}),\n",
       " igraph.Edge(<igraph.Graph object at 0x1197bdb40>, 376166, {'v': 1}),\n",
       " igraph.Edge(<igraph.Graph object at 0x1197bdb40>, 376168, {'v': 1}),\n",
       " igraph.Edge(<igraph.Graph object at 0x1197bdb40>, 376170, {'v': 9}),\n",
       " igraph.Edge(<igraph.Graph object at 0x1197bdb40>, 376171, {'v': 1}),\n",
       " igraph.Edge(<igraph.Graph object at 0x1197bdb40>, 376172, {'v': 134}),\n",
       " igraph.Edge(<igraph.Graph object at 0x1197bdb40>, 376173, {'v': 1}),\n",
       " igraph.Edge(<igraph.Graph object at 0x1197bdb40>, 376176, {'v': 134}),\n",
       " igraph.Edge(<igraph.Graph object at 0x1197bdb40>, 376177, {'v': 1}),\n",
       " igraph.Edge(<igraph.Graph object at 0x1197bdb40>, 375621, {'v': 1}),\n",
       " igraph.Edge(<igraph.Graph object at 0x1197bdb40>, 375627, {'v': 1}),\n",
       " igraph.Edge(<igraph.Graph object at 0x1197bdb40>, 375629, {'v': 1}),\n",
       " igraph.Edge(<igraph.Graph object at 0x1197bdb40>, 375630, {'v': 1}),\n",
       " igraph.Edge(<igraph.Graph object at 0x1197bdb40>, 375633, {'v': 1}),\n",
       " igraph.Edge(<igraph.Graph object at 0x1197bdb40>, 375634, {'v': 1}),\n",
       " igraph.Edge(<igraph.Graph object at 0x1197bdb40>, 375787, {'v': 61}),\n",
       " igraph.Edge(<igraph.Graph object at 0x1197bdb40>, 375793, {'v': 1}),\n",
       " igraph.Edge(<igraph.Graph object at 0x1197bdb40>, 2778, {'v': 1}),\n",
       " igraph.Edge(<igraph.Graph object at 0x1197bdb40>, 2779, {'v': 1}),\n",
       " igraph.Edge(<igraph.Graph object at 0x1197bdb40>, 2780, {'v': 58}),\n",
       " igraph.Edge(<igraph.Graph object at 0x1197bdb40>, 2781, {'v': 8}),\n",
       " igraph.Edge(<igraph.Graph object at 0x1197bdb40>, 2782, {'v': 1}),\n",
       " igraph.Edge(<igraph.Graph object at 0x1197bdb40>, 2783, {'v': 1}),\n",
       " igraph.Edge(<igraph.Graph object at 0x1197bdb40>, 2784, {'v': 1}),\n",
       " igraph.Edge(<igraph.Graph object at 0x1197bdb40>, 2785, {'v': 20}),\n",
       " igraph.Edge(<igraph.Graph object at 0x1197bdb40>, 2786, {'v': 7}),\n",
       " igraph.Edge(<igraph.Graph object at 0x1197bdb40>, 2787, {'v': 225}),\n",
       " igraph.Edge(<igraph.Graph object at 0x1197bdb40>, 2788, {'v': 1}),\n",
       " igraph.Edge(<igraph.Graph object at 0x1197bdb40>, 2789, {'v': 13}),\n",
       " igraph.Edge(<igraph.Graph object at 0x1197bdb40>, 2790, {'v': 73}),\n",
       " igraph.Edge(<igraph.Graph object at 0x1197bdb40>, 2791, {'v': 7}),\n",
       " igraph.Edge(<igraph.Graph object at 0x1197bdb40>, 2792, {'v': 1}),\n",
       " igraph.Edge(<igraph.Graph object at 0x1197bdb40>, 2793, {'v': 1}),\n",
       " igraph.Edge(<igraph.Graph object at 0x1197bdb40>, 2794, {'v': 9}),\n",
       " igraph.Edge(<igraph.Graph object at 0x1197bdb40>, 2795, {'v': 1}),\n",
       " igraph.Edge(<igraph.Graph object at 0x1197bdb40>, 2796, {'v': 1}),\n",
       " igraph.Edge(<igraph.Graph object at 0x1197bdb40>, 2797, {'v': 2}),\n",
       " igraph.Edge(<igraph.Graph object at 0x1197bdb40>, 2798, {'v': 1}),\n",
       " igraph.Edge(<igraph.Graph object at 0x1197bdb40>, 2799, {'v': 7}),\n",
       " igraph.Edge(<igraph.Graph object at 0x1197bdb40>, 2800, {'v': 48}),\n",
       " igraph.Edge(<igraph.Graph object at 0x1197bdb40>, 2801, {'v': 7}),\n",
       " igraph.Edge(<igraph.Graph object at 0x1197bdb40>, 2802, {'v': 1}),\n",
       " igraph.Edge(<igraph.Graph object at 0x1197bdb40>, 2803, {'v': 1}),\n",
       " igraph.Edge(<igraph.Graph object at 0x1197bdb40>, 376181, {'v': 11}),\n",
       " igraph.Edge(<igraph.Graph object at 0x1197bdb40>, 376182, {'v': 166}),\n",
       " igraph.Edge(<igraph.Graph object at 0x1197bdb40>, 376185, {'v': 617}),\n",
       " igraph.Edge(<igraph.Graph object at 0x1197bdb40>, 376188, {'v': 13}),\n",
       " igraph.Edge(<igraph.Graph object at 0x1197bdb40>, 376189, {'v': 19}),\n",
       " igraph.Edge(<igraph.Graph object at 0x1197bdb40>, 376190, {'v': 13}),\n",
       " igraph.Edge(<igraph.Graph object at 0x1197bdb40>, 376192, {'v': 1}),\n",
       " igraph.Edge(<igraph.Graph object at 0x1197bdb40>, 376194, {'v': 1}),\n",
       " igraph.Edge(<igraph.Graph object at 0x1197bdb40>, 376195, {'v': 268}),\n",
       " igraph.Edge(<igraph.Graph object at 0x1197bdb40>, 376196, {'v': 14}),\n",
       " igraph.Edge(<igraph.Graph object at 0x1197bdb40>, 376198, {'v': 1}),\n",
       " igraph.Edge(<igraph.Graph object at 0x1197bdb40>, 376199, {'v': 1}),\n",
       " igraph.Edge(<igraph.Graph object at 0x1197bdb40>, 376200, {'v': 17}),\n",
       " igraph.Edge(<igraph.Graph object at 0x1197bdb40>, 376202, {'v': 1}),\n",
       " igraph.Edge(<igraph.Graph object at 0x1197bdb40>, 376203, {'v': 1}),\n",
       " igraph.Edge(<igraph.Graph object at 0x1197bdb40>, 376206, {'v': 3}),\n",
       " igraph.Edge(<igraph.Graph object at 0x1197bdb40>, 376378, {'v': 14}),\n",
       " igraph.Edge(<igraph.Graph object at 0x1197bdb40>, 376379, {'v': 7}),\n",
       " igraph.Edge(<igraph.Graph object at 0x1197bdb40>, 376380, {'v': 20}),\n",
       " igraph.Edge(<igraph.Graph object at 0x1197bdb40>, 376381, {'v': 1}),\n",
       " igraph.Edge(<igraph.Graph object at 0x1197bdb40>, 376382, {'v': 1}),\n",
       " igraph.Edge(<igraph.Graph object at 0x1197bdb40>, 376384, {'v': 7}),\n",
       " igraph.Edge(<igraph.Graph object at 0x1197bdb40>, 376385, {'v': 1}),\n",
       " igraph.Edge(<igraph.Graph object at 0x1197bdb40>, 376386, {'v': 47}),\n",
       " igraph.Edge(<igraph.Graph object at 0x1197bdb40>, 376388, {'v': 1}),\n",
       " igraph.Edge(<igraph.Graph object at 0x1197bdb40>, 376389, {'v': 7}),\n",
       " igraph.Edge(<igraph.Graph object at 0x1197bdb40>, 376395, {'v': 7}),\n",
       " igraph.Edge(<igraph.Graph object at 0x1197bdb40>, 376396, {'v': 1}),\n",
       " igraph.Edge(<igraph.Graph object at 0x1197bdb40>, 376397, {'v': 7}),\n",
       " igraph.Edge(<igraph.Graph object at 0x1197bdb40>, 376399, {'v': 15}),\n",
       " igraph.Edge(<igraph.Graph object at 0x1197bdb40>, 376403, {'v': 1}),\n",
       " igraph.Edge(<igraph.Graph object at 0x1197bdb40>, 376405, {'v': 7}),\n",
       " igraph.Edge(<igraph.Graph object at 0x1197bdb40>, 376407, {'v': 7}),\n",
       " igraph.Edge(<igraph.Graph object at 0x1197bdb40>, 376410, {'v': 81}),\n",
       " igraph.Edge(<igraph.Graph object at 0x1197bdb40>, 376411, {'v': 1}),\n",
       " igraph.Edge(<igraph.Graph object at 0x1197bdb40>, 376413, {'v': 1}),\n",
       " igraph.Edge(<igraph.Graph object at 0x1197bdb40>, 376415, {'v': 91}),\n",
       " igraph.Edge(<igraph.Graph object at 0x1197bdb40>, 376417, {'v': 1}),\n",
       " igraph.Edge(<igraph.Graph object at 0x1197bdb40>, 376418, {'v': 1}),\n",
       " igraph.Edge(<igraph.Graph object at 0x1197bdb40>, 376420, {'v': 1}),\n",
       " igraph.Edge(<igraph.Graph object at 0x1197bdb40>, 376425, {'v': 1}),\n",
       " igraph.Edge(<igraph.Graph object at 0x1197bdb40>, 376426, {'v': 10}),\n",
       " igraph.Edge(<igraph.Graph object at 0x1197bdb40>, 376428, {'v': 8}),\n",
       " igraph.Edge(<igraph.Graph object at 0x1197bdb40>, 376429, {'v': 1}),\n",
       " igraph.Edge(<igraph.Graph object at 0x1197bdb40>, 376430, {'v': 1}),\n",
       " igraph.Edge(<igraph.Graph object at 0x1197bdb40>, 376434, {'v': 43}),\n",
       " igraph.Edge(<igraph.Graph object at 0x1197bdb40>, 376436, {'v': 1}),\n",
       " igraph.Edge(<igraph.Graph object at 0x1197bdb40>, 376437, {'v': 2}),\n",
       " igraph.Edge(<igraph.Graph object at 0x1197bdb40>, 376438, {'v': 1}),\n",
       " igraph.Edge(<igraph.Graph object at 0x1197bdb40>, 376439, {'v': 7}),\n",
       " igraph.Edge(<igraph.Graph object at 0x1197bdb40>, 376440, {'v': 9}),\n",
       " igraph.Edge(<igraph.Graph object at 0x1197bdb40>, 376443, {'v': 65}),\n",
       " igraph.Edge(<igraph.Graph object at 0x1197bdb40>, 376444, {'v': 1}),\n",
       " igraph.Edge(<igraph.Graph object at 0x1197bdb40>, 376446, {'v': 1}),\n",
       " igraph.Edge(<igraph.Graph object at 0x1197bdb40>, 376448, {'v': 1}),\n",
       " igraph.Edge(<igraph.Graph object at 0x1197bdb40>, 376449, {'v': 1}),\n",
       " igraph.Edge(<igraph.Graph object at 0x1197bdb40>, 376450, {'v': 32}),\n",
       " igraph.Edge(<igraph.Graph object at 0x1197bdb40>, 376451, {'v': 11}),\n",
       " igraph.Edge(<igraph.Graph object at 0x1197bdb40>, 376452, {'v': 8}),\n",
       " igraph.Edge(<igraph.Graph object at 0x1197bdb40>, 376455, {'v': 21}),\n",
       " igraph.Edge(<igraph.Graph object at 0x1197bdb40>, 376457, {'v': 4}),\n",
       " igraph.Edge(<igraph.Graph object at 0x1197bdb40>, 376458, {'v': 7}),\n",
       " igraph.Edge(<igraph.Graph object at 0x1197bdb40>, 376459, {'v': 13}),\n",
       " igraph.Edge(<igraph.Graph object at 0x1197bdb40>, 376462, {'v': 1}),\n",
       " igraph.Edge(<igraph.Graph object at 0x1197bdb40>, 376464, {'v': 1}),\n",
       " igraph.Edge(<igraph.Graph object at 0x1197bdb40>, 376467, {'v': 25}),\n",
       " igraph.Edge(<igraph.Graph object at 0x1197bdb40>, 375800, {'v': 1}),\n",
       " igraph.Edge(<igraph.Graph object at 0x1197bdb40>, 375802, {'v': 1}),\n",
       " igraph.Edge(<igraph.Graph object at 0x1197bdb40>, 375804, {'v': 1}),\n",
       " igraph.Edge(<igraph.Graph object at 0x1197bdb40>, 375805, {'v': 2}),\n",
       " igraph.Edge(<igraph.Graph object at 0x1197bdb40>, 375806, {'v': 1}),\n",
       " igraph.Edge(<igraph.Graph object at 0x1197bdb40>, 375809, {'v': 1}),\n",
       " igraph.Edge(<igraph.Graph object at 0x1197bdb40>, 375811, {'v': 1}),\n",
       " igraph.Edge(<igraph.Graph object at 0x1197bdb40>, 3078, {'v': 1}),\n",
       " igraph.Edge(<igraph.Graph object at 0x1197bdb40>, 3079, {'v': 1}),\n",
       " igraph.Edge(<igraph.Graph object at 0x1197bdb40>, 3080, {'v': 1}),\n",
       " igraph.Edge(<igraph.Graph object at 0x1197bdb40>, 3081, {'v': 3}),\n",
       " igraph.Edge(<igraph.Graph object at 0x1197bdb40>, 3082, {'v': 1}),\n",
       " igraph.Edge(<igraph.Graph object at 0x1197bdb40>, 3083, {'v': 1}),\n",
       " igraph.Edge(<igraph.Graph object at 0x1197bdb40>, 3084, {'v': 1}),\n",
       " igraph.Edge(<igraph.Graph object at 0x1197bdb40>, 3085, {'v': 1}),\n",
       " igraph.Edge(<igraph.Graph object at 0x1197bdb40>, 3086, {'v': 8}),\n",
       " igraph.Edge(<igraph.Graph object at 0x1197bdb40>, 3087, {'v': 1}),\n",
       " igraph.Edge(<igraph.Graph object at 0x1197bdb40>, 3088, {'v': 1}),\n",
       " igraph.Edge(<igraph.Graph object at 0x1197bdb40>, 3089, {'v': 1}),\n",
       " igraph.Edge(<igraph.Graph object at 0x1197bdb40>, 3090, {'v': 1}),\n",
       " igraph.Edge(<igraph.Graph object at 0x1197bdb40>, 3091, {'v': 1}),\n",
       " igraph.Edge(<igraph.Graph object at 0x1197bdb40>, 3092, {'v': 7}),\n",
       " igraph.Edge(<igraph.Graph object at 0x1197bdb40>, 3093, {'v': 1}),\n",
       " igraph.Edge(<igraph.Graph object at 0x1197bdb40>, 3094, {'v': 1}),\n",
       " igraph.Edge(<igraph.Graph object at 0x1197bdb40>, 3095, {'v': 7}),\n",
       " igraph.Edge(<igraph.Graph object at 0x1197bdb40>, 3096, {'v': 1}),\n",
       " igraph.Edge(<igraph.Graph object at 0x1197bdb40>, 3097, {'v': 1}),\n",
       " igraph.Edge(<igraph.Graph object at 0x1197bdb40>, 3372, {'v': 1}),\n",
       " igraph.Edge(<igraph.Graph object at 0x1197bdb40>, 3374, {'v': 1}),\n",
       " igraph.Edge(<igraph.Graph object at 0x1197bdb40>, 3375, {'v': 26}),\n",
       " igraph.Edge(<igraph.Graph object at 0x1197bdb40>, 3387, {'v': 1}),\n",
       " igraph.Edge(<igraph.Graph object at 0x1197bdb40>, 3388, {'v': 26}),\n",
       " igraph.Edge(<igraph.Graph object at 0x1197bdb40>, 3389, {'v': 2}),\n",
       " igraph.Edge(<igraph.Graph object at 0x1197bdb40>, 3392, {'v': 1}),\n",
       " igraph.Edge(<igraph.Graph object at 0x1197bdb40>, 3393, {'v': 13}),\n",
       " igraph.Edge(<igraph.Graph object at 0x1197bdb40>, 3394, {'v': 19}),\n",
       " igraph.Edge(<igraph.Graph object at 0x1197bdb40>, 3397, {'v': 17}),\n",
       " igraph.Edge(<igraph.Graph object at 0x1197bdb40>, 3399, {'v': 1}),\n",
       " igraph.Edge(<igraph.Graph object at 0x1197bdb40>, 3677, {'v': 1}),\n",
       " igraph.Edge(<igraph.Graph object at 0x1197bdb40>, 3679, {'v': 8}),\n",
       " igraph.Edge(<igraph.Graph object at 0x1197bdb40>, 3683, {'v': 48}),\n",
       " igraph.Edge(<igraph.Graph object at 0x1197bdb40>, 3690, {'v': 1}),\n",
       " igraph.Edge(<igraph.Graph object at 0x1197bdb40>, 3692, {'v': 1}),\n",
       " igraph.Edge(<igraph.Graph object at 0x1197bdb40>, 3970, {'v': 3}),\n",
       " igraph.Edge(<igraph.Graph object at 0x1197bdb40>, 3974, {'v': 7}),\n",
       " igraph.Edge(<igraph.Graph object at 0x1197bdb40>, 3976, {'v': 19}),\n",
       " igraph.Edge(<igraph.Graph object at 0x1197bdb40>, 3977, {'v': 1}),\n",
       " igraph.Edge(<igraph.Graph object at 0x1197bdb40>, 3980, {'v': 8}),\n",
       " igraph.Edge(<igraph.Graph object at 0x1197bdb40>, 4258, {'v': 1}),\n",
       " igraph.Edge(<igraph.Graph object at 0x1197bdb40>, 4259, {'v': 1}),\n",
       " igraph.Edge(<igraph.Graph object at 0x1197bdb40>, 4261, {'v': 10}),\n",
       " igraph.Edge(<igraph.Graph object at 0x1197bdb40>, 4262, {'v': 5}),\n",
       " igraph.Edge(<igraph.Graph object at 0x1197bdb40>, 4269, {'v': 8}),\n",
       " igraph.Edge(<igraph.Graph object at 0x1197bdb40>, 4270, {'v': 1}),\n",
       " igraph.Edge(<igraph.Graph object at 0x1197bdb40>, 4545, {'v': 1}),\n",
       " igraph.Edge(<igraph.Graph object at 0x1197bdb40>, 4546, {'v': 56}),\n",
       " igraph.Edge(<igraph.Graph object at 0x1197bdb40>, 4552, {'v': 1}),\n",
       " igraph.Edge(<igraph.Graph object at 0x1197bdb40>, 4557, {'v': 14}),\n",
       " igraph.Edge(<igraph.Graph object at 0x1197bdb40>, 4558, {'v': 1}),\n",
       " igraph.Edge(<igraph.Graph object at 0x1197bdb40>, 4561, {'v': 8}),\n",
       " igraph.Edge(<igraph.Graph object at 0x1197bdb40>, 4700, {'v': 7}),\n",
       " igraph.Edge(<igraph.Graph object at 0x1197bdb40>, 4705, {'v': 16}),\n",
       " igraph.Edge(<igraph.Graph object at 0x1197bdb40>, 4843, {'v': 7}),\n",
       " igraph.Edge(<igraph.Graph object at 0x1197bdb40>, 4845, {'v': 1}),\n",
       " igraph.Edge(<igraph.Graph object at 0x1197bdb40>, 4846, {'v': 1}),\n",
       " igraph.Edge(<igraph.Graph object at 0x1197bdb40>, 4849, {'v': 7}),\n",
       " igraph.Edge(<igraph.Graph object at 0x1197bdb40>, 375813, {'v': 1}),\n",
       " igraph.Edge(<igraph.Graph object at 0x1197bdb40>, 375814, {'v': 1}),\n",
       " igraph.Edge(<igraph.Graph object at 0x1197bdb40>, 375819, {'v': 1}),\n",
       " igraph.Edge(<igraph.Graph object at 0x1197bdb40>, 375820, {'v': 1}),\n",
       " igraph.Edge(<igraph.Graph object at 0x1197bdb40>, 375827, {'v': 1}),\n",
       " igraph.Edge(<igraph.Graph object at 0x1197bdb40>, 375830, {'v': 7}),\n",
       " igraph.Edge(<igraph.Graph object at 0x1197bdb40>, 375831, {'v': 7}),\n",
       " igraph.Edge(<igraph.Graph object at 0x1197bdb40>, 375832, {'v': 1}),\n",
       " igraph.Edge(<igraph.Graph object at 0x1197bdb40>, 3373, {'v': 1}),\n",
       " igraph.Edge(<igraph.Graph object at 0x1197bdb40>, 3376, {'v': 1}),\n",
       " igraph.Edge(<igraph.Graph object at 0x1197bdb40>, 3377, {'v': 1}),\n",
       " igraph.Edge(<igraph.Graph object at 0x1197bdb40>, 3378, {'v': 1}),\n",
       " igraph.Edge(<igraph.Graph object at 0x1197bdb40>, 3379, {'v': 1}),\n",
       " igraph.Edge(<igraph.Graph object at 0x1197bdb40>, 3380, {'v': 1}),\n",
       " igraph.Edge(<igraph.Graph object at 0x1197bdb40>, 3381, {'v': 61}),\n",
       " igraph.Edge(<igraph.Graph object at 0x1197bdb40>, 3382, {'v': 1}),\n",
       " igraph.Edge(<igraph.Graph object at 0x1197bdb40>, 3383, {'v': 1}),\n",
       " igraph.Edge(<igraph.Graph object at 0x1197bdb40>, 3384, {'v': 1}),\n",
       " igraph.Edge(<igraph.Graph object at 0x1197bdb40>, 3385, {'v': 1}),\n",
       " igraph.Edge(<igraph.Graph object at 0x1197bdb40>, 3386, {'v': 1}),\n",
       " igraph.Edge(<igraph.Graph object at 0x1197bdb40>, 3390, {'v': 1}),\n",
       " igraph.Edge(<igraph.Graph object at 0x1197bdb40>, 3391, {'v': 1}),\n",
       " igraph.Edge(<igraph.Graph object at 0x1197bdb40>, 3395, {'v': 13}),\n",
       " igraph.Edge(<igraph.Graph object at 0x1197bdb40>, 3396, {'v': 1}),\n",
       " igraph.Edge(<igraph.Graph object at 0x1197bdb40>, 3398, {'v': 1}),\n",
       " igraph.Edge(<igraph.Graph object at 0x1197bdb40>, 3400, {'v': 1}),\n",
       " igraph.Edge(<igraph.Graph object at 0x1197bdb40>, 4851, {'v': 3}),\n",
       " igraph.Edge(<igraph.Graph object at 0x1197bdb40>, 4990, {'v': 1}),\n",
       " igraph.Edge(<igraph.Graph object at 0x1197bdb40>, 4992, {'v': 13}),\n",
       " igraph.Edge(<igraph.Graph object at 0x1197bdb40>, 4993, {'v': 7}),\n",
       " igraph.Edge(<igraph.Graph object at 0x1197bdb40>, 5000, {'v': 1}),\n",
       " igraph.Edge(<igraph.Graph object at 0x1197bdb40>, 5005, {'v': 1}),\n",
       " igraph.Edge(<igraph.Graph object at 0x1197bdb40>, 5006, {'v': 1}),\n",
       " igraph.Edge(<igraph.Graph object at 0x1197bdb40>, 5011, {'v': 1}),\n",
       " igraph.Edge(<igraph.Graph object at 0x1197bdb40>, 5013, {'v': 20}),\n",
       " igraph.Edge(<igraph.Graph object at 0x1197bdb40>, 5014, {'v': 1}),\n",
       " igraph.Edge(<igraph.Graph object at 0x1197bdb40>, 5016, {'v': 27}),\n",
       " igraph.Edge(<igraph.Graph object at 0x1197bdb40>, 5017, {'v': 1}),\n",
       " igraph.Edge(<igraph.Graph object at 0x1197bdb40>, 5018, {'v': 5}),\n",
       " igraph.Edge(<igraph.Graph object at 0x1197bdb40>, 5019, {'v': 2}),\n",
       " igraph.Edge(<igraph.Graph object at 0x1197bdb40>, 5021, {'v': 1}),\n",
       " igraph.Edge(<igraph.Graph object at 0x1197bdb40>, 5023, {'v': 13}),\n",
       " igraph.Edge(<igraph.Graph object at 0x1197bdb40>, 5024, {'v': 2}),\n",
       " igraph.Edge(<igraph.Graph object at 0x1197bdb40>, 5025, {'v': 1}),\n",
       " igraph.Edge(<igraph.Graph object at 0x1197bdb40>, 5028, {'v': 1}),\n",
       " igraph.Edge(<igraph.Graph object at 0x1197bdb40>, 5303, {'v': 16}),\n",
       " igraph.Edge(<igraph.Graph object at 0x1197bdb40>, 5304, {'v': 1}),\n",
       " igraph.Edge(<igraph.Graph object at 0x1197bdb40>, 5305, {'v': 1}),\n",
       " igraph.Edge(<igraph.Graph object at 0x1197bdb40>, 5306, {'v': 55}),\n",
       " igraph.Edge(<igraph.Graph object at 0x1197bdb40>, 5307, {'v': 1}),\n",
       " igraph.Edge(<igraph.Graph object at 0x1197bdb40>, 5308, {'v': 9}),\n",
       " igraph.Edge(<igraph.Graph object at 0x1197bdb40>, 5309, {'v': 1}),\n",
       " igraph.Edge(<igraph.Graph object at 0x1197bdb40>, 5312, {'v': 1}),\n",
       " igraph.Edge(<igraph.Graph object at 0x1197bdb40>, 5315, {'v': 1}),\n",
       " igraph.Edge(<igraph.Graph object at 0x1197bdb40>, 5316, {'v': 1}),\n",
       " igraph.Edge(<igraph.Graph object at 0x1197bdb40>, 5593, {'v': 25}),\n",
       " igraph.Edge(<igraph.Graph object at 0x1197bdb40>, 5598, {'v': 1}),\n",
       " igraph.Edge(<igraph.Graph object at 0x1197bdb40>, 5601, {'v': 1}),\n",
       " igraph.Edge(<igraph.Graph object at 0x1197bdb40>, 5602, {'v': 2}),\n",
       " igraph.Edge(<igraph.Graph object at 0x1197bdb40>, 5603, {'v': 1}),\n",
       " igraph.Edge(<igraph.Graph object at 0x1197bdb40>, 5885, {'v': 1}),\n",
       " igraph.Edge(<igraph.Graph object at 0x1197bdb40>, 6161, {'v': 7}),\n",
       " igraph.Edge(<igraph.Graph object at 0x1197bdb40>, 6163, {'v': 7}),\n",
       " igraph.Edge(<igraph.Graph object at 0x1197bdb40>, 6164, {'v': 1}),\n",
       " igraph.Edge(<igraph.Graph object at 0x1197bdb40>, 6169, {'v': 1}),\n",
       " igraph.Edge(<igraph.Graph object at 0x1197bdb40>, 6170, {'v': 7}),\n",
       " igraph.Edge(<igraph.Graph object at 0x1197bdb40>, 6445, {'v': 1}),\n",
       " igraph.Edge(<igraph.Graph object at 0x1197bdb40>, 6447, {'v': 13}),\n",
       " igraph.Edge(<igraph.Graph object at 0x1197bdb40>, 6448, {'v': 1}),\n",
       " igraph.Edge(<igraph.Graph object at 0x1197bdb40>, 6449, {'v': 1}),\n",
       " igraph.Edge(<igraph.Graph object at 0x1197bdb40>, 6452, {'v': 2}),\n",
       " igraph.Edge(<igraph.Graph object at 0x1197bdb40>, 6593, {'v': 1}),\n",
       " igraph.Edge(<igraph.Graph object at 0x1197bdb40>, 6595, {'v': 37}),\n",
       " igraph.Edge(<igraph.Graph object at 0x1197bdb40>, 6597, {'v': 13}),\n",
       " igraph.Edge(<igraph.Graph object at 0x1197bdb40>, 6736, {'v': 1}),\n",
       " igraph.Edge(<igraph.Graph object at 0x1197bdb40>, 6738, {'v': 9}),\n",
       " igraph.Edge(<igraph.Graph object at 0x1197bdb40>, 6739, {'v': 1}),\n",
       " igraph.Edge(<igraph.Graph object at 0x1197bdb40>, 6742, {'v': 65}),\n",
       " igraph.Edge(<igraph.Graph object at 0x1197bdb40>, 6746, {'v': 1}),\n",
       " igraph.Edge(<igraph.Graph object at 0x1197bdb40>, 6747, {'v': 24}),\n",
       " igraph.Edge(<igraph.Graph object at 0x1197bdb40>, 6748, {'v': 51}),\n",
       " igraph.Edge(<igraph.Graph object at 0x1197bdb40>, 6749, {'v': 61}),\n",
       " igraph.Edge(<igraph.Graph object at 0x1197bdb40>, 6751, {'v': 57}),\n",
       " igraph.Edge(<igraph.Graph object at 0x1197bdb40>, 6893, {'v': 7}),\n",
       " igraph.Edge(<igraph.Graph object at 0x1197bdb40>, 7034, {'v': 1}),\n",
       " igraph.Edge(<igraph.Graph object at 0x1197bdb40>, 7035, {'v': 1}),\n",
       " igraph.Edge(<igraph.Graph object at 0x1197bdb40>, 7040, {'v': 1}),\n",
       " igraph.Edge(<igraph.Graph object at 0x1197bdb40>, 7043, {'v': 17}),\n",
       " igraph.Edge(<igraph.Graph object at 0x1197bdb40>, 7044, {'v': 7}),\n",
       " igraph.Edge(<igraph.Graph object at 0x1197bdb40>, 7465, {'v': 1}),\n",
       " igraph.Edge(<igraph.Graph object at 0x1197bdb40>, 7466, {'v': 18}),\n",
       " igraph.Edge(<igraph.Graph object at 0x1197bdb40>, 7469, {'v': 1}),\n",
       " igraph.Edge(<igraph.Graph object at 0x1197bdb40>, 7470, {'v': 31}),\n",
       " igraph.Edge(<igraph.Graph object at 0x1197bdb40>, 7748, {'v': 1}),\n",
       " igraph.Edge(<igraph.Graph object at 0x1197bdb40>, 7756, {'v': 1}),\n",
       " igraph.Edge(<igraph.Graph object at 0x1197bdb40>, 7758, {'v': 1}),\n",
       " igraph.Edge(<igraph.Graph object at 0x1197bdb40>, 8035, {'v': 1}),\n",
       " igraph.Edge(<igraph.Graph object at 0x1197bdb40>, 8036, {'v': 1}),\n",
       " igraph.Edge(<igraph.Graph object at 0x1197bdb40>, 8038, {'v': 1}),\n",
       " igraph.Edge(<igraph.Graph object at 0x1197bdb40>, 8039, {'v': 1}),\n",
       " igraph.Edge(<igraph.Graph object at 0x1197bdb40>, 8041, {'v': 1}),\n",
       " igraph.Edge(<igraph.Graph object at 0x1197bdb40>, 8042, {'v': 1}),\n",
       " igraph.Edge(<igraph.Graph object at 0x1197bdb40>, 8049, {'v': 13}),\n",
       " igraph.Edge(<igraph.Graph object at 0x1197bdb40>, 8324, {'v': 1}),\n",
       " igraph.Edge(<igraph.Graph object at 0x1197bdb40>, 8325, {'v': 1}),\n",
       " igraph.Edge(<igraph.Graph object at 0x1197bdb40>, 8326, {'v': 1}),\n",
       " igraph.Edge(<igraph.Graph object at 0x1197bdb40>, 8329, {'v': 1}),\n",
       " igraph.Edge(<igraph.Graph object at 0x1197bdb40>, 8331, {'v': 10}),\n",
       " igraph.Edge(<igraph.Graph object at 0x1197bdb40>, 8332, {'v': 1}),\n",
       " igraph.Edge(<igraph.Graph object at 0x1197bdb40>, 8335, {'v': 1}),\n",
       " igraph.Edge(<igraph.Graph object at 0x1197bdb40>, 8615, {'v': 24}),\n",
       " igraph.Edge(<igraph.Graph object at 0x1197bdb40>, 375835, {'v': 1}),\n",
       " igraph.Edge(<igraph.Graph object at 0x1197bdb40>, 375841, {'v': 33}),\n",
       " igraph.Edge(<igraph.Graph object at 0x1197bdb40>, 375842, {'v': 1}),\n",
       " igraph.Edge(<igraph.Graph object at 0x1197bdb40>, 375845, {'v': 1}),\n",
       " igraph.Edge(<igraph.Graph object at 0x1197bdb40>, 375846, {'v': 1}),\n",
       " igraph.Edge(<igraph.Graph object at 0x1197bdb40>, 375850, {'v': 33}),\n",
       " igraph.Edge(<igraph.Graph object at 0x1197bdb40>, 375852, {'v': 1}),\n",
       " igraph.Edge(<igraph.Graph object at 0x1197bdb40>, 375855, {'v': 7}),\n",
       " igraph.Edge(<igraph.Graph object at 0x1197bdb40>, 3675, {'v': 1}),\n",
       " igraph.Edge(<igraph.Graph object at 0x1197bdb40>, 3676, {'v': 1}),\n",
       " igraph.Edge(<igraph.Graph object at 0x1197bdb40>, 3678, {'v': 2}),\n",
       " igraph.Edge(<igraph.Graph object at 0x1197bdb40>, 3680, {'v': 1}),\n",
       " igraph.Edge(<igraph.Graph object at 0x1197bdb40>, 3681, {'v': 1}),\n",
       " igraph.Edge(<igraph.Graph object at 0x1197bdb40>, 3682, {'v': 1}),\n",
       " igraph.Edge(<igraph.Graph object at 0x1197bdb40>, 3684, {'v': 1}),\n",
       " igraph.Edge(<igraph.Graph object at 0x1197bdb40>, 3685, {'v': 1}),\n",
       " igraph.Edge(<igraph.Graph object at 0x1197bdb40>, 3686, {'v': 1}),\n",
       " igraph.Edge(<igraph.Graph object at 0x1197bdb40>, 3687, {'v': 1}),\n",
       " igraph.Edge(<igraph.Graph object at 0x1197bdb40>, 3688, {'v': 1}),\n",
       " igraph.Edge(<igraph.Graph object at 0x1197bdb40>, 3689, {'v': 1}),\n",
       " igraph.Edge(<igraph.Graph object at 0x1197bdb40>, 3691, {'v': 1}),\n",
       " igraph.Edge(<igraph.Graph object at 0x1197bdb40>, 3693, {'v': 1}),\n",
       " igraph.Edge(<igraph.Graph object at 0x1197bdb40>, 3694, {'v': 1}),\n",
       " igraph.Edge(<igraph.Graph object at 0x1197bdb40>, 375858, {'v': 1}),\n",
       " igraph.Edge(<igraph.Graph object at 0x1197bdb40>, 375859, {'v': 1}),\n",
       " igraph.Edge(<igraph.Graph object at 0x1197bdb40>, 375861, {'v': 7}),\n",
       " igraph.Edge(<igraph.Graph object at 0x1197bdb40>, 375870, {'v': 1}),\n",
       " igraph.Edge(<igraph.Graph object at 0x1197bdb40>, 375873, {'v': 1}),\n",
       " igraph.Edge(<igraph.Graph object at 0x1197bdb40>, 375874, {'v': 7}),\n",
       " igraph.Edge(<igraph.Graph object at 0x1197bdb40>, 375877, {'v': 13}),\n",
       " ...]"
      ]
     },
     "execution_count": 149,
     "metadata": {},
     "output_type": "execute_result"
    }
   ],
   "source": [
    "[edge for j in k1[0][:5] for edge in g.vs[j].out_edges() ]"
   ]
  },
  {
   "cell_type": "code",
   "execution_count": 144,
   "id": "c24a5ebd",
   "metadata": {},
   "outputs": [
    {
     "data": {
      "text/plain": [
       "igraph.Edge(<igraph.Graph object at 0x1197bdb40>, 116302, {'v': 24})"
      ]
     },
     "execution_count": 144,
     "metadata": {},
     "output_type": "execute_result"
    }
   ],
   "source": [
    "g.es[116302]"
   ]
  },
  {
   "cell_type": "code",
   "execution_count": 111,
   "id": "4d6987c6",
   "metadata": {},
   "outputs": [],
   "source": [
    "def into_ijv_for_edge(graph:ig.Graph, edge:ig.Edge, degree:int):\n",
    "    return {\n",
    "        'i': graph.vs[edge.tuple[0]][\"name\"],\n",
    "        'j': graph.vs[edge.tuple[1]][\"name\"],\n",
    "        'v': edge[\"v\"],\n",
    "        'k': degree\n",
    "    }"
   ]
  },
  {
   "cell_type": "code",
   "execution_count": 175,
   "id": "04593697",
   "metadata": {},
   "outputs": [],
   "source": [
    "def get_localtrust_with_degree(graph:ig.Graph, in_addr:str, limit_rows:int, max_degree:int) -> list: \n",
    "    lt = []\n",
    "    mindist_and_order = 1\n",
    "    limit = limit_rows\n",
    "    while mindist_and_order <= max_degree:\n",
    "        neighbors = graph.neighborhood(\n",
    "            [in_addr], order=mindist_and_order, mode=\"out\", mindist=mindist_and_order\n",
    "        )\n",
    "        k_edges = [edge for j in neighbors[0][:limit] for edge in graph.vs[j].out_edges()]\n",
    "        \n",
    "        [lt.append(into_ijv_for_edge(graph, e, mindist_and_order)) for e in k_edges]\n",
    "\n",
    "        limit = limit - len(neighbors[0])\n",
    "        if limit <= 0:\n",
    "            break # we have reached limit of neighbors\n",
    "        mindist_and_order += 1\n",
    "    # end of while\n",
    "    return lt"
   ]
  },
  {
   "cell_type": "code",
   "execution_count": 155,
   "id": "23ad787c",
   "metadata": {},
   "outputs": [
    {
     "name": "stdout",
     "output_type": "stream",
     "text": [
      "limit:10 order:1 mindist:1\n",
      "CPU times: user 17.3 ms, sys: 1.71 ms, total: 19 ms\n",
      "Wall time: 18.9 ms\n"
     ]
    }
   ],
   "source": [
    "%%time\n",
    "localtrust = get_localtrust_with_degree(graph=g,\n",
    "                                        in_addr=\"0x0a860752374e8430b7ae704df85b24d6f6b9adf4\",\n",
    "                                        limit_rows=10,\n",
    "                                        max_degree=3)"
   ]
  },
  {
   "cell_type": "code",
   "execution_count": 157,
   "id": "14d6e173",
   "metadata": {},
   "outputs": [
    {
     "data": {
      "text/plain": [
       "3527"
      ]
     },
     "execution_count": 157,
     "metadata": {},
     "output_type": "execute_result"
    }
   ],
   "source": [
    "len(localtrust)"
   ]
  },
  {
   "cell_type": "code",
   "execution_count": 158,
   "id": "8f725837",
   "metadata": {},
   "outputs": [
    {
     "data": {
      "text/plain": [
       "[{'i': '0xcd1bae2391651198850b076c2b600d534df53ade',\n",
       "  'j': '0xb5cc423792f6d431a548cf9cf0884652a8815dc4',\n",
       "  'v': 1,\n",
       "  'k': 1},\n",
       " {'i': '0xcd1bae2391651198850b076c2b600d534df53ade',\n",
       "  'j': '0x9377060c5625200074fa956b76c6c0cb58876262',\n",
       "  'v': 1,\n",
       "  'k': 1},\n",
       " {'i': '0xcd1bae2391651198850b076c2b600d534df53ade',\n",
       "  'j': '0x3466def688a8057d62a2722f1f73ee6ec77fbab8',\n",
       "  'v': 1,\n",
       "  'k': 1},\n",
       " {'i': '0xcd1bae2391651198850b076c2b600d534df53ade',\n",
       "  'j': '0x7f2fe84c1d9d8dec87c8871cfbcbef93abca00dc',\n",
       "  'v': 7,\n",
       "  'k': 1},\n",
       " {'i': '0xcd1bae2391651198850b076c2b600d534df53ade',\n",
       "  'j': '0xa5acef63ba1ad6fcace61e8640b039b7f54a23c8',\n",
       "  'v': 1,\n",
       "  'k': 1}]"
      ]
     },
     "execution_count": 158,
     "metadata": {},
     "output_type": "execute_result"
    }
   ],
   "source": [
    "import random\n",
    "random.sample(localtrust,5)"
   ]
  },
  {
   "cell_type": "code",
   "execution_count": 166,
   "id": "08002f2f",
   "metadata": {},
   "outputs": [
    {
     "name": "stdout",
     "output_type": "stream",
     "text": [
      "limit:100 order:1 mindist:1\n",
      "CPU times: user 195 ms, sys: 18.6 ms, total: 213 ms\n",
      "Wall time: 228 ms\n"
     ]
    }
   ],
   "source": [
    "%%time\n",
    "localtrust = get_localtrust_with_degree(graph=g,\n",
    "                                        in_addr=\"0x0a860752374e8430b7ae704df85b24d6f6b9adf4\",\n",
    "                                        limit_rows=100,\n",
    "                                        max_degree=5)"
   ]
  },
  {
   "cell_type": "code",
   "execution_count": 167,
   "id": "62b668a0",
   "metadata": {},
   "outputs": [
    {
     "data": {
      "text/plain": [
       "44272"
      ]
     },
     "execution_count": 167,
     "metadata": {},
     "output_type": "execute_result"
    }
   ],
   "source": [
    "len(localtrust)"
   ]
  },
  {
   "cell_type": "code",
   "execution_count": 164,
   "id": "f6381d86",
   "metadata": {},
   "outputs": [
    {
     "data": {
      "text/plain": [
       "[{'i': '0x52c86459268be2a6d46e7b900a6452a02f63e03e',\n",
       "  'j': '0x57b15d8996a4f9b869a94f7c558b0314da59a530',\n",
       "  'v': 13,\n",
       "  'k': 2},\n",
       " {'i': '0x330807f36ea25e5a35532b4d17c989aa061a36d3',\n",
       "  'j': '0x096f5d02777e9385739bd220eb86de8ef545c300',\n",
       "  'v': 1,\n",
       "  'k': 2},\n",
       " {'i': '0x49b25f8e4503919ec6a7ea664d569041ae0f09e2',\n",
       "  'j': '0x51b93c6399053cbb33158e4b7305ca489da20ef7',\n",
       "  'v': 3,\n",
       "  'k': 2},\n",
       " {'i': '0xdf37c3e9bd198a679f72bbac53946b27bad3064f',\n",
       "  'j': '0xb2aff6af66ed88297557761e7ac406c0385ffe74',\n",
       "  'v': 1,\n",
       "  'k': 2},\n",
       " {'i': '0x981b849a2857e47927300c32da50b07592cb4c46',\n",
       "  'j': '0xd2344f892241e3a83c7eca8e586093714be8ca7f',\n",
       "  'v': 1,\n",
       "  'k': 2}]"
      ]
     },
     "execution_count": 164,
     "metadata": {},
     "output_type": "execute_result"
    }
   ],
   "source": [
    "import random\n",
    "random.sample(localtrust, 5)"
   ]
  },
  {
   "cell_type": "code",
   "execution_count": 168,
   "id": "da1b26c8",
   "metadata": {},
   "outputs": [
    {
     "name": "stdout",
     "output_type": "stream",
     "text": [
      "limit:100 order:1 mindist:1\n",
      "limit:65 order:2 mindist:2\n",
      "CPU times: user 252 ms, sys: 15.1 ms, total: 267 ms\n",
      "Wall time: 280 ms\n"
     ]
    }
   ],
   "source": [
    "%%time\n",
    "localtrust = get_localtrust_with_degree(graph=g,\n",
    "                                        in_addr=\"0x7ea38f878aec603bbce2376ded83d502bd2d881e\",\n",
    "                                        limit_rows=100,\n",
    "                                        max_degree=5)"
   ]
  },
  {
   "cell_type": "code",
   "execution_count": 169,
   "id": "a3abde54",
   "metadata": {},
   "outputs": [
    {
     "data": {
      "text/plain": [
       "59251"
      ]
     },
     "execution_count": 169,
     "metadata": {},
     "output_type": "execute_result"
    }
   ],
   "source": [
    "len(localtrust)"
   ]
  },
  {
   "cell_type": "code",
   "execution_count": 170,
   "id": "734b779b",
   "metadata": {},
   "outputs": [
    {
     "data": {
      "text/plain": [
       "44784"
      ]
     },
     "execution_count": 170,
     "metadata": {},
     "output_type": "execute_result"
    }
   ],
   "source": [
    "len(g.vs)"
   ]
  },
  {
   "cell_type": "code",
   "execution_count": 173,
   "id": "4534a338",
   "metadata": {},
   "outputs": [
    {
     "data": {
      "text/plain": [
       "'0xcd1bae2391651198850b076c2b600d534df53ade'"
      ]
     },
     "execution_count": 173,
     "metadata": {},
     "output_type": "execute_result"
    }
   ],
   "source": [
    "g.vs[0][\"name\"]"
   ]
  },
  {
   "cell_type": "code",
   "execution_count": 177,
   "id": "846dd70a",
   "metadata": {},
   "outputs": [
    {
     "name": "stderr",
     "output_type": "stream",
     "text": [
      " 11%|██████████████▉                                                                                                                        | 4954/44784 [21:45<2:54:55,  3.80it/s]\n"
     ]
    },
    {
     "ename": "KeyboardInterrupt",
     "evalue": "",
     "output_type": "error",
     "traceback": [
      "\u001b[0;31m---------------------------------------------------------------------------\u001b[0m",
      "\u001b[0;31mKeyboardInterrupt\u001b[0m                         Traceback (most recent call last)",
      "File \u001b[0;32m<timed exec>:3\u001b[0m\n",
      "Cell \u001b[0;32mIn[175], line 11\u001b[0m, in \u001b[0;36mget_localtrust_with_degree\u001b[0;34m(graph, in_addr, limit_rows, max_degree)\u001b[0m\n\u001b[1;32m      6\u001b[0m neighbors \u001b[38;5;241m=\u001b[39m graph\u001b[38;5;241m.\u001b[39mneighborhood(\n\u001b[1;32m      7\u001b[0m     [in_addr], order\u001b[38;5;241m=\u001b[39mmindist_and_order, mode\u001b[38;5;241m=\u001b[39m\u001b[38;5;124m\"\u001b[39m\u001b[38;5;124mout\u001b[39m\u001b[38;5;124m\"\u001b[39m, mindist\u001b[38;5;241m=\u001b[39mmindist_and_order\n\u001b[1;32m      8\u001b[0m )\n\u001b[1;32m      9\u001b[0m k_edges \u001b[38;5;241m=\u001b[39m [edge \u001b[38;5;28;01mfor\u001b[39;00m j \u001b[38;5;129;01min\u001b[39;00m neighbors[\u001b[38;5;241m0\u001b[39m][:limit] \u001b[38;5;28;01mfor\u001b[39;00m edge \u001b[38;5;129;01min\u001b[39;00m graph\u001b[38;5;241m.\u001b[39mvs[j]\u001b[38;5;241m.\u001b[39mout_edges()]\n\u001b[0;32m---> 11\u001b[0m [lt\u001b[38;5;241m.\u001b[39mappend(into_ijv_for_edge(graph, e, mindist_and_order)) \u001b[38;5;28;01mfor\u001b[39;00m e \u001b[38;5;129;01min\u001b[39;00m k_edges]\n\u001b[1;32m     13\u001b[0m limit \u001b[38;5;241m=\u001b[39m limit \u001b[38;5;241m-\u001b[39m \u001b[38;5;28mlen\u001b[39m(neighbors[\u001b[38;5;241m0\u001b[39m])\n\u001b[1;32m     14\u001b[0m \u001b[38;5;28;01mif\u001b[39;00m limit \u001b[38;5;241m<\u001b[39m\u001b[38;5;241m=\u001b[39m \u001b[38;5;241m0\u001b[39m:\n",
      "Cell \u001b[0;32mIn[175], line 11\u001b[0m, in \u001b[0;36m<listcomp>\u001b[0;34m(.0)\u001b[0m\n\u001b[1;32m      6\u001b[0m neighbors \u001b[38;5;241m=\u001b[39m graph\u001b[38;5;241m.\u001b[39mneighborhood(\n\u001b[1;32m      7\u001b[0m     [in_addr], order\u001b[38;5;241m=\u001b[39mmindist_and_order, mode\u001b[38;5;241m=\u001b[39m\u001b[38;5;124m\"\u001b[39m\u001b[38;5;124mout\u001b[39m\u001b[38;5;124m\"\u001b[39m, mindist\u001b[38;5;241m=\u001b[39mmindist_and_order\n\u001b[1;32m      8\u001b[0m )\n\u001b[1;32m      9\u001b[0m k_edges \u001b[38;5;241m=\u001b[39m [edge \u001b[38;5;28;01mfor\u001b[39;00m j \u001b[38;5;129;01min\u001b[39;00m neighbors[\u001b[38;5;241m0\u001b[39m][:limit] \u001b[38;5;28;01mfor\u001b[39;00m edge \u001b[38;5;129;01min\u001b[39;00m graph\u001b[38;5;241m.\u001b[39mvs[j]\u001b[38;5;241m.\u001b[39mout_edges()]\n\u001b[0;32m---> 11\u001b[0m [lt\u001b[38;5;241m.\u001b[39mappend(\u001b[43minto_ijv_for_edge\u001b[49m\u001b[43m(\u001b[49m\u001b[43mgraph\u001b[49m\u001b[43m,\u001b[49m\u001b[43m \u001b[49m\u001b[43me\u001b[49m\u001b[43m,\u001b[49m\u001b[43m \u001b[49m\u001b[43mmindist_and_order\u001b[49m\u001b[43m)\u001b[49m) \u001b[38;5;28;01mfor\u001b[39;00m e \u001b[38;5;129;01min\u001b[39;00m k_edges]\n\u001b[1;32m     13\u001b[0m limit \u001b[38;5;241m=\u001b[39m limit \u001b[38;5;241m-\u001b[39m \u001b[38;5;28mlen\u001b[39m(neighbors[\u001b[38;5;241m0\u001b[39m])\n\u001b[1;32m     14\u001b[0m \u001b[38;5;28;01mif\u001b[39;00m limit \u001b[38;5;241m<\u001b[39m\u001b[38;5;241m=\u001b[39m \u001b[38;5;241m0\u001b[39m:\n",
      "Cell \u001b[0;32mIn[111], line 4\u001b[0m, in \u001b[0;36minto_ijv_for_edge\u001b[0;34m(graph, edge, degree)\u001b[0m\n\u001b[1;32m      1\u001b[0m \u001b[38;5;28;01mdef\u001b[39;00m \u001b[38;5;21minto_ijv_for_edge\u001b[39m(graph:ig\u001b[38;5;241m.\u001b[39mGraph, edge:ig\u001b[38;5;241m.\u001b[39mEdge, degree:\u001b[38;5;28mint\u001b[39m):\n\u001b[1;32m      2\u001b[0m     \u001b[38;5;28;01mreturn\u001b[39;00m {\n\u001b[1;32m      3\u001b[0m         \u001b[38;5;124m'\u001b[39m\u001b[38;5;124mi\u001b[39m\u001b[38;5;124m'\u001b[39m: graph\u001b[38;5;241m.\u001b[39mvs[edge\u001b[38;5;241m.\u001b[39mtuple[\u001b[38;5;241m0\u001b[39m]][\u001b[38;5;124m\"\u001b[39m\u001b[38;5;124mname\u001b[39m\u001b[38;5;124m\"\u001b[39m],\n\u001b[0;32m----> 4\u001b[0m         \u001b[38;5;124m'\u001b[39m\u001b[38;5;124mj\u001b[39m\u001b[38;5;124m'\u001b[39m: \u001b[43mgraph\u001b[49m\u001b[38;5;241;43m.\u001b[39;49m\u001b[43mvs\u001b[49m\u001b[43m[\u001b[49m\u001b[43medge\u001b[49m\u001b[38;5;241;43m.\u001b[39;49m\u001b[43mtuple\u001b[49m\u001b[43m[\u001b[49m\u001b[38;5;241;43m1\u001b[39;49m\u001b[43m]\u001b[49m\u001b[43m]\u001b[49m[\u001b[38;5;124m\"\u001b[39m\u001b[38;5;124mname\u001b[39m\u001b[38;5;124m\"\u001b[39m],\n\u001b[1;32m      5\u001b[0m         \u001b[38;5;124m'\u001b[39m\u001b[38;5;124mv\u001b[39m\u001b[38;5;124m'\u001b[39m: edge[\u001b[38;5;124m\"\u001b[39m\u001b[38;5;124mv\u001b[39m\u001b[38;5;124m\"\u001b[39m],\n\u001b[1;32m      6\u001b[0m         \u001b[38;5;124m'\u001b[39m\u001b[38;5;124mk\u001b[39m\u001b[38;5;124m'\u001b[39m: degree\n\u001b[1;32m      7\u001b[0m     }\n",
      "\u001b[0;31mKeyboardInterrupt\u001b[0m: "
     ]
    }
   ],
   "source": [
    "%%time\n",
    "from tqdm import tqdm\n",
    "for v in tqdm(g.vs):\n",
    "    get_localtrust_with_degree(\n",
    "        graph=g,\n",
    "        in_addr=v[\"name\"],\n",
    "        limit_rows=100,\n",
    "        max_degree=5\n",
    "    )"
   ]
  },
  {
   "cell_type": "code",
   "execution_count": null,
   "id": "25821357",
   "metadata": {},
   "outputs": [],
   "source": []
  }
 ],
 "metadata": {
  "kernelspec": {
   "display_name": "k3l-suggest-env3",
   "language": "python",
   "name": "k3l-suggest-env3"
  },
  "language_info": {
   "codemirror_mode": {
    "name": "ipython",
    "version": 3
   },
   "file_extension": ".py",
   "mimetype": "text/x-python",
   "name": "python",
   "nbconvert_exporter": "python",
   "pygments_lexer": "ipython3",
   "version": "3.9.18"
  }
 },
 "nbformat": 4,
 "nbformat_minor": 5
}
