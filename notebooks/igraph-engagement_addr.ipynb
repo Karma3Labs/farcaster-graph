{
 "cells": [
  {
   "cell_type": "code",
   "execution_count": 1,
   "id": "168cb528",
   "metadata": {},
   "outputs": [],
   "source": [
    "import igraph as ig\n",
    "import pandas as pd\n",
    "import os"
   ]
  },
  {
   "cell_type": "code",
   "execution_count": 2,
   "id": "be19fb04",
   "metadata": {},
   "outputs": [
    {
     "data": {
      "text/plain": [
       "['fc_l1rep6rec3m12enhancedConnections_fids.gml',\n",
       " 'lt_existingConnections_fids.csv',\n",
       " 'fc_l1rep6rec3m12enhancedConnections.gml',\n",
       " 'lt_l1rep6rec3m12enhancedConnections.csv',\n",
       " 'lt_l1rep6rec3m12enhancedConnections_fids.csv',\n",
       " 'lt_existingConnections.csv']"
      ]
     },
     "execution_count": 2,
     "metadata": {},
     "output_type": "execute_result"
    }
   ],
   "source": [
    "os.listdir(\"data/\")"
   ]
  },
  {
   "cell_type": "code",
   "execution_count": 168,
   "id": "d1a884f5",
   "metadata": {},
   "outputs": [
    {
     "name": "stdout",
     "output_type": "stream",
     "text": [
      "True\n"
     ]
    }
   ],
   "source": [
    "df_pkl_filepath = \"data/fc_l1rep6rec3m12enhancedConnections_df.pkl\"\n",
    "print(os.path.isfile(df_pkl_filepath))"
   ]
  },
  {
   "cell_type": "code",
   "execution_count": 169,
   "id": "9ec4f270",
   "metadata": {},
   "outputs": [
    {
     "name": "stdout",
     "output_type": "stream",
     "text": [
      "loading existing dataframe pickle\n",
      "CPU times: user 309 ms, sys: 135 ms, total: 444 ms\n",
      "Wall time: 476 ms\n"
     ]
    }
   ],
   "source": [
    "%%time\n",
    "if os.path.isfile(df_pkl_filepath):\n",
    "    print(\"loading existing dataframe pickle\")\n",
    "    edges_df = pd.read_pickle(df_pkl_filepath)\n",
    "else:\n",
    "    edges_df = pd.read_csv(\"data/lt_l1rep6rec3m12enhancedConnections.csv\")\n",
    "    edges_df.to_pickle(df_pkl_filepath)"
   ]
  },
  {
   "cell_type": "code",
   "execution_count": 170,
   "id": "ed712807",
   "metadata": {},
   "outputs": [
    {
     "name": "stdout",
     "output_type": "stream",
     "text": [
      "<class 'pandas.core.frame.DataFrame'>\n",
      "RangeIndex: 3456854 entries, 0 to 3456853\n",
      "Data columns (total 3 columns):\n",
      " #   Column  Dtype \n",
      "---  ------  ----- \n",
      " 0   i       object\n",
      " 1   j       object\n",
      " 2   v       int64 \n",
      "dtypes: int64(1), object(2)\n",
      "memory usage: 79.1+ MB\n"
     ]
    }
   ],
   "source": [
    "edges_df.info()"
   ]
  },
  {
   "cell_type": "code",
   "execution_count": 5,
   "id": "a43bbc57",
   "metadata": {},
   "outputs": [
    {
     "data": {
      "text/html": [
       "<div>\n",
       "<style scoped>\n",
       "    .dataframe tbody tr th:only-of-type {\n",
       "        vertical-align: middle;\n",
       "    }\n",
       "\n",
       "    .dataframe tbody tr th {\n",
       "        vertical-align: top;\n",
       "    }\n",
       "\n",
       "    .dataframe thead th {\n",
       "        text-align: right;\n",
       "    }\n",
       "</style>\n",
       "<table border=\"1\" class=\"dataframe\">\n",
       "  <thead>\n",
       "    <tr style=\"text-align: right;\">\n",
       "      <th></th>\n",
       "      <th>i</th>\n",
       "      <th>j</th>\n",
       "      <th>v</th>\n",
       "    </tr>\n",
       "  </thead>\n",
       "  <tbody>\n",
       "    <tr>\n",
       "      <th>744866</th>\n",
       "      <td>0xfdacd6cbc0b082422bd66196364c5ef886c428d3</td>\n",
       "      <td>0x8b63441ade2fa6e64e30d43ae8c71eb40f107344</td>\n",
       "      <td>1</td>\n",
       "    </tr>\n",
       "    <tr>\n",
       "      <th>681736</th>\n",
       "      <td>0x35d6e84de62a5050c227370fc2442cd14bb4cc98</td>\n",
       "      <td>0x0d441a09bfb7712bd00c72d4e4305021b7b8d615</td>\n",
       "      <td>1</td>\n",
       "    </tr>\n",
       "    <tr>\n",
       "      <th>1231034</th>\n",
       "      <td>0x72d9471869bf52d0da523fa9437d2d8ea077d2b6</td>\n",
       "      <td>0xf58ffd2cb44db1c4de799a5118e47681c6dcca9c</td>\n",
       "      <td>2</td>\n",
       "    </tr>\n",
       "    <tr>\n",
       "      <th>3423603</th>\n",
       "      <td>0xca042423b365128810e96c7b1e0196ad0a513855</td>\n",
       "      <td>0xde1e96c194cd54fdebb21db1cecd0c964f1c5054</td>\n",
       "      <td>1</td>\n",
       "    </tr>\n",
       "    <tr>\n",
       "      <th>2378041</th>\n",
       "      <td>0xeab9dba3ea9701c728a7369d3e4ff820863414c1</td>\n",
       "      <td>0x034af1e6161eb5feb44638ea0141e7b11ab43047</td>\n",
       "      <td>1</td>\n",
       "    </tr>\n",
       "  </tbody>\n",
       "</table>\n",
       "</div>"
      ],
      "text/plain": [
       "                                                  i  \\\n",
       "744866   0xfdacd6cbc0b082422bd66196364c5ef886c428d3   \n",
       "681736   0x35d6e84de62a5050c227370fc2442cd14bb4cc98   \n",
       "1231034  0x72d9471869bf52d0da523fa9437d2d8ea077d2b6   \n",
       "3423603  0xca042423b365128810e96c7b1e0196ad0a513855   \n",
       "2378041  0xeab9dba3ea9701c728a7369d3e4ff820863414c1   \n",
       "\n",
       "                                                  j  v  \n",
       "744866   0x8b63441ade2fa6e64e30d43ae8c71eb40f107344  1  \n",
       "681736   0x0d441a09bfb7712bd00c72d4e4305021b7b8d615  1  \n",
       "1231034  0xf58ffd2cb44db1c4de799a5118e47681c6dcca9c  2  \n",
       "3423603  0xde1e96c194cd54fdebb21db1cecd0c964f1c5054  1  \n",
       "2378041  0x034af1e6161eb5feb44638ea0141e7b11ab43047  1  "
      ]
     },
     "execution_count": 5,
     "metadata": {},
     "output_type": "execute_result"
    }
   ],
   "source": [
    "edges_df.sample(5)"
   ]
  },
  {
   "cell_type": "code",
   "execution_count": 6,
   "id": "c7c74527",
   "metadata": {},
   "outputs": [
    {
     "name": "stdout",
     "output_type": "stream",
     "text": [
      "True\n"
     ]
    }
   ],
   "source": [
    "gml_filepath = \"data/fc_l1rep6rec3m12enhancedConnections.gml\"\n",
    "print(os.path.isfile(gml_filepath))"
   ]
  },
  {
   "cell_type": "code",
   "execution_count": 171,
   "id": "d9068ca0",
   "metadata": {},
   "outputs": [
    {
     "name": "stdout",
     "output_type": "stream",
     "text": [
      "True\n"
     ]
    }
   ],
   "source": [
    "pkl_filepath = \"data/fc_l1rep6rec3m12enhancedConnections_ig.pkl\"\n",
    "print(os.path.isfile(pkl_filepath))"
   ]
  },
  {
   "cell_type": "code",
   "execution_count": 7,
   "id": "68a95919",
   "metadata": {},
   "outputs": [
    {
     "name": "stdout",
     "output_type": "stream",
     "text": [
      "loading existing graph model\n",
      "CPU times: user 29.7 s, sys: 1.99 s, total: 31.7 s\n",
      "Wall time: 34.3 s\n"
     ]
    }
   ],
   "source": [
    "%%time\n",
    "if os.path.isfile(pkl_filepath):\n",
    "    print(\"loading existing graph pickle\")\n",
    "    g = igraph.Graph.Read_Pickle(pkl_filepath)\n",
    "elif os.path.isfile(gml_filepath):\n",
    "    print(\"loading existing graph model\")\n",
    "    g = ig.load(gml_filepath)\n",
    "else:\n",
    "    g = ig.Graph.DataFrame(edges_df, directed=True, use_vids=False)\n",
    "    g.write_pickle(pkl_filepath)\n",
    "    g.save(gml_filepath)"
   ]
  },
  {
   "cell_type": "code",
   "execution_count": 43,
   "id": "bfd9b738",
   "metadata": {},
   "outputs": [
    {
     "name": "stdout",
     "output_type": "stream",
     "text": [
      "IGRAPH DN-- 44784 3456854 -- \n",
      "+ attr: id (v), name (v), v (e)\n"
     ]
    }
   ],
   "source": [
    "ig.summary(g)"
   ]
  },
  {
   "cell_type": "code",
   "execution_count": 44,
   "id": "eebcd561",
   "metadata": {},
   "outputs": [
    {
     "data": {
      "text/plain": [
       "[242]"
      ]
     },
     "execution_count": 44,
     "metadata": {},
     "output_type": "execute_result"
    }
   ],
   "source": [
    "g.degree([\"0x0a860752374e8430b7ae704df85b24d6f6b9adf4\"], mode=\"out\")"
   ]
  },
  {
   "cell_type": "code",
   "execution_count": 10,
   "id": "d99fc8bb",
   "metadata": {},
   "outputs": [
    {
     "name": "stdout",
     "output_type": "stream",
     "text": [
      "CPU times: user 185 µs, sys: 428 µs, total: 613 µs\n",
      "Wall time: 2.15 ms\n"
     ]
    }
   ],
   "source": [
    "%%time\n",
    "mindist = 1 # exclude the input vertex\n",
    "order = 1\n",
    "k1 = g.neighborhood(['0x0a860752374e8430b7ae704df85b24d6f6b9adf4'], order=order, mode=\"out\", mindist=mindist)"
   ]
  },
  {
   "cell_type": "code",
   "execution_count": 11,
   "id": "86a969ba",
   "metadata": {},
   "outputs": [
    {
     "data": {
      "text/plain": [
       "242"
      ]
     },
     "execution_count": 11,
     "metadata": {},
     "output_type": "execute_result"
    }
   ],
   "source": [
    "len(k1[0])"
   ]
  },
  {
   "cell_type": "code",
   "execution_count": 12,
   "id": "38ebe88e",
   "metadata": {},
   "outputs": [
    {
     "name": "stdout",
     "output_type": "stream",
     "text": [
      "CPU times: user 1.06 ms, sys: 640 µs, total: 1.7 ms\n",
      "Wall time: 3.35 ms\n"
     ]
    }
   ],
   "source": [
    "%%time\n",
    "mindist = 2 # exclude k1\n",
    "order = 2\n",
    "k2 = g.neighborhood(['0x0a860752374e8430b7ae704df85b24d6f6b9adf4'], order=order, mode=\"out\", mindist=mindist)"
   ]
  },
  {
   "cell_type": "code",
   "execution_count": 13,
   "id": "6b4b24f3",
   "metadata": {},
   "outputs": [
    {
     "data": {
      "text/plain": [
       "14057"
      ]
     },
     "execution_count": 13,
     "metadata": {},
     "output_type": "execute_result"
    }
   ],
   "source": [
    "len(k2[0])"
   ]
  },
  {
   "cell_type": "code",
   "execution_count": 14,
   "id": "01f51563",
   "metadata": {},
   "outputs": [
    {
     "name": "stdout",
     "output_type": "stream",
     "text": [
      "CPU times: user 11.4 ms, sys: 1.8 ms, total: 13.2 ms\n",
      "Wall time: 14.4 ms\n"
     ]
    }
   ],
   "source": [
    "%%time\n",
    "mindist = 3 # exclude k2\n",
    "order = 3\n",
    "k3 = g.neighborhood(['0x0a860752374e8430b7ae704df85b24d6f6b9adf4'], order=order, mode=\"out\", mindist=mindist)"
   ]
  },
  {
   "cell_type": "code",
   "execution_count": 15,
   "id": "d0954bfb",
   "metadata": {},
   "outputs": [
    {
     "data": {
      "text/plain": [
       "19516"
      ]
     },
     "execution_count": 15,
     "metadata": {},
     "output_type": "execute_result"
    }
   ],
   "source": [
    "len(k3[0])"
   ]
  },
  {
   "cell_type": "code",
   "execution_count": 16,
   "id": "9fcc10f0",
   "metadata": {},
   "outputs": [
    {
     "name": "stdout",
     "output_type": "stream",
     "text": [
      "CPU times: user 17.5 ms, sys: 1.84 ms, total: 19.3 ms\n",
      "Wall time: 21 ms\n"
     ]
    }
   ],
   "source": [
    "%%time\n",
    "mindist = 4 # exclude k3\n",
    "order = 4\n",
    "k4 = g.neighborhood(['0x0a860752374e8430b7ae704df85b24d6f6b9adf4'], order=order, mode=\"out\", mindist=mindist)"
   ]
  },
  {
   "cell_type": "code",
   "execution_count": 17,
   "id": "0dac5a89",
   "metadata": {},
   "outputs": [
    {
     "data": {
      "text/plain": [
       "1018"
      ]
     },
     "execution_count": 17,
     "metadata": {},
     "output_type": "execute_result"
    }
   ],
   "source": [
    "len(k4[0])"
   ]
  },
  {
   "cell_type": "code",
   "execution_count": 18,
   "id": "d8a67591",
   "metadata": {},
   "outputs": [
    {
     "data": {
      "text/plain": [
       "664"
      ]
     },
     "execution_count": 18,
     "metadata": {},
     "output_type": "execute_result"
    }
   ],
   "source": [
    "g.vs.find(name='0x0ee0e0d0d396c2e3ce3a0496c2aa0892db860662').index"
   ]
  },
  {
   "cell_type": "code",
   "execution_count": 19,
   "id": "1815a6e1",
   "metadata": {},
   "outputs": [
    {
     "data": {
      "text/plain": [
       "5024"
      ]
     },
     "execution_count": 19,
     "metadata": {},
     "output_type": "execute_result"
    }
   ],
   "source": [
    "g.vs.find(name='0x0a860752374e8430b7ae704df85b24d6f6b9adf4').index"
   ]
  },
  {
   "cell_type": "code",
   "execution_count": 20,
   "id": "1edcff99",
   "metadata": {},
   "outputs": [
    {
     "data": {
      "text/plain": [
       "[igraph.Edge(<igraph.Graph object at 0x11cdecb40>, 116302, {'v': 24.0}),\n",
       " igraph.Edge(<igraph.Graph object at 0x11cdecb40>, 116324, {'v': 1.0}),\n",
       " igraph.Edge(<igraph.Graph object at 0x11cdecb40>, 116325, {'v': 1.0}),\n",
       " igraph.Edge(<igraph.Graph object at 0x11cdecb40>, 116326, {'v': 1.0}),\n",
       " igraph.Edge(<igraph.Graph object at 0x11cdecb40>, 116327, {'v': 13.0})]"
      ]
     },
     "execution_count": 20,
     "metadata": {},
     "output_type": "execute_result"
    }
   ],
   "source": [
    "g.vs.find(name='0x0a860752374e8430b7ae704df85b24d6f6b9adf4').out_edges()[:5]"
   ]
  },
  {
   "cell_type": "code",
   "execution_count": 21,
   "id": "1b1eb743",
   "metadata": {},
   "outputs": [
    {
     "data": {
      "text/plain": [
       "[igraph.Edge(<igraph.Graph object at 0x11cdecb40>, 0, {'v': 7.0}),\n",
       " igraph.Edge(<igraph.Graph object at 0x11cdecb40>, 375279, {'v': 1.0}),\n",
       " igraph.Edge(<igraph.Graph object at 0x11cdecb40>, 375280, {'v': 14.0}),\n",
       " igraph.Edge(<igraph.Graph object at 0x11cdecb40>, 375281, {'v': 1.0}),\n",
       " igraph.Edge(<igraph.Graph object at 0x11cdecb40>, 375282, {'v': 14.0}),\n",
       " igraph.Edge(<igraph.Graph object at 0x11cdecb40>, 375283, {'v': 2.0}),\n",
       " igraph.Edge(<igraph.Graph object at 0x11cdecb40>, 375284, {'v': 1.0}),\n",
       " igraph.Edge(<igraph.Graph object at 0x11cdecb40>, 375285, {'v': 6.0}),\n",
       " igraph.Edge(<igraph.Graph object at 0x11cdecb40>, 375286, {'v': 1.0}),\n",
       " igraph.Edge(<igraph.Graph object at 0x11cdecb40>, 375287, {'v': 1.0}),\n",
       " igraph.Edge(<igraph.Graph object at 0x11cdecb40>, 375288, {'v': 7.0}),\n",
       " igraph.Edge(<igraph.Graph object at 0x11cdecb40>, 375289, {'v': 1.0}),\n",
       " igraph.Edge(<igraph.Graph object at 0x11cdecb40>, 375290, {'v': 1.0}),\n",
       " igraph.Edge(<igraph.Graph object at 0x11cdecb40>, 375291, {'v': 1.0}),\n",
       " igraph.Edge(<igraph.Graph object at 0x11cdecb40>, 375292, {'v': 1.0}),\n",
       " igraph.Edge(<igraph.Graph object at 0x11cdecb40>, 375293, {'v': 1.0}),\n",
       " igraph.Edge(<igraph.Graph object at 0x11cdecb40>, 375294, {'v': 1.0}),\n",
       " igraph.Edge(<igraph.Graph object at 0x11cdecb40>, 375295, {'v': 1.0}),\n",
       " igraph.Edge(<igraph.Graph object at 0x11cdecb40>, 375296, {'v': 1.0}),\n",
       " igraph.Edge(<igraph.Graph object at 0x11cdecb40>, 375297, {'v': 43.0}),\n",
       " igraph.Edge(<igraph.Graph object at 0x11cdecb40>, 375298, {'v': 1.0}),\n",
       " igraph.Edge(<igraph.Graph object at 0x11cdecb40>, 375299, {'v': 1.0}),\n",
       " igraph.Edge(<igraph.Graph object at 0x11cdecb40>, 375300, {'v': 2.0}),\n",
       " igraph.Edge(<igraph.Graph object at 0x11cdecb40>, 375301, {'v': 1.0}),\n",
       " igraph.Edge(<igraph.Graph object at 0x11cdecb40>, 375302, {'v': 10.0}),\n",
       " igraph.Edge(<igraph.Graph object at 0x11cdecb40>, 375303, {'v': 7.0}),\n",
       " igraph.Edge(<igraph.Graph object at 0x11cdecb40>, 375304, {'v': 1.0}),\n",
       " igraph.Edge(<igraph.Graph object at 0x11cdecb40>, 375305, {'v': 1.0}),\n",
       " igraph.Edge(<igraph.Graph object at 0x11cdecb40>, 375306, {'v': 3.0}),\n",
       " igraph.Edge(<igraph.Graph object at 0x11cdecb40>, 375307, {'v': 1.0}),\n",
       " igraph.Edge(<igraph.Graph object at 0x11cdecb40>, 375308, {'v': 2.0}),\n",
       " igraph.Edge(<igraph.Graph object at 0x11cdecb40>, 375309, {'v': 1.0}),\n",
       " igraph.Edge(<igraph.Graph object at 0x11cdecb40>, 375310, {'v': 69.0}),\n",
       " igraph.Edge(<igraph.Graph object at 0x11cdecb40>, 375311, {'v': 7.0}),\n",
       " igraph.Edge(<igraph.Graph object at 0x11cdecb40>, 375312, {'v': 2.0}),\n",
       " igraph.Edge(<igraph.Graph object at 0x11cdecb40>, 375313, {'v': 71.0}),\n",
       " igraph.Edge(<igraph.Graph object at 0x11cdecb40>, 375314, {'v': 1.0}),\n",
       " igraph.Edge(<igraph.Graph object at 0x11cdecb40>, 375315, {'v': 1.0}),\n",
       " igraph.Edge(<igraph.Graph object at 0x11cdecb40>, 375316, {'v': 1.0}),\n",
       " igraph.Edge(<igraph.Graph object at 0x11cdecb40>, 375317, {'v': 30.0}),\n",
       " igraph.Edge(<igraph.Graph object at 0x11cdecb40>, 375318, {'v': 1.0}),\n",
       " igraph.Edge(<igraph.Graph object at 0x11cdecb40>, 375319, {'v': 10.0}),\n",
       " igraph.Edge(<igraph.Graph object at 0x11cdecb40>, 375320, {'v': 102.0}),\n",
       " igraph.Edge(<igraph.Graph object at 0x11cdecb40>, 375321, {'v': 14.0}),\n",
       " igraph.Edge(<igraph.Graph object at 0x11cdecb40>, 375322, {'v': 1.0}),\n",
       " igraph.Edge(<igraph.Graph object at 0x11cdecb40>, 375323, {'v': 2.0}),\n",
       " igraph.Edge(<igraph.Graph object at 0x11cdecb40>, 375324, {'v': 1.0}),\n",
       " igraph.Edge(<igraph.Graph object at 0x11cdecb40>, 375325, {'v': 26.0}),\n",
       " igraph.Edge(<igraph.Graph object at 0x11cdecb40>, 375326, {'v': 1.0}),\n",
       " igraph.Edge(<igraph.Graph object at 0x11cdecb40>, 375327, {'v': 1.0}),\n",
       " igraph.Edge(<igraph.Graph object at 0x11cdecb40>, 375328, {'v': 1.0}),\n",
       " igraph.Edge(<igraph.Graph object at 0x11cdecb40>, 375329, {'v': 1.0}),\n",
       " igraph.Edge(<igraph.Graph object at 0x11cdecb40>, 375330, {'v': 1.0}),\n",
       " igraph.Edge(<igraph.Graph object at 0x11cdecb40>, 375331, {'v': 13.0}),\n",
       " igraph.Edge(<igraph.Graph object at 0x11cdecb40>, 375332, {'v': 1.0}),\n",
       " igraph.Edge(<igraph.Graph object at 0x11cdecb40>, 375333, {'v': 1.0}),\n",
       " igraph.Edge(<igraph.Graph object at 0x11cdecb40>, 375334, {'v': 1.0}),\n",
       " igraph.Edge(<igraph.Graph object at 0x11cdecb40>, 375335, {'v': 76.0}),\n",
       " igraph.Edge(<igraph.Graph object at 0x11cdecb40>, 375336, {'v': 2.0}),\n",
       " igraph.Edge(<igraph.Graph object at 0x11cdecb40>, 375337, {'v': 4.0}),\n",
       " igraph.Edge(<igraph.Graph object at 0x11cdecb40>, 375338, {'v': 7.0}),\n",
       " igraph.Edge(<igraph.Graph object at 0x11cdecb40>, 375339, {'v': 7.0}),\n",
       " igraph.Edge(<igraph.Graph object at 0x11cdecb40>, 375340, {'v': 1.0}),\n",
       " igraph.Edge(<igraph.Graph object at 0x11cdecb40>, 375341, {'v': 1.0}),\n",
       " igraph.Edge(<igraph.Graph object at 0x11cdecb40>, 375342, {'v': 2.0}),\n",
       " igraph.Edge(<igraph.Graph object at 0x11cdecb40>, 375343, {'v': 1.0}),\n",
       " igraph.Edge(<igraph.Graph object at 0x11cdecb40>, 375344, {'v': 13.0}),\n",
       " igraph.Edge(<igraph.Graph object at 0x11cdecb40>, 375345, {'v': 5.0}),\n",
       " igraph.Edge(<igraph.Graph object at 0x11cdecb40>, 375346, {'v': 1.0}),\n",
       " igraph.Edge(<igraph.Graph object at 0x11cdecb40>, 375500, {'v': 1.0}),\n",
       " igraph.Edge(<igraph.Graph object at 0x11cdecb40>, 375501, {'v': 17.0}),\n",
       " igraph.Edge(<igraph.Graph object at 0x11cdecb40>, 375502, {'v': 97.0}),\n",
       " igraph.Edge(<igraph.Graph object at 0x11cdecb40>, 375503, {'v': 3.0}),\n",
       " igraph.Edge(<igraph.Graph object at 0x11cdecb40>, 375504, {'v': 35.0}),\n",
       " igraph.Edge(<igraph.Graph object at 0x11cdecb40>, 375505, {'v': 1.0}),\n",
       " igraph.Edge(<igraph.Graph object at 0x11cdecb40>, 375506, {'v': 7.0}),\n",
       " igraph.Edge(<igraph.Graph object at 0x11cdecb40>, 375507, {'v': 52.0}),\n",
       " igraph.Edge(<igraph.Graph object at 0x11cdecb40>, 375508, {'v': 7.0}),\n",
       " igraph.Edge(<igraph.Graph object at 0x11cdecb40>, 375509, {'v': 1.0}),\n",
       " igraph.Edge(<igraph.Graph object at 0x11cdecb40>, 375510, {'v': 2.0}),\n",
       " igraph.Edge(<igraph.Graph object at 0x11cdecb40>, 375511, {'v': 1.0}),\n",
       " igraph.Edge(<igraph.Graph object at 0x11cdecb40>, 375512, {'v': 1.0}),\n",
       " igraph.Edge(<igraph.Graph object at 0x11cdecb40>, 375513, {'v': 2.0}),\n",
       " igraph.Edge(<igraph.Graph object at 0x11cdecb40>, 375514, {'v': 1.0}),\n",
       " igraph.Edge(<igraph.Graph object at 0x11cdecb40>, 375515, {'v': 31.0}),\n",
       " igraph.Edge(<igraph.Graph object at 0x11cdecb40>, 374260, {'v': 105.0}),\n",
       " igraph.Edge(<igraph.Graph object at 0x11cdecb40>, 374251, {'v': 19.0}),\n",
       " igraph.Edge(<igraph.Graph object at 0x11cdecb40>, 374252, {'v': 2.0}),\n",
       " igraph.Edge(<igraph.Graph object at 0x11cdecb40>, 374253, {'v': 1.0}),\n",
       " igraph.Edge(<igraph.Graph object at 0x11cdecb40>, 374254, {'v': 67.0}),\n",
       " igraph.Edge(<igraph.Graph object at 0x11cdecb40>, 374255, {'v': 55.0}),\n",
       " igraph.Edge(<igraph.Graph object at 0x11cdecb40>, 374256, {'v': 4.0}),\n",
       " igraph.Edge(<igraph.Graph object at 0x11cdecb40>, 374257, {'v': 7.0}),\n",
       " igraph.Edge(<igraph.Graph object at 0x11cdecb40>, 374258, {'v': 1.0}),\n",
       " igraph.Edge(<igraph.Graph object at 0x11cdecb40>, 374259, {'v': 9.0}),\n",
       " igraph.Edge(<igraph.Graph object at 0x11cdecb40>, 374261, {'v': 44.0}),\n",
       " igraph.Edge(<igraph.Graph object at 0x11cdecb40>, 374263, {'v': 2.0}),\n",
       " igraph.Edge(<igraph.Graph object at 0x11cdecb40>, 374264, {'v': 99.0}),\n",
       " igraph.Edge(<igraph.Graph object at 0x11cdecb40>, 374267, {'v': 1.0}),\n",
       " igraph.Edge(<igraph.Graph object at 0x11cdecb40>, 374268, {'v': 1.0}),\n",
       " igraph.Edge(<igraph.Graph object at 0x11cdecb40>, 374270, {'v': 251.0}),\n",
       " igraph.Edge(<igraph.Graph object at 0x11cdecb40>, 374271, {'v': 1.0}),\n",
       " igraph.Edge(<igraph.Graph object at 0x11cdecb40>, 374272, {'v': 7.0}),\n",
       " igraph.Edge(<igraph.Graph object at 0x11cdecb40>, 374273, {'v': 7.0}),\n",
       " igraph.Edge(<igraph.Graph object at 0x11cdecb40>, 374274, {'v': 70.0}),\n",
       " igraph.Edge(<igraph.Graph object at 0x11cdecb40>, 374275, {'v': 109.0}),\n",
       " igraph.Edge(<igraph.Graph object at 0x11cdecb40>, 374276, {'v': 16.0}),\n",
       " igraph.Edge(<igraph.Graph object at 0x11cdecb40>, 374277, {'v': 18.0}),\n",
       " igraph.Edge(<igraph.Graph object at 0x11cdecb40>, 374278, {'v': 378.0}),\n",
       " igraph.Edge(<igraph.Graph object at 0x11cdecb40>, 374279, {'v': 21.0}),\n",
       " igraph.Edge(<igraph.Graph object at 0x11cdecb40>, 374280, {'v': 8.0}),\n",
       " igraph.Edge(<igraph.Graph object at 0x11cdecb40>, 374281, {'v': 143.0}),\n",
       " igraph.Edge(<igraph.Graph object at 0x11cdecb40>, 374282, {'v': 1.0}),\n",
       " igraph.Edge(<igraph.Graph object at 0x11cdecb40>, 374284, {'v': 1.0}),\n",
       " igraph.Edge(<igraph.Graph object at 0x11cdecb40>, 374285, {'v': 1.0}),\n",
       " igraph.Edge(<igraph.Graph object at 0x11cdecb40>, 374286, {'v': 1.0}),\n",
       " igraph.Edge(<igraph.Graph object at 0x11cdecb40>, 374287, {'v': 1.0}),\n",
       " igraph.Edge(<igraph.Graph object at 0x11cdecb40>, 374288, {'v': 9.0}),\n",
       " igraph.Edge(<igraph.Graph object at 0x11cdecb40>, 374289, {'v': 7.0}),\n",
       " igraph.Edge(<igraph.Graph object at 0x11cdecb40>, 374291, {'v': 67.0}),\n",
       " igraph.Edge(<igraph.Graph object at 0x11cdecb40>, 374292, {'v': 8.0}),\n",
       " igraph.Edge(<igraph.Graph object at 0x11cdecb40>, 374293, {'v': 350.0}),\n",
       " igraph.Edge(<igraph.Graph object at 0x11cdecb40>, 374294, {'v': 2.0}),\n",
       " igraph.Edge(<igraph.Graph object at 0x11cdecb40>, 374295, {'v': 1.0}),\n",
       " igraph.Edge(<igraph.Graph object at 0x11cdecb40>, 374296, {'v': 1.0}),\n",
       " igraph.Edge(<igraph.Graph object at 0x11cdecb40>, 374297, {'v': 7.0}),\n",
       " igraph.Edge(<igraph.Graph object at 0x11cdecb40>, 374298, {'v': 170.0}),\n",
       " igraph.Edge(<igraph.Graph object at 0x11cdecb40>, 374299, {'v': 1.0}),\n",
       " igraph.Edge(<igraph.Graph object at 0x11cdecb40>, 374300, {'v': 3.0}),\n",
       " igraph.Edge(<igraph.Graph object at 0x11cdecb40>, 374301, {'v': 74.0}),\n",
       " igraph.Edge(<igraph.Graph object at 0x11cdecb40>, 374302, {'v': 1.0}),\n",
       " igraph.Edge(<igraph.Graph object at 0x11cdecb40>, 374304, {'v': 7.0}),\n",
       " igraph.Edge(<igraph.Graph object at 0x11cdecb40>, 374305, {'v': 24.0}),\n",
       " igraph.Edge(<igraph.Graph object at 0x11cdecb40>, 374306, {'v': 7.0}),\n",
       " igraph.Edge(<igraph.Graph object at 0x11cdecb40>, 374307, {'v': 345.0}),\n",
       " igraph.Edge(<igraph.Graph object at 0x11cdecb40>, 374471, {'v': 310.0}),\n",
       " igraph.Edge(<igraph.Graph object at 0x11cdecb40>, 374472, {'v': 107.0}),\n",
       " igraph.Edge(<igraph.Graph object at 0x11cdecb40>, 374474, {'v': 1.0}),\n",
       " igraph.Edge(<igraph.Graph object at 0x11cdecb40>, 374475, {'v': 1.0}),\n",
       " igraph.Edge(<igraph.Graph object at 0x11cdecb40>, 374476, {'v': 1.0}),\n",
       " igraph.Edge(<igraph.Graph object at 0x11cdecb40>, 374479, {'v': 1.0}),\n",
       " igraph.Edge(<igraph.Graph object at 0x11cdecb40>, 374480, {'v': 5.0}),\n",
       " igraph.Edge(<igraph.Graph object at 0x11cdecb40>, 374483, {'v': 317.0}),\n",
       " igraph.Edge(<igraph.Graph object at 0x11cdecb40>, 374484, {'v': 33.0}),\n",
       " igraph.Edge(<igraph.Graph object at 0x11cdecb40>, 374485, {'v': 59.0}),\n",
       " igraph.Edge(<igraph.Graph object at 0x11cdecb40>, 374486, {'v': 7.0}),\n",
       " igraph.Edge(<igraph.Graph object at 0x11cdecb40>, 374488, {'v': 123.0}),\n",
       " igraph.Edge(<igraph.Graph object at 0x11cdecb40>, 374489, {'v': 7.0}),\n",
       " igraph.Edge(<igraph.Graph object at 0x11cdecb40>, 374492, {'v': 1.0}),\n",
       " igraph.Edge(<igraph.Graph object at 0x11cdecb40>, 374493, {'v': 305.0}),\n",
       " igraph.Edge(<igraph.Graph object at 0x11cdecb40>, 374495, {'v': 1.0}),\n",
       " igraph.Edge(<igraph.Graph object at 0x11cdecb40>, 374496, {'v': 160.0}),\n",
       " igraph.Edge(<igraph.Graph object at 0x11cdecb40>, 374497, {'v': 13.0}),\n",
       " igraph.Edge(<igraph.Graph object at 0x11cdecb40>, 374498, {'v': 1.0}),\n",
       " igraph.Edge(<igraph.Graph object at 0x11cdecb40>, 374499, {'v': 1.0}),\n",
       " igraph.Edge(<igraph.Graph object at 0x11cdecb40>, 374500, {'v': 2.0}),\n",
       " igraph.Edge(<igraph.Graph object at 0x11cdecb40>, 374502, {'v': 194.0}),\n",
       " igraph.Edge(<igraph.Graph object at 0x11cdecb40>, 374503, {'v': 15.0}),\n",
       " igraph.Edge(<igraph.Graph object at 0x11cdecb40>, 374504, {'v': 1.0}),\n",
       " igraph.Edge(<igraph.Graph object at 0x11cdecb40>, 374505, {'v': 225.0}),\n",
       " igraph.Edge(<igraph.Graph object at 0x11cdecb40>, 374506, {'v': 126.0}),\n",
       " igraph.Edge(<igraph.Graph object at 0x11cdecb40>, 374507, {'v': 2.0}),\n",
       " igraph.Edge(<igraph.Graph object at 0x11cdecb40>, 374508, {'v': 8.0}),\n",
       " igraph.Edge(<igraph.Graph object at 0x11cdecb40>, 374509, {'v': 11.0}),\n",
       " igraph.Edge(<igraph.Graph object at 0x11cdecb40>, 374510, {'v': 62.0}),\n",
       " igraph.Edge(<igraph.Graph object at 0x11cdecb40>, 374511, {'v': 7.0}),\n",
       " igraph.Edge(<igraph.Graph object at 0x11cdecb40>, 374513, {'v': 1.0}),\n",
       " igraph.Edge(<igraph.Graph object at 0x11cdecb40>, 374514, {'v': 1.0}),\n",
       " igraph.Edge(<igraph.Graph object at 0x11cdecb40>, 374515, {'v': 7.0}),\n",
       " igraph.Edge(<igraph.Graph object at 0x11cdecb40>, 374516, {'v': 3.0}),\n",
       " igraph.Edge(<igraph.Graph object at 0x11cdecb40>, 374517, {'v': 1.0}),\n",
       " igraph.Edge(<igraph.Graph object at 0x11cdecb40>, 374518, {'v': 19.0}),\n",
       " igraph.Edge(<igraph.Graph object at 0x11cdecb40>, 374519, {'v': 13.0}),\n",
       " igraph.Edge(<igraph.Graph object at 0x11cdecb40>, 374520, {'v': 1.0}),\n",
       " igraph.Edge(<igraph.Graph object at 0x11cdecb40>, 374521, {'v': 1.0}),\n",
       " igraph.Edge(<igraph.Graph object at 0x11cdecb40>, 374522, {'v': 1.0}),\n",
       " igraph.Edge(<igraph.Graph object at 0x11cdecb40>, 374523, {'v': 3.0}),\n",
       " igraph.Edge(<igraph.Graph object at 0x11cdecb40>, 374525, {'v': 2.0}),\n",
       " igraph.Edge(<igraph.Graph object at 0x11cdecb40>, 374526, {'v': 1.0}),\n",
       " igraph.Edge(<igraph.Graph object at 0x11cdecb40>, 374527, {'v': 448.0}),\n",
       " igraph.Edge(<igraph.Graph object at 0x11cdecb40>, 374528, {'v': 43.0}),\n",
       " igraph.Edge(<igraph.Graph object at 0x11cdecb40>, 374529, {'v': 1.0}),\n",
       " igraph.Edge(<igraph.Graph object at 0x11cdecb40>, 374530, {'v': 13.0}),\n",
       " igraph.Edge(<igraph.Graph object at 0x11cdecb40>, 374531, {'v': 1.0}),\n",
       " igraph.Edge(<igraph.Graph object at 0x11cdecb40>, 374532, {'v': 1.0}),\n",
       " igraph.Edge(<igraph.Graph object at 0x11cdecb40>, 374534, {'v': 1.0}),\n",
       " igraph.Edge(<igraph.Graph object at 0x11cdecb40>, 374535, {'v': 9.0}),\n",
       " igraph.Edge(<igraph.Graph object at 0x11cdecb40>, 374536, {'v': 14.0}),\n",
       " igraph.Edge(<igraph.Graph object at 0x11cdecb40>, 374537, {'v': 1.0}),\n",
       " igraph.Edge(<igraph.Graph object at 0x11cdecb40>, 374538, {'v': 43.0}),\n",
       " igraph.Edge(<igraph.Graph object at 0x11cdecb40>, 374539, {'v': 77.0}),\n",
       " igraph.Edge(<igraph.Graph object at 0x11cdecb40>, 374540, {'v': 1.0}),\n",
       " igraph.Edge(<igraph.Graph object at 0x11cdecb40>, 374541, {'v': 8.0}),\n",
       " igraph.Edge(<igraph.Graph object at 0x11cdecb40>, 374542, {'v': 1.0}),\n",
       " igraph.Edge(<igraph.Graph object at 0x11cdecb40>, 374543, {'v': 1.0}),\n",
       " igraph.Edge(<igraph.Graph object at 0x11cdecb40>, 374544, {'v': 19.0}),\n",
       " igraph.Edge(<igraph.Graph object at 0x11cdecb40>, 374545, {'v': 1.0}),\n",
       " igraph.Edge(<igraph.Graph object at 0x11cdecb40>, 374546, {'v': 26.0}),\n",
       " igraph.Edge(<igraph.Graph object at 0x11cdecb40>, 374547, {'v': 1.0}),\n",
       " igraph.Edge(<igraph.Graph object at 0x11cdecb40>, 374548, {'v': 2.0}),\n",
       " igraph.Edge(<igraph.Graph object at 0x11cdecb40>, 374549, {'v': 207.0}),\n",
       " igraph.Edge(<igraph.Graph object at 0x11cdecb40>, 374550, {'v': 1.0}),\n",
       " igraph.Edge(<igraph.Graph object at 0x11cdecb40>, 374551, {'v': 28.0}),\n",
       " igraph.Edge(<igraph.Graph object at 0x11cdecb40>, 374552, {'v': 18.0}),\n",
       " igraph.Edge(<igraph.Graph object at 0x11cdecb40>, 374555, {'v': 1.0}),\n",
       " igraph.Edge(<igraph.Graph object at 0x11cdecb40>, 374556, {'v': 1.0}),\n",
       " igraph.Edge(<igraph.Graph object at 0x11cdecb40>, 374557, {'v': 1.0}),\n",
       " igraph.Edge(<igraph.Graph object at 0x11cdecb40>, 374563, {'v': 19.0}),\n",
       " igraph.Edge(<igraph.Graph object at 0x11cdecb40>, 374564, {'v': 1.0}),\n",
       " igraph.Edge(<igraph.Graph object at 0x11cdecb40>, 374565, {'v': 15.0}),\n",
       " igraph.Edge(<igraph.Graph object at 0x11cdecb40>, 374567, {'v': 43.0}),\n",
       " igraph.Edge(<igraph.Graph object at 0x11cdecb40>, 374569, {'v': 17.0}),\n",
       " igraph.Edge(<igraph.Graph object at 0x11cdecb40>, 374570, {'v': 1.0}),\n",
       " igraph.Edge(<igraph.Graph object at 0x11cdecb40>, 374571, {'v': 1.0}),\n",
       " igraph.Edge(<igraph.Graph object at 0x11cdecb40>, 374572, {'v': 10.0}),\n",
       " igraph.Edge(<igraph.Graph object at 0x11cdecb40>, 374574, {'v': 13.0}),\n",
       " igraph.Edge(<igraph.Graph object at 0x11cdecb40>, 374575, {'v': 1.0}),\n",
       " igraph.Edge(<igraph.Graph object at 0x11cdecb40>, 374576, {'v': 1.0}),\n",
       " igraph.Edge(<igraph.Graph object at 0x11cdecb40>, 374577, {'v': 1.0}),\n",
       " igraph.Edge(<igraph.Graph object at 0x11cdecb40>, 374578, {'v': 55.0}),\n",
       " igraph.Edge(<igraph.Graph object at 0x11cdecb40>, 374579, {'v': 7.0}),\n",
       " igraph.Edge(<igraph.Graph object at 0x11cdecb40>, 374580, {'v': 7.0}),\n",
       " igraph.Edge(<igraph.Graph object at 0x11cdecb40>, 374581, {'v': 1.0}),\n",
       " igraph.Edge(<igraph.Graph object at 0x11cdecb40>, 374582, {'v': 1.0}),\n",
       " igraph.Edge(<igraph.Graph object at 0x11cdecb40>, 374584, {'v': 1.0}),\n",
       " igraph.Edge(<igraph.Graph object at 0x11cdecb40>, 374585, {'v': 7.0}),\n",
       " igraph.Edge(<igraph.Graph object at 0x11cdecb40>, 374587, {'v': 1.0}),\n",
       " igraph.Edge(<igraph.Graph object at 0x11cdecb40>, 374588, {'v': 1.0}),\n",
       " igraph.Edge(<igraph.Graph object at 0x11cdecb40>, 374589, {'v': 1.0}),\n",
       " igraph.Edge(<igraph.Graph object at 0x11cdecb40>, 374591, {'v': 1.0}),\n",
       " igraph.Edge(<igraph.Graph object at 0x11cdecb40>, 374592, {'v': 1.0}),\n",
       " igraph.Edge(<igraph.Graph object at 0x11cdecb40>, 374594, {'v': 2.0}),\n",
       " igraph.Edge(<igraph.Graph object at 0x11cdecb40>, 374595, {'v': 1.0}),\n",
       " igraph.Edge(<igraph.Graph object at 0x11cdecb40>, 374596, {'v': 3.0}),\n",
       " igraph.Edge(<igraph.Graph object at 0x11cdecb40>, 374597, {'v': 1.0}),\n",
       " igraph.Edge(<igraph.Graph object at 0x11cdecb40>, 374598, {'v': 7.0}),\n",
       " igraph.Edge(<igraph.Graph object at 0x11cdecb40>, 374599, {'v': 3.0}),\n",
       " igraph.Edge(<igraph.Graph object at 0x11cdecb40>, 374601, {'v': 7.0}),\n",
       " igraph.Edge(<igraph.Graph object at 0x11cdecb40>, 374603, {'v': 1.0}),\n",
       " igraph.Edge(<igraph.Graph object at 0x11cdecb40>, 374604, {'v': 7.0}),\n",
       " igraph.Edge(<igraph.Graph object at 0x11cdecb40>, 374605, {'v': 27.0}),\n",
       " igraph.Edge(<igraph.Graph object at 0x11cdecb40>, 374771, {'v': 7.0}),\n",
       " igraph.Edge(<igraph.Graph object at 0x11cdecb40>, 374774, {'v': 19.0}),\n",
       " igraph.Edge(<igraph.Graph object at 0x11cdecb40>, 374775, {'v': 7.0}),\n",
       " igraph.Edge(<igraph.Graph object at 0x11cdecb40>, 374776, {'v': 1.0}),\n",
       " igraph.Edge(<igraph.Graph object at 0x11cdecb40>, 374777, {'v': 1.0}),\n",
       " igraph.Edge(<igraph.Graph object at 0x11cdecb40>, 374780, {'v': 19.0}),\n",
       " igraph.Edge(<igraph.Graph object at 0x11cdecb40>, 374781, {'v': 1.0}),\n",
       " igraph.Edge(<igraph.Graph object at 0x11cdecb40>, 374782, {'v': 7.0}),\n",
       " igraph.Edge(<igraph.Graph object at 0x11cdecb40>, 374783, {'v': 1.0}),\n",
       " igraph.Edge(<igraph.Graph object at 0x11cdecb40>, 374784, {'v': 1.0}),\n",
       " igraph.Edge(<igraph.Graph object at 0x11cdecb40>, 374785, {'v': 117.0}),\n",
       " igraph.Edge(<igraph.Graph object at 0x11cdecb40>, 374786, {'v': 1.0}),\n",
       " igraph.Edge(<igraph.Graph object at 0x11cdecb40>, 374787, {'v': 1.0}),\n",
       " igraph.Edge(<igraph.Graph object at 0x11cdecb40>, 374788, {'v': 1.0}),\n",
       " igraph.Edge(<igraph.Graph object at 0x11cdecb40>, 374789, {'v': 1.0}),\n",
       " igraph.Edge(<igraph.Graph object at 0x11cdecb40>, 374791, {'v': 9.0}),\n",
       " igraph.Edge(<igraph.Graph object at 0x11cdecb40>, 374792, {'v': 50.0}),\n",
       " igraph.Edge(<igraph.Graph object at 0x11cdecb40>, 374793, {'v': 22.0}),\n",
       " igraph.Edge(<igraph.Graph object at 0x11cdecb40>, 374794, {'v': 1.0}),\n",
       " igraph.Edge(<igraph.Graph object at 0x11cdecb40>, 374796, {'v': 1.0}),\n",
       " igraph.Edge(<igraph.Graph object at 0x11cdecb40>, 374799, {'v': 13.0}),\n",
       " igraph.Edge(<igraph.Graph object at 0x11cdecb40>, 374800, {'v': 1.0}),\n",
       " igraph.Edge(<igraph.Graph object at 0x11cdecb40>, 374801, {'v': 16.0}),\n",
       " igraph.Edge(<igraph.Graph object at 0x11cdecb40>, 374803, {'v': 96.0}),\n",
       " igraph.Edge(<igraph.Graph object at 0x11cdecb40>, 374804, {'v': 1.0}),\n",
       " igraph.Edge(<igraph.Graph object at 0x11cdecb40>, 374805, {'v': 49.0}),\n",
       " igraph.Edge(<igraph.Graph object at 0x11cdecb40>, 374806, {'v': 1.0}),\n",
       " igraph.Edge(<igraph.Graph object at 0x11cdecb40>, 374809, {'v': 3.0}),\n",
       " igraph.Edge(<igraph.Graph object at 0x11cdecb40>, 374810, {'v': 19.0}),\n",
       " igraph.Edge(<igraph.Graph object at 0x11cdecb40>, 374811, {'v': 1.0}),\n",
       " igraph.Edge(<igraph.Graph object at 0x11cdecb40>, 374812, {'v': 13.0}),\n",
       " igraph.Edge(<igraph.Graph object at 0x11cdecb40>, 374813, {'v': 1.0}),\n",
       " igraph.Edge(<igraph.Graph object at 0x11cdecb40>, 374814, {'v': 13.0}),\n",
       " igraph.Edge(<igraph.Graph object at 0x11cdecb40>, 374815, {'v': 1.0}),\n",
       " igraph.Edge(<igraph.Graph object at 0x11cdecb40>, 374816, {'v': 1.0}),\n",
       " igraph.Edge(<igraph.Graph object at 0x11cdecb40>, 374818, {'v': 1.0}),\n",
       " igraph.Edge(<igraph.Graph object at 0x11cdecb40>, 374820, {'v': 1.0}),\n",
       " igraph.Edge(<igraph.Graph object at 0x11cdecb40>, 374821, {'v': 1.0}),\n",
       " igraph.Edge(<igraph.Graph object at 0x11cdecb40>, 374822, {'v': 1.0}),\n",
       " igraph.Edge(<igraph.Graph object at 0x11cdecb40>, 374823, {'v': 1.0}),\n",
       " igraph.Edge(<igraph.Graph object at 0x11cdecb40>, 374826, {'v': 58.0}),\n",
       " igraph.Edge(<igraph.Graph object at 0x11cdecb40>, 374827, {'v': 26.0}),\n",
       " igraph.Edge(<igraph.Graph object at 0x11cdecb40>, 374828, {'v': 1.0}),\n",
       " igraph.Edge(<igraph.Graph object at 0x11cdecb40>, 374829, {'v': 8.0}),\n",
       " igraph.Edge(<igraph.Graph object at 0x11cdecb40>, 374830, {'v': 1.0}),\n",
       " igraph.Edge(<igraph.Graph object at 0x11cdecb40>, 374832, {'v': 1.0}),\n",
       " igraph.Edge(<igraph.Graph object at 0x11cdecb40>, 374833, {'v': 10.0}),\n",
       " igraph.Edge(<igraph.Graph object at 0x11cdecb40>, 374835, {'v': 1.0}),\n",
       " igraph.Edge(<igraph.Graph object at 0x11cdecb40>, 374836, {'v': 1.0}),\n",
       " igraph.Edge(<igraph.Graph object at 0x11cdecb40>, 374837, {'v': 36.0}),\n",
       " igraph.Edge(<igraph.Graph object at 0x11cdecb40>, 374838, {'v': 21.0}),\n",
       " igraph.Edge(<igraph.Graph object at 0x11cdecb40>, 374839, {'v': 7.0}),\n",
       " igraph.Edge(<igraph.Graph object at 0x11cdecb40>, 374840, {'v': 39.0}),\n",
       " igraph.Edge(<igraph.Graph object at 0x11cdecb40>, 374843, {'v': 3.0}),\n",
       " igraph.Edge(<igraph.Graph object at 0x11cdecb40>, 374844, {'v': 30.0}),\n",
       " igraph.Edge(<igraph.Graph object at 0x11cdecb40>, 374845, {'v': 13.0}),\n",
       " igraph.Edge(<igraph.Graph object at 0x11cdecb40>, 374846, {'v': 56.0}),\n",
       " igraph.Edge(<igraph.Graph object at 0x11cdecb40>, 374847, {'v': 88.0}),\n",
       " igraph.Edge(<igraph.Graph object at 0x11cdecb40>, 374848, {'v': 23.0}),\n",
       " igraph.Edge(<igraph.Graph object at 0x11cdecb40>, 374849, {'v': 1.0}),\n",
       " igraph.Edge(<igraph.Graph object at 0x11cdecb40>, 374850, {'v': 11.0}),\n",
       " igraph.Edge(<igraph.Graph object at 0x11cdecb40>, 374851, {'v': 257.0}),\n",
       " igraph.Edge(<igraph.Graph object at 0x11cdecb40>, 374852, {'v': 7.0}),\n",
       " igraph.Edge(<igraph.Graph object at 0x11cdecb40>, 374853, {'v': 1.0}),\n",
       " igraph.Edge(<igraph.Graph object at 0x11cdecb40>, 374854, {'v': 7.0}),\n",
       " igraph.Edge(<igraph.Graph object at 0x11cdecb40>, 374857, {'v': 1.0}),\n",
       " igraph.Edge(<igraph.Graph object at 0x11cdecb40>, 374858, {'v': 8.0}),\n",
       " igraph.Edge(<igraph.Graph object at 0x11cdecb40>, 374861, {'v': 151.0}),\n",
       " igraph.Edge(<igraph.Graph object at 0x11cdecb40>, 374862, {'v': 10.0}),\n",
       " igraph.Edge(<igraph.Graph object at 0x11cdecb40>, 374863, {'v': 48.0}),\n",
       " igraph.Edge(<igraph.Graph object at 0x11cdecb40>, 374867, {'v': 1.0}),\n",
       " igraph.Edge(<igraph.Graph object at 0x11cdecb40>, 374868, {'v': 38.0}),\n",
       " igraph.Edge(<igraph.Graph object at 0x11cdecb40>, 374870, {'v': 1.0}),\n",
       " igraph.Edge(<igraph.Graph object at 0x11cdecb40>, 374871, {'v': 1.0}),\n",
       " igraph.Edge(<igraph.Graph object at 0x11cdecb40>, 374873, {'v': 7.0}),\n",
       " igraph.Edge(<igraph.Graph object at 0x11cdecb40>, 374876, {'v': 1.0}),\n",
       " igraph.Edge(<igraph.Graph object at 0x11cdecb40>, 374880, {'v': 1.0}),\n",
       " igraph.Edge(<igraph.Graph object at 0x11cdecb40>, 374881, {'v': 2.0}),\n",
       " igraph.Edge(<igraph.Graph object at 0x11cdecb40>, 374882, {'v': 9.0}),\n",
       " igraph.Edge(<igraph.Graph object at 0x11cdecb40>, 374883, {'v': 1.0}),\n",
       " igraph.Edge(<igraph.Graph object at 0x11cdecb40>, 374884, {'v': 1.0}),\n",
       " igraph.Edge(<igraph.Graph object at 0x11cdecb40>, 374885, {'v': 1.0}),\n",
       " igraph.Edge(<igraph.Graph object at 0x11cdecb40>, 374886, {'v': 1.0}),\n",
       " igraph.Edge(<igraph.Graph object at 0x11cdecb40>, 374887, {'v': 2.0}),\n",
       " igraph.Edge(<igraph.Graph object at 0x11cdecb40>, 374888, {'v': 132.0}),\n",
       " igraph.Edge(<igraph.Graph object at 0x11cdecb40>, 374889, {'v': 1.0}),\n",
       " igraph.Edge(<igraph.Graph object at 0x11cdecb40>, 374891, {'v': 87.0}),\n",
       " igraph.Edge(<igraph.Graph object at 0x11cdecb40>, 374892, {'v': 2.0}),\n",
       " igraph.Edge(<igraph.Graph object at 0x11cdecb40>, 374893, {'v': 16.0}),\n",
       " igraph.Edge(<igraph.Graph object at 0x11cdecb40>, 374895, {'v': 1.0}),\n",
       " igraph.Edge(<igraph.Graph object at 0x11cdecb40>, 374896, {'v': 1.0}),\n",
       " igraph.Edge(<igraph.Graph object at 0x11cdecb40>, 374897, {'v': 1.0}),\n",
       " igraph.Edge(<igraph.Graph object at 0x11cdecb40>, 374898, {'v': 19.0}),\n",
       " igraph.Edge(<igraph.Graph object at 0x11cdecb40>, 374899, {'v': 19.0}),\n",
       " igraph.Edge(<igraph.Graph object at 0x11cdecb40>, 374900, {'v': 2.0}),\n",
       " igraph.Edge(<igraph.Graph object at 0x11cdecb40>, 374902, {'v': 7.0}),\n",
       " igraph.Edge(<igraph.Graph object at 0x11cdecb40>, 374904, {'v': 28.0}),\n",
       " igraph.Edge(<igraph.Graph object at 0x11cdecb40>, 374907, {'v': 262.0}),\n",
       " igraph.Edge(<igraph.Graph object at 0x11cdecb40>, 375211, {'v': 2.0}),\n",
       " igraph.Edge(<igraph.Graph object at 0x11cdecb40>, 375212, {'v': 1.0}),\n",
       " igraph.Edge(<igraph.Graph object at 0x11cdecb40>, 375213, {'v': 1.0}),\n",
       " igraph.Edge(<igraph.Graph object at 0x11cdecb40>, 375214, {'v': 1.0}),\n",
       " igraph.Edge(<igraph.Graph object at 0x11cdecb40>, 375215, {'v': 1.0}),\n",
       " igraph.Edge(<igraph.Graph object at 0x11cdecb40>, 375217, {'v': 2.0}),\n",
       " igraph.Edge(<igraph.Graph object at 0x11cdecb40>, 375218, {'v': 78.0}),\n",
       " igraph.Edge(<igraph.Graph object at 0x11cdecb40>, 375220, {'v': 13.0}),\n",
       " igraph.Edge(<igraph.Graph object at 0x11cdecb40>, 375221, {'v': 1.0}),\n",
       " igraph.Edge(<igraph.Graph object at 0x11cdecb40>, 375222, {'v': 1.0}),\n",
       " igraph.Edge(<igraph.Graph object at 0x11cdecb40>, 375516, {'v': 1.0}),\n",
       " igraph.Edge(<igraph.Graph object at 0x11cdecb40>, 375517, {'v': 1.0}),\n",
       " igraph.Edge(<igraph.Graph object at 0x11cdecb40>, 375518, {'v': 14.0}),\n",
       " igraph.Edge(<igraph.Graph object at 0x11cdecb40>, 375519, {'v': 1.0}),\n",
       " igraph.Edge(<igraph.Graph object at 0x11cdecb40>, 375520, {'v': 1.0}),\n",
       " igraph.Edge(<igraph.Graph object at 0x11cdecb40>, 375521, {'v': 1.0}),\n",
       " igraph.Edge(<igraph.Graph object at 0x11cdecb40>, 375522, {'v': 1.0}),\n",
       " igraph.Edge(<igraph.Graph object at 0x11cdecb40>, 375524, {'v': 1.0}),\n",
       " igraph.Edge(<igraph.Graph object at 0x11cdecb40>, 375525, {'v': 353.0}),\n",
       " igraph.Edge(<igraph.Graph object at 0x11cdecb40>, 375526, {'v': 1.0}),\n",
       " igraph.Edge(<igraph.Graph object at 0x11cdecb40>, 375527, {'v': 4.0}),\n",
       " igraph.Edge(<igraph.Graph object at 0x11cdecb40>, 375528, {'v': 1.0}),\n",
       " igraph.Edge(<igraph.Graph object at 0x11cdecb40>, 375530, {'v': 47.0}),\n",
       " igraph.Edge(<igraph.Graph object at 0x11cdecb40>, 375531, {'v': 1.0}),\n",
       " igraph.Edge(<igraph.Graph object at 0x11cdecb40>, 375532, {'v': 1.0}),\n",
       " igraph.Edge(<igraph.Graph object at 0x11cdecb40>, 375533, {'v': 1.0}),\n",
       " igraph.Edge(<igraph.Graph object at 0x11cdecb40>, 375534, {'v': 1.0}),\n",
       " igraph.Edge(<igraph.Graph object at 0x11cdecb40>, 375535, {'v': 1.0}),\n",
       " igraph.Edge(<igraph.Graph object at 0x11cdecb40>, 375536, {'v': 8.0}),\n",
       " igraph.Edge(<igraph.Graph object at 0x11cdecb40>, 375537, {'v': 7.0}),\n",
       " igraph.Edge(<igraph.Graph object at 0x11cdecb40>, 375538, {'v': 1.0}),\n",
       " igraph.Edge(<igraph.Graph object at 0x11cdecb40>, 375539, {'v': 1.0}),\n",
       " igraph.Edge(<igraph.Graph object at 0x11cdecb40>, 375540, {'v': 1.0}),\n",
       " igraph.Edge(<igraph.Graph object at 0x11cdecb40>, 375541, {'v': 4.0}),\n",
       " igraph.Edge(<igraph.Graph object at 0x11cdecb40>, 375542, {'v': 1.0}),\n",
       " igraph.Edge(<igraph.Graph object at 0x11cdecb40>, 375543, {'v': 1.0}),\n",
       " igraph.Edge(<igraph.Graph object at 0x11cdecb40>, 375544, {'v': 37.0}),\n",
       " igraph.Edge(<igraph.Graph object at 0x11cdecb40>, 375545, {'v': 7.0}),\n",
       " igraph.Edge(<igraph.Graph object at 0x11cdecb40>, 375546, {'v': 2.0}),\n",
       " igraph.Edge(<igraph.Graph object at 0x11cdecb40>, 375547, {'v': 3.0}),\n",
       " igraph.Edge(<igraph.Graph object at 0x11cdecb40>, 375548, {'v': 13.0}),\n",
       " igraph.Edge(<igraph.Graph object at 0x11cdecb40>, 375549, {'v': 7.0}),\n",
       " igraph.Edge(<igraph.Graph object at 0x11cdecb40>, 375550, {'v': 1.0}),\n",
       " igraph.Edge(<igraph.Graph object at 0x11cdecb40>, 375551, {'v': 1.0}),\n",
       " igraph.Edge(<igraph.Graph object at 0x11cdecb40>, 375552, {'v': 19.0}),\n",
       " igraph.Edge(<igraph.Graph object at 0x11cdecb40>, 375553, {'v': 2.0}),\n",
       " igraph.Edge(<igraph.Graph object at 0x11cdecb40>, 375554, {'v': 1.0}),\n",
       " igraph.Edge(<igraph.Graph object at 0x11cdecb40>, 375555, {'v': 1.0}),\n",
       " igraph.Edge(<igraph.Graph object at 0x11cdecb40>, 375556, {'v': 256.0}),\n",
       " igraph.Edge(<igraph.Graph object at 0x11cdecb40>, 375557, {'v': 1.0}),\n",
       " igraph.Edge(<igraph.Graph object at 0x11cdecb40>, 375558, {'v': 19.0}),\n",
       " igraph.Edge(<igraph.Graph object at 0x11cdecb40>, 375559, {'v': 1.0}),\n",
       " igraph.Edge(<igraph.Graph object at 0x11cdecb40>, 375560, {'v': 1.0}),\n",
       " igraph.Edge(<igraph.Graph object at 0x11cdecb40>, 375561, {'v': 1.0}),\n",
       " igraph.Edge(<igraph.Graph object at 0x11cdecb40>, 375562, {'v': 3.0}),\n",
       " igraph.Edge(<igraph.Graph object at 0x11cdecb40>, 375563, {'v': 1.0}),\n",
       " igraph.Edge(<igraph.Graph object at 0x11cdecb40>, 375564, {'v': 1.0}),\n",
       " igraph.Edge(<igraph.Graph object at 0x11cdecb40>, 375565, {'v': 7.0}),\n",
       " igraph.Edge(<igraph.Graph object at 0x11cdecb40>, 375567, {'v': 22.0}),\n",
       " igraph.Edge(<igraph.Graph object at 0x11cdecb40>, 375568, {'v': 43.0}),\n",
       " igraph.Edge(<igraph.Graph object at 0x11cdecb40>, 375569, {'v': 1.0}),\n",
       " igraph.Edge(<igraph.Graph object at 0x11cdecb40>, 375570, {'v': 1.0}),\n",
       " igraph.Edge(<igraph.Graph object at 0x11cdecb40>, 375571, {'v': 1.0}),\n",
       " igraph.Edge(<igraph.Graph object at 0x11cdecb40>, 375572, {'v': 19.0}),\n",
       " igraph.Edge(<igraph.Graph object at 0x11cdecb40>, 375573, {'v': 1.0}),\n",
       " igraph.Edge(<igraph.Graph object at 0x11cdecb40>, 375225, {'v': 1.0}),\n",
       " igraph.Edge(<igraph.Graph object at 0x11cdecb40>, 375226, {'v': 1.0}),\n",
       " igraph.Edge(<igraph.Graph object at 0x11cdecb40>, 375228, {'v': 205.0}),\n",
       " igraph.Edge(<igraph.Graph object at 0x11cdecb40>, 375229, {'v': 7.0}),\n",
       " igraph.Edge(<igraph.Graph object at 0x11cdecb40>, 375230, {'v': 1.0}),\n",
       " igraph.Edge(<igraph.Graph object at 0x11cdecb40>, 375231, {'v': 1.0}),\n",
       " igraph.Edge(<igraph.Graph object at 0x11cdecb40>, 375232, {'v': 7.0}),\n",
       " igraph.Edge(<igraph.Graph object at 0x11cdecb40>, 375233, {'v': 1.0}),\n",
       " igraph.Edge(<igraph.Graph object at 0x11cdecb40>, 375234, {'v': 1.0}),\n",
       " igraph.Edge(<igraph.Graph object at 0x11cdecb40>, 375235, {'v': 13.0}),\n",
       " igraph.Edge(<igraph.Graph object at 0x11cdecb40>, 375236, {'v': 1.0}),\n",
       " igraph.Edge(<igraph.Graph object at 0x11cdecb40>, 375237, {'v': 1.0}),\n",
       " igraph.Edge(<igraph.Graph object at 0x11cdecb40>, 375240, {'v': 32.0}),\n",
       " igraph.Edge(<igraph.Graph object at 0x11cdecb40>, 375241, {'v': 1.0}),\n",
       " igraph.Edge(<igraph.Graph object at 0x11cdecb40>, 375242, {'v': 31.0}),\n",
       " igraph.Edge(<igraph.Graph object at 0x11cdecb40>, 375243, {'v': 1.0}),\n",
       " igraph.Edge(<igraph.Graph object at 0x11cdecb40>, 375244, {'v': 10.0}),\n",
       " igraph.Edge(<igraph.Graph object at 0x11cdecb40>, 375245, {'v': 60.0}),\n",
       " igraph.Edge(<igraph.Graph object at 0x11cdecb40>, 375247, {'v': 1.0}),\n",
       " igraph.Edge(<igraph.Graph object at 0x11cdecb40>, 375248, {'v': 16.0}),\n",
       " igraph.Edge(<igraph.Graph object at 0x11cdecb40>, 375249, {'v': 1.0}),\n",
       " igraph.Edge(<igraph.Graph object at 0x11cdecb40>, 375250, {'v': 7.0}),\n",
       " igraph.Edge(<igraph.Graph object at 0x11cdecb40>, 375251, {'v': 2.0}),\n",
       " igraph.Edge(<igraph.Graph object at 0x11cdecb40>, 375252, {'v': 1.0}),\n",
       " igraph.Edge(<igraph.Graph object at 0x11cdecb40>, 375253, {'v': 7.0}),\n",
       " igraph.Edge(<igraph.Graph object at 0x11cdecb40>, 375255, {'v': 1.0}),\n",
       " igraph.Edge(<igraph.Graph object at 0x11cdecb40>, 375257, {'v': 2.0}),\n",
       " igraph.Edge(<igraph.Graph object at 0x11cdecb40>, 375258, {'v': 29.0}),\n",
       " igraph.Edge(<igraph.Graph object at 0x11cdecb40>, 375259, {'v': 1.0}),\n",
       " igraph.Edge(<igraph.Graph object at 0x11cdecb40>, 375260, {'v': 1.0}),\n",
       " igraph.Edge(<igraph.Graph object at 0x11cdecb40>, 375261, {'v': 1.0}),\n",
       " igraph.Edge(<igraph.Graph object at 0x11cdecb40>, 375262, {'v': 56.0}),\n",
       " igraph.Edge(<igraph.Graph object at 0x11cdecb40>, 375264, {'v': 1.0}),\n",
       " igraph.Edge(<igraph.Graph object at 0x11cdecb40>, 375265, {'v': 1.0}),\n",
       " igraph.Edge(<igraph.Graph object at 0x11cdecb40>, 375266, {'v': 8.0}),\n",
       " igraph.Edge(<igraph.Graph object at 0x11cdecb40>, 375268, {'v': 1.0}),\n",
       " igraph.Edge(<igraph.Graph object at 0x11cdecb40>, 375269, {'v': 10.0}),\n",
       " igraph.Edge(<igraph.Graph object at 0x11cdecb40>, 375272, {'v': 1.0}),\n",
       " igraph.Edge(<igraph.Graph object at 0x11cdecb40>, 375273, {'v': 1.0}),\n",
       " igraph.Edge(<igraph.Graph object at 0x11cdecb40>, 375277, {'v': 5.0}),\n",
       " igraph.Edge(<igraph.Graph object at 0x11cdecb40>, 375278, {'v': 2.0}),\n",
       " igraph.Edge(<igraph.Graph object at 0x11cdecb40>, 375574, {'v': 12.0}),\n",
       " igraph.Edge(<igraph.Graph object at 0x11cdecb40>, 375575, {'v': 1.0}),\n",
       " igraph.Edge(<igraph.Graph object at 0x11cdecb40>, 375576, {'v': 1.0}),\n",
       " igraph.Edge(<igraph.Graph object at 0x11cdecb40>, 375577, {'v': 1.0}),\n",
       " igraph.Edge(<igraph.Graph object at 0x11cdecb40>, 375578, {'v': 9.0}),\n",
       " igraph.Edge(<igraph.Graph object at 0x11cdecb40>, 375579, {'v': 1.0}),\n",
       " igraph.Edge(<igraph.Graph object at 0x11cdecb40>, 375580, {'v': 1.0}),\n",
       " igraph.Edge(<igraph.Graph object at 0x11cdecb40>, 375581, {'v': 1.0}),\n",
       " igraph.Edge(<igraph.Graph object at 0x11cdecb40>, 375582, {'v': 1.0}),\n",
       " igraph.Edge(<igraph.Graph object at 0x11cdecb40>, 375583, {'v': 1.0}),\n",
       " igraph.Edge(<igraph.Graph object at 0x11cdecb40>, 375584, {'v': 1.0}),\n",
       " igraph.Edge(<igraph.Graph object at 0x11cdecb40>, 375585, {'v': 1.0}),\n",
       " igraph.Edge(<igraph.Graph object at 0x11cdecb40>, 375586, {'v': 1.0}),\n",
       " igraph.Edge(<igraph.Graph object at 0x11cdecb40>, 375587, {'v': 1.0}),\n",
       " igraph.Edge(<igraph.Graph object at 0x11cdecb40>, 375588, {'v': 1.0}),\n",
       " igraph.Edge(<igraph.Graph object at 0x11cdecb40>, 375590, {'v': 1.0}),\n",
       " igraph.Edge(<igraph.Graph object at 0x11cdecb40>, 375592, {'v': 7.0}),\n",
       " igraph.Edge(<igraph.Graph object at 0x11cdecb40>, 375593, {'v': 31.0}),\n",
       " igraph.Edge(<igraph.Graph object at 0x11cdecb40>, 375594, {'v': 1.0}),\n",
       " igraph.Edge(<igraph.Graph object at 0x11cdecb40>, 375596, {'v': 8.0}),\n",
       " igraph.Edge(<igraph.Graph object at 0x11cdecb40>, 375597, {'v': 7.0}),\n",
       " igraph.Edge(<igraph.Graph object at 0x11cdecb40>, 375599, {'v': 1.0}),\n",
       " igraph.Edge(<igraph.Graph object at 0x11cdecb40>, 375600, {'v': 2.0}),\n",
       " igraph.Edge(<igraph.Graph object at 0x11cdecb40>, 375601, {'v': 1.0}),\n",
       " igraph.Edge(<igraph.Graph object at 0x11cdecb40>, 375602, {'v': 9.0}),\n",
       " igraph.Edge(<igraph.Graph object at 0x11cdecb40>, 375603, {'v': 11.0}),\n",
       " igraph.Edge(<igraph.Graph object at 0x11cdecb40>, 375605, {'v': 101.0}),\n",
       " igraph.Edge(<igraph.Graph object at 0x11cdecb40>, 375607, {'v': 1.0}),\n",
       " igraph.Edge(<igraph.Graph object at 0x11cdecb40>, 375609, {'v': 7.0}),\n",
       " igraph.Edge(<igraph.Graph object at 0x11cdecb40>, 375611, {'v': 91.0}),\n",
       " igraph.Edge(<igraph.Graph object at 0x11cdecb40>, 375613, {'v': 24.0}),\n",
       " igraph.Edge(<igraph.Graph object at 0x11cdecb40>, 375614, {'v': 3.0}),\n",
       " igraph.Edge(<igraph.Graph object at 0x11cdecb40>, 375615, {'v': 3.0}),\n",
       " igraph.Edge(<igraph.Graph object at 0x11cdecb40>, 375616, {'v': 25.0}),\n",
       " igraph.Edge(<igraph.Graph object at 0x11cdecb40>, 375618, {'v': 7.0}),\n",
       " igraph.Edge(<igraph.Graph object at 0x11cdecb40>, 375619, {'v': 2.0}),\n",
       " igraph.Edge(<igraph.Graph object at 0x11cdecb40>, 375620, {'v': 7.0}),\n",
       " igraph.Edge(<igraph.Graph object at 0x11cdecb40>, 375622, {'v': 1.0}),\n",
       " igraph.Edge(<igraph.Graph object at 0x11cdecb40>, 375623, {'v': 1.0}),\n",
       " igraph.Edge(<igraph.Graph object at 0x11cdecb40>, 375624, {'v': 7.0}),\n",
       " igraph.Edge(<igraph.Graph object at 0x11cdecb40>, 375625, {'v': 1.0}),\n",
       " igraph.Edge(<igraph.Graph object at 0x11cdecb40>, 375626, {'v': 8.0}),\n",
       " igraph.Edge(<igraph.Graph object at 0x11cdecb40>, 375628, {'v': 13.0}),\n",
       " igraph.Edge(<igraph.Graph object at 0x11cdecb40>, 375631, {'v': 1.0}),\n",
       " igraph.Edge(<igraph.Graph object at 0x11cdecb40>, 375632, {'v': 9.0}),\n",
       " igraph.Edge(<igraph.Graph object at 0x11cdecb40>, 375635, {'v': 10.0}),\n",
       " igraph.Edge(<igraph.Graph object at 0x11cdecb40>, 375636, {'v': 1.0}),\n",
       " igraph.Edge(<igraph.Graph object at 0x11cdecb40>, 375788, {'v': 1.0}),\n",
       " igraph.Edge(<igraph.Graph object at 0x11cdecb40>, 375789, {'v': 1.0}),\n",
       " igraph.Edge(<igraph.Graph object at 0x11cdecb40>, 375790, {'v': 37.0}),\n",
       " igraph.Edge(<igraph.Graph object at 0x11cdecb40>, 375791, {'v': 2.0}),\n",
       " igraph.Edge(<igraph.Graph object at 0x11cdecb40>, 375792, {'v': 37.0}),\n",
       " igraph.Edge(<igraph.Graph object at 0x11cdecb40>, 375589, {'v': 1.0}),\n",
       " igraph.Edge(<igraph.Graph object at 0x11cdecb40>, 375591, {'v': 1.0}),\n",
       " igraph.Edge(<igraph.Graph object at 0x11cdecb40>, 375595, {'v': 8.0}),\n",
       " igraph.Edge(<igraph.Graph object at 0x11cdecb40>, 375598, {'v': 1.0}),\n",
       " igraph.Edge(<igraph.Graph object at 0x11cdecb40>, 2189, {'v': 7.0}),\n",
       " igraph.Edge(<igraph.Graph object at 0x11cdecb40>, 2190, {'v': 4.0}),\n",
       " igraph.Edge(<igraph.Graph object at 0x11cdecb40>, 2191, {'v': 1.0}),\n",
       " igraph.Edge(<igraph.Graph object at 0x11cdecb40>, 2192, {'v': 1.0}),\n",
       " igraph.Edge(<igraph.Graph object at 0x11cdecb40>, 2193, {'v': 1.0}),\n",
       " igraph.Edge(<igraph.Graph object at 0x11cdecb40>, 2194, {'v': 25.0}),\n",
       " igraph.Edge(<igraph.Graph object at 0x11cdecb40>, 2195, {'v': 1.0}),\n",
       " igraph.Edge(<igraph.Graph object at 0x11cdecb40>, 2196, {'v': 14.0}),\n",
       " igraph.Edge(<igraph.Graph object at 0x11cdecb40>, 2197, {'v': 7.0}),\n",
       " igraph.Edge(<igraph.Graph object at 0x11cdecb40>, 2198, {'v': 1.0}),\n",
       " igraph.Edge(<igraph.Graph object at 0x11cdecb40>, 2199, {'v': 30.0}),\n",
       " igraph.Edge(<igraph.Graph object at 0x11cdecb40>, 2200, {'v': 4.0}),\n",
       " igraph.Edge(<igraph.Graph object at 0x11cdecb40>, 2201, {'v': 1.0}),\n",
       " igraph.Edge(<igraph.Graph object at 0x11cdecb40>, 375794, {'v': 2.0}),\n",
       " igraph.Edge(<igraph.Graph object at 0x11cdecb40>, 375796, {'v': 90.0}),\n",
       " igraph.Edge(<igraph.Graph object at 0x11cdecb40>, 375797, {'v': 10.0}),\n",
       " igraph.Edge(<igraph.Graph object at 0x11cdecb40>, 375798, {'v': 1.0}),\n",
       " igraph.Edge(<igraph.Graph object at 0x11cdecb40>, 375799, {'v': 14.0}),\n",
       " igraph.Edge(<igraph.Graph object at 0x11cdecb40>, 375801, {'v': 17.0}),\n",
       " igraph.Edge(<igraph.Graph object at 0x11cdecb40>, 375803, {'v': 1.0}),\n",
       " igraph.Edge(<igraph.Graph object at 0x11cdecb40>, 375807, {'v': 1.0}),\n",
       " igraph.Edge(<igraph.Graph object at 0x11cdecb40>, 375808, {'v': 1.0}),\n",
       " igraph.Edge(<igraph.Graph object at 0x11cdecb40>, 375810, {'v': 7.0}),\n",
       " igraph.Edge(<igraph.Graph object at 0x11cdecb40>, 375812, {'v': 28.0}),\n",
       " igraph.Edge(<igraph.Graph object at 0x11cdecb40>, 375815, {'v': 20.0}),\n",
       " igraph.Edge(<igraph.Graph object at 0x11cdecb40>, 375816, {'v': 7.0}),\n",
       " igraph.Edge(<igraph.Graph object at 0x11cdecb40>, 375817, {'v': 1.0}),\n",
       " igraph.Edge(<igraph.Graph object at 0x11cdecb40>, 375818, {'v': 9.0}),\n",
       " igraph.Edge(<igraph.Graph object at 0x11cdecb40>, 375821, {'v': 306.0}),\n",
       " igraph.Edge(<igraph.Graph object at 0x11cdecb40>, 375822, {'v': 1.0}),\n",
       " igraph.Edge(<igraph.Graph object at 0x11cdecb40>, 375823, {'v': 12.0}),\n",
       " igraph.Edge(<igraph.Graph object at 0x11cdecb40>, 375824, {'v': 1.0}),\n",
       " igraph.Edge(<igraph.Graph object at 0x11cdecb40>, 375826, {'v': 15.0}),\n",
       " igraph.Edge(<igraph.Graph object at 0x11cdecb40>, 375828, {'v': 3.0}),\n",
       " igraph.Edge(<igraph.Graph object at 0x11cdecb40>, 375829, {'v': 1.0}),\n",
       " igraph.Edge(<igraph.Graph object at 0x11cdecb40>, 375833, {'v': 1.0}),\n",
       " igraph.Edge(<igraph.Graph object at 0x11cdecb40>, 375834, {'v': 7.0}),\n",
       " igraph.Edge(<igraph.Graph object at 0x11cdecb40>, 375836, {'v': 7.0}),\n",
       " igraph.Edge(<igraph.Graph object at 0x11cdecb40>, 375837, {'v': 29.0}),\n",
       " igraph.Edge(<igraph.Graph object at 0x11cdecb40>, 375838, {'v': 1.0}),\n",
       " igraph.Edge(<igraph.Graph object at 0x11cdecb40>, 375839, {'v': 1.0}),\n",
       " igraph.Edge(<igraph.Graph object at 0x11cdecb40>, 375840, {'v': 255.0}),\n",
       " igraph.Edge(<igraph.Graph object at 0x11cdecb40>, 375843, {'v': 1.0}),\n",
       " igraph.Edge(<igraph.Graph object at 0x11cdecb40>, 375844, {'v': 1.0}),\n",
       " igraph.Edge(<igraph.Graph object at 0x11cdecb40>, 375847, {'v': 70.0}),\n",
       " igraph.Edge(<igraph.Graph object at 0x11cdecb40>, 375848, {'v': 1.0}),\n",
       " igraph.Edge(<igraph.Graph object at 0x11cdecb40>, 375849, {'v': 1.0}),\n",
       " igraph.Edge(<igraph.Graph object at 0x11cdecb40>, 375853, {'v': 1.0}),\n",
       " igraph.Edge(<igraph.Graph object at 0x11cdecb40>, 375854, {'v': 1.0}),\n",
       " igraph.Edge(<igraph.Graph object at 0x11cdecb40>, 375856, {'v': 92.0}),\n",
       " igraph.Edge(<igraph.Graph object at 0x11cdecb40>, 375857, {'v': 22.0}),\n",
       " igraph.Edge(<igraph.Graph object at 0x11cdecb40>, 375860, {'v': 13.0}),\n",
       " igraph.Edge(<igraph.Graph object at 0x11cdecb40>, 375862, {'v': 56.0}),\n",
       " igraph.Edge(<igraph.Graph object at 0x11cdecb40>, 375863, {'v': 1.0}),\n",
       " igraph.Edge(<igraph.Graph object at 0x11cdecb40>, 375864, {'v': 11.0}),\n",
       " igraph.Edge(<igraph.Graph object at 0x11cdecb40>, 375865, {'v': 33.0}),\n",
       " igraph.Edge(<igraph.Graph object at 0x11cdecb40>, 375866, {'v': 1.0}),\n",
       " igraph.Edge(<igraph.Graph object at 0x11cdecb40>, 375867, {'v': 7.0}),\n",
       " igraph.Edge(<igraph.Graph object at 0x11cdecb40>, 375869, {'v': 4.0}),\n",
       " igraph.Edge(<igraph.Graph object at 0x11cdecb40>, 375871, {'v': 269.0}),\n",
       " igraph.Edge(<igraph.Graph object at 0x11cdecb40>, 375872, {'v': 7.0}),\n",
       " igraph.Edge(<igraph.Graph object at 0x11cdecb40>, 375875, {'v': 1.0}),\n",
       " igraph.Edge(<igraph.Graph object at 0x11cdecb40>, 375876, {'v': 1.0}),\n",
       " igraph.Edge(<igraph.Graph object at 0x11cdecb40>, 375882, {'v': 2.0}),\n",
       " igraph.Edge(<igraph.Graph object at 0x11cdecb40>, 375883, {'v': 1.0}),\n",
       " igraph.Edge(<igraph.Graph object at 0x11cdecb40>, 375885, {'v': 40.0}),\n",
       " igraph.Edge(<igraph.Graph object at 0x11cdecb40>, 375886, {'v': 7.0}),\n",
       " igraph.Edge(<igraph.Graph object at 0x11cdecb40>, 375887, {'v': 1.0}),\n",
       " igraph.Edge(<igraph.Graph object at 0x11cdecb40>, 375889, {'v': 7.0}),\n",
       " igraph.Edge(<igraph.Graph object at 0x11cdecb40>, 375891, {'v': 175.0}),\n",
       " igraph.Edge(<igraph.Graph object at 0x11cdecb40>, 375892, {'v': 18.0}),\n",
       " igraph.Edge(<igraph.Graph object at 0x11cdecb40>, 375894, {'v': 1.0}),\n",
       " igraph.Edge(<igraph.Graph object at 0x11cdecb40>, 375895, {'v': 1.0}),\n",
       " igraph.Edge(<igraph.Graph object at 0x11cdecb40>, 375896, {'v': 8.0}),\n",
       " igraph.Edge(<igraph.Graph object at 0x11cdecb40>, 375897, {'v': 7.0}),\n",
       " igraph.Edge(<igraph.Graph object at 0x11cdecb40>, 375898, {'v': 1.0}),\n",
       " igraph.Edge(<igraph.Graph object at 0x11cdecb40>, 375899, {'v': 1.0}),\n",
       " igraph.Edge(<igraph.Graph object at 0x11cdecb40>, 375901, {'v': 13.0}),\n",
       " igraph.Edge(<igraph.Graph object at 0x11cdecb40>, 375902, {'v': 1.0}),\n",
       " igraph.Edge(<igraph.Graph object at 0x11cdecb40>, 375906, {'v': 1.0}),\n",
       " igraph.Edge(<igraph.Graph object at 0x11cdecb40>, 375908, {'v': 8.0}),\n",
       " igraph.Edge(<igraph.Graph object at 0x11cdecb40>, 375911, {'v': 1.0}),\n",
       " igraph.Edge(<igraph.Graph object at 0x11cdecb40>, 375912, {'v': 18.0}),\n",
       " igraph.Edge(<igraph.Graph object at 0x11cdecb40>, 375913, {'v': 1.0}),\n",
       " igraph.Edge(<igraph.Graph object at 0x11cdecb40>, 375914, {'v': 93.0}),\n",
       " igraph.Edge(<igraph.Graph object at 0x11cdecb40>, 375915, {'v': 7.0}),\n",
       " igraph.Edge(<igraph.Graph object at 0x11cdecb40>, 375916, {'v': 2.0}),\n",
       " igraph.Edge(<igraph.Graph object at 0x11cdecb40>, 375917, {'v': 100.0}),\n",
       " igraph.Edge(<igraph.Graph object at 0x11cdecb40>, 375918, {'v': 51.0}),\n",
       " igraph.Edge(<igraph.Graph object at 0x11cdecb40>, 375919, {'v': 7.0}),\n",
       " igraph.Edge(<igraph.Graph object at 0x11cdecb40>, 375921, {'v': 1.0}),\n",
       " igraph.Edge(<igraph.Graph object at 0x11cdecb40>, 375604, {'v': 1.0}),\n",
       " igraph.Edge(<igraph.Graph object at 0x11cdecb40>, 375606, {'v': 43.0}),\n",
       " igraph.Edge(<igraph.Graph object at 0x11cdecb40>, 375608, {'v': 1.0}),\n",
       " igraph.Edge(<igraph.Graph object at 0x11cdecb40>, 375610, {'v': 1.0}),\n",
       " igraph.Edge(<igraph.Graph object at 0x11cdecb40>, 375612, {'v': 1.0}),\n",
       " igraph.Edge(<igraph.Graph object at 0x11cdecb40>, 375617, {'v': 1.0}),\n",
       " igraph.Edge(<igraph.Graph object at 0x11cdecb40>, 2476, {'v': 7.0}),\n",
       " igraph.Edge(<igraph.Graph object at 0x11cdecb40>, 2477, {'v': 13.0}),\n",
       " igraph.Edge(<igraph.Graph object at 0x11cdecb40>, 2478, {'v': 1.0}),\n",
       " igraph.Edge(<igraph.Graph object at 0x11cdecb40>, 2479, {'v': 1.0}),\n",
       " igraph.Edge(<igraph.Graph object at 0x11cdecb40>, 2480, {'v': 1.0}),\n",
       " igraph.Edge(<igraph.Graph object at 0x11cdecb40>, 2481, {'v': 1.0}),\n",
       " igraph.Edge(<igraph.Graph object at 0x11cdecb40>, 2482, {'v': 13.0}),\n",
       " igraph.Edge(<igraph.Graph object at 0x11cdecb40>, 2483, {'v': 1.0}),\n",
       " igraph.Edge(<igraph.Graph object at 0x11cdecb40>, 2484, {'v': 13.0}),\n",
       " igraph.Edge(<igraph.Graph object at 0x11cdecb40>, 2485, {'v': 85.0}),\n",
       " igraph.Edge(<igraph.Graph object at 0x11cdecb40>, 2486, {'v': 1.0}),\n",
       " igraph.Edge(<igraph.Graph object at 0x11cdecb40>, 2487, {'v': 1.0}),\n",
       " igraph.Edge(<igraph.Graph object at 0x11cdecb40>, 2488, {'v': 1.0}),\n",
       " igraph.Edge(<igraph.Graph object at 0x11cdecb40>, 2489, {'v': 1.0}),\n",
       " igraph.Edge(<igraph.Graph object at 0x11cdecb40>, 2490, {'v': 1.0}),\n",
       " igraph.Edge(<igraph.Graph object at 0x11cdecb40>, 2491, {'v': 1.0}),\n",
       " igraph.Edge(<igraph.Graph object at 0x11cdecb40>, 2492, {'v': 1.0}),\n",
       " igraph.Edge(<igraph.Graph object at 0x11cdecb40>, 2493, {'v': 1.0}),\n",
       " igraph.Edge(<igraph.Graph object at 0x11cdecb40>, 2494, {'v': 7.0}),\n",
       " igraph.Edge(<igraph.Graph object at 0x11cdecb40>, 2495, {'v': 1.0}),\n",
       " igraph.Edge(<igraph.Graph object at 0x11cdecb40>, 2496, {'v': 2.0}),\n",
       " igraph.Edge(<igraph.Graph object at 0x11cdecb40>, 2497, {'v': 1.0}),\n",
       " igraph.Edge(<igraph.Graph object at 0x11cdecb40>, 2498, {'v': 1.0}),\n",
       " igraph.Edge(<igraph.Graph object at 0x11cdecb40>, 2499, {'v': 1.0}),\n",
       " igraph.Edge(<igraph.Graph object at 0x11cdecb40>, 2500, {'v': 3.0}),\n",
       " igraph.Edge(<igraph.Graph object at 0x11cdecb40>, 2501, {'v': 7.0}),\n",
       " igraph.Edge(<igraph.Graph object at 0x11cdecb40>, 2502, {'v': 1.0}),\n",
       " igraph.Edge(<igraph.Graph object at 0x11cdecb40>, 2503, {'v': 1.0}),\n",
       " igraph.Edge(<igraph.Graph object at 0x11cdecb40>, 375922, {'v': 13.0}),\n",
       " igraph.Edge(<igraph.Graph object at 0x11cdecb40>, 376071, {'v': 1.0}),\n",
       " igraph.Edge(<igraph.Graph object at 0x11cdecb40>, 376072, {'v': 1.0}),\n",
       " igraph.Edge(<igraph.Graph object at 0x11cdecb40>, 376073, {'v': 1.0}),\n",
       " igraph.Edge(<igraph.Graph object at 0x11cdecb40>, 376075, {'v': 2.0}),\n",
       " igraph.Edge(<igraph.Graph object at 0x11cdecb40>, 376077, {'v': 7.0}),\n",
       " igraph.Edge(<igraph.Graph object at 0x11cdecb40>, 376078, {'v': 9.0}),\n",
       " igraph.Edge(<igraph.Graph object at 0x11cdecb40>, 376079, {'v': 33.0}),\n",
       " igraph.Edge(<igraph.Graph object at 0x11cdecb40>, 376081, {'v': 14.0}),\n",
       " igraph.Edge(<igraph.Graph object at 0x11cdecb40>, 376082, {'v': 151.0}),\n",
       " igraph.Edge(<igraph.Graph object at 0x11cdecb40>, 376083, {'v': 1.0}),\n",
       " igraph.Edge(<igraph.Graph object at 0x11cdecb40>, 376087, {'v': 1.0}),\n",
       " igraph.Edge(<igraph.Graph object at 0x11cdecb40>, 376090, {'v': 1.0}),\n",
       " igraph.Edge(<igraph.Graph object at 0x11cdecb40>, 376091, {'v': 1.0}),\n",
       " igraph.Edge(<igraph.Graph object at 0x11cdecb40>, 376094, {'v': 1.0}),\n",
       " igraph.Edge(<igraph.Graph object at 0x11cdecb40>, 376095, {'v': 64.0}),\n",
       " igraph.Edge(<igraph.Graph object at 0x11cdecb40>, 376096, {'v': 14.0}),\n",
       " igraph.Edge(<igraph.Graph object at 0x11cdecb40>, 376097, {'v': 13.0}),\n",
       " igraph.Edge(<igraph.Graph object at 0x11cdecb40>, 376098, {'v': 1.0}),\n",
       " igraph.Edge(<igraph.Graph object at 0x11cdecb40>, 376099, {'v': 1.0}),\n",
       " igraph.Edge(<igraph.Graph object at 0x11cdecb40>, 376100, {'v': 21.0}),\n",
       " igraph.Edge(<igraph.Graph object at 0x11cdecb40>, 376103, {'v': 1.0}),\n",
       " igraph.Edge(<igraph.Graph object at 0x11cdecb40>, 376104, {'v': 1.0}),\n",
       " igraph.Edge(<igraph.Graph object at 0x11cdecb40>, 376106, {'v': 1.0}),\n",
       " igraph.Edge(<igraph.Graph object at 0x11cdecb40>, 376107, {'v': 1.0}),\n",
       " igraph.Edge(<igraph.Graph object at 0x11cdecb40>, 376109, {'v': 1.0}),\n",
       " igraph.Edge(<igraph.Graph object at 0x11cdecb40>, 376111, {'v': 25.0}),\n",
       " igraph.Edge(<igraph.Graph object at 0x11cdecb40>, 376112, {'v': 13.0}),\n",
       " igraph.Edge(<igraph.Graph object at 0x11cdecb40>, 376113, {'v': 1.0}),\n",
       " igraph.Edge(<igraph.Graph object at 0x11cdecb40>, 376115, {'v': 7.0}),\n",
       " igraph.Edge(<igraph.Graph object at 0x11cdecb40>, 376116, {'v': 7.0}),\n",
       " igraph.Edge(<igraph.Graph object at 0x11cdecb40>, 376117, {'v': 2.0}),\n",
       " igraph.Edge(<igraph.Graph object at 0x11cdecb40>, 376118, {'v': 13.0}),\n",
       " igraph.Edge(<igraph.Graph object at 0x11cdecb40>, 376119, {'v': 7.0}),\n",
       " igraph.Edge(<igraph.Graph object at 0x11cdecb40>, 376120, {'v': 7.0}),\n",
       " igraph.Edge(<igraph.Graph object at 0x11cdecb40>, 376122, {'v': 27.0}),\n",
       " igraph.Edge(<igraph.Graph object at 0x11cdecb40>, 376123, {'v': 13.0}),\n",
       " igraph.Edge(<igraph.Graph object at 0x11cdecb40>, 376125, {'v': 1.0}),\n",
       " igraph.Edge(<igraph.Graph object at 0x11cdecb40>, 376129, {'v': 1.0}),\n",
       " igraph.Edge(<igraph.Graph object at 0x11cdecb40>, 376130, {'v': 14.0}),\n",
       " igraph.Edge(<igraph.Graph object at 0x11cdecb40>, 376131, {'v': 1.0}),\n",
       " igraph.Edge(<igraph.Graph object at 0x11cdecb40>, 376134, {'v': 5.0}),\n",
       " igraph.Edge(<igraph.Graph object at 0x11cdecb40>, 376135, {'v': 1.0}),\n",
       " igraph.Edge(<igraph.Graph object at 0x11cdecb40>, 376137, {'v': 19.0}),\n",
       " igraph.Edge(<igraph.Graph object at 0x11cdecb40>, 376139, {'v': 1.0}),\n",
       " igraph.Edge(<igraph.Graph object at 0x11cdecb40>, 376146, {'v': 1.0}),\n",
       " igraph.Edge(<igraph.Graph object at 0x11cdecb40>, 376147, {'v': 1.0}),\n",
       " igraph.Edge(<igraph.Graph object at 0x11cdecb40>, 376148, {'v': 7.0}),\n",
       " igraph.Edge(<igraph.Graph object at 0x11cdecb40>, 376149, {'v': 58.0}),\n",
       " igraph.Edge(<igraph.Graph object at 0x11cdecb40>, 376152, {'v': 48.0}),\n",
       " igraph.Edge(<igraph.Graph object at 0x11cdecb40>, 376155, {'v': 2.0}),\n",
       " igraph.Edge(<igraph.Graph object at 0x11cdecb40>, 376156, {'v': 13.0}),\n",
       " igraph.Edge(<igraph.Graph object at 0x11cdecb40>, 376157, {'v': 1.0}),\n",
       " igraph.Edge(<igraph.Graph object at 0x11cdecb40>, 376158, {'v': 1.0}),\n",
       " igraph.Edge(<igraph.Graph object at 0x11cdecb40>, 376159, {'v': 1.0}),\n",
       " igraph.Edge(<igraph.Graph object at 0x11cdecb40>, 376161, {'v': 1.0}),\n",
       " igraph.Edge(<igraph.Graph object at 0x11cdecb40>, 376162, {'v': 1.0}),\n",
       " igraph.Edge(<igraph.Graph object at 0x11cdecb40>, 376163, {'v': 2.0}),\n",
       " igraph.Edge(<igraph.Graph object at 0x11cdecb40>, 376164, {'v': 1.0}),\n",
       " igraph.Edge(<igraph.Graph object at 0x11cdecb40>, 376166, {'v': 1.0}),\n",
       " igraph.Edge(<igraph.Graph object at 0x11cdecb40>, 376168, {'v': 1.0}),\n",
       " igraph.Edge(<igraph.Graph object at 0x11cdecb40>, 376170, {'v': 9.0}),\n",
       " igraph.Edge(<igraph.Graph object at 0x11cdecb40>, 376171, {'v': 1.0}),\n",
       " igraph.Edge(<igraph.Graph object at 0x11cdecb40>, 376172, {'v': 134.0}),\n",
       " igraph.Edge(<igraph.Graph object at 0x11cdecb40>, 376173, {'v': 1.0}),\n",
       " igraph.Edge(<igraph.Graph object at 0x11cdecb40>, 376176, {'v': 134.0}),\n",
       " igraph.Edge(<igraph.Graph object at 0x11cdecb40>, 376177, {'v': 1.0}),\n",
       " igraph.Edge(<igraph.Graph object at 0x11cdecb40>, 375621, {'v': 1.0}),\n",
       " igraph.Edge(<igraph.Graph object at 0x11cdecb40>, 375627, {'v': 1.0}),\n",
       " igraph.Edge(<igraph.Graph object at 0x11cdecb40>, 375629, {'v': 1.0}),\n",
       " igraph.Edge(<igraph.Graph object at 0x11cdecb40>, 375630, {'v': 1.0}),\n",
       " igraph.Edge(<igraph.Graph object at 0x11cdecb40>, 375633, {'v': 1.0}),\n",
       " igraph.Edge(<igraph.Graph object at 0x11cdecb40>, 375634, {'v': 1.0}),\n",
       " igraph.Edge(<igraph.Graph object at 0x11cdecb40>, 375787, {'v': 61.0}),\n",
       " igraph.Edge(<igraph.Graph object at 0x11cdecb40>, 375793, {'v': 1.0}),\n",
       " igraph.Edge(<igraph.Graph object at 0x11cdecb40>, 2778, {'v': 1.0}),\n",
       " igraph.Edge(<igraph.Graph object at 0x11cdecb40>, 2779, {'v': 1.0}),\n",
       " igraph.Edge(<igraph.Graph object at 0x11cdecb40>, 2780, {'v': 58.0}),\n",
       " igraph.Edge(<igraph.Graph object at 0x11cdecb40>, 2781, {'v': 8.0}),\n",
       " igraph.Edge(<igraph.Graph object at 0x11cdecb40>, 2782, {'v': 1.0}),\n",
       " igraph.Edge(<igraph.Graph object at 0x11cdecb40>, 2783, {'v': 1.0}),\n",
       " igraph.Edge(<igraph.Graph object at 0x11cdecb40>, 2784, {'v': 1.0}),\n",
       " igraph.Edge(<igraph.Graph object at 0x11cdecb40>, 2785, {'v': 20.0}),\n",
       " igraph.Edge(<igraph.Graph object at 0x11cdecb40>, 2786, {'v': 7.0}),\n",
       " igraph.Edge(<igraph.Graph object at 0x11cdecb40>, 2787, {'v': 225.0}),\n",
       " igraph.Edge(<igraph.Graph object at 0x11cdecb40>, 2788, {'v': 1.0}),\n",
       " igraph.Edge(<igraph.Graph object at 0x11cdecb40>, 2789, {'v': 13.0}),\n",
       " igraph.Edge(<igraph.Graph object at 0x11cdecb40>, 2790, {'v': 73.0}),\n",
       " igraph.Edge(<igraph.Graph object at 0x11cdecb40>, 2791, {'v': 7.0}),\n",
       " igraph.Edge(<igraph.Graph object at 0x11cdecb40>, 2792, {'v': 1.0}),\n",
       " igraph.Edge(<igraph.Graph object at 0x11cdecb40>, 2793, {'v': 1.0}),\n",
       " igraph.Edge(<igraph.Graph object at 0x11cdecb40>, 2794, {'v': 9.0}),\n",
       " igraph.Edge(<igraph.Graph object at 0x11cdecb40>, 2795, {'v': 1.0}),\n",
       " igraph.Edge(<igraph.Graph object at 0x11cdecb40>, 2796, {'v': 1.0}),\n",
       " igraph.Edge(<igraph.Graph object at 0x11cdecb40>, 2797, {'v': 2.0}),\n",
       " igraph.Edge(<igraph.Graph object at 0x11cdecb40>, 2798, {'v': 1.0}),\n",
       " igraph.Edge(<igraph.Graph object at 0x11cdecb40>, 2799, {'v': 7.0}),\n",
       " igraph.Edge(<igraph.Graph object at 0x11cdecb40>, 2800, {'v': 48.0}),\n",
       " igraph.Edge(<igraph.Graph object at 0x11cdecb40>, 2801, {'v': 7.0}),\n",
       " igraph.Edge(<igraph.Graph object at 0x11cdecb40>, 2802, {'v': 1.0}),\n",
       " igraph.Edge(<igraph.Graph object at 0x11cdecb40>, 2803, {'v': 1.0}),\n",
       " igraph.Edge(<igraph.Graph object at 0x11cdecb40>, 376181, {'v': 11.0}),\n",
       " igraph.Edge(<igraph.Graph object at 0x11cdecb40>, 376182, {'v': 166.0}),\n",
       " igraph.Edge(<igraph.Graph object at 0x11cdecb40>, 376185, {'v': 617.0}),\n",
       " igraph.Edge(<igraph.Graph object at 0x11cdecb40>, 376188, {'v': 13.0}),\n",
       " igraph.Edge(<igraph.Graph object at 0x11cdecb40>, 376189, {'v': 19.0}),\n",
       " igraph.Edge(<igraph.Graph object at 0x11cdecb40>, 376190, {'v': 13.0}),\n",
       " igraph.Edge(<igraph.Graph object at 0x11cdecb40>, 376192, {'v': 1.0}),\n",
       " igraph.Edge(<igraph.Graph object at 0x11cdecb40>, 376194, {'v': 1.0}),\n",
       " igraph.Edge(<igraph.Graph object at 0x11cdecb40>, 376195, {'v': 268.0}),\n",
       " igraph.Edge(<igraph.Graph object at 0x11cdecb40>, 376196, {'v': 14.0}),\n",
       " igraph.Edge(<igraph.Graph object at 0x11cdecb40>, 376198, {'v': 1.0}),\n",
       " igraph.Edge(<igraph.Graph object at 0x11cdecb40>, 376199, {'v': 1.0}),\n",
       " igraph.Edge(<igraph.Graph object at 0x11cdecb40>, 376200, {'v': 17.0}),\n",
       " igraph.Edge(<igraph.Graph object at 0x11cdecb40>, 376202, {'v': 1.0}),\n",
       " igraph.Edge(<igraph.Graph object at 0x11cdecb40>, 376203, {'v': 1.0}),\n",
       " igraph.Edge(<igraph.Graph object at 0x11cdecb40>, 376206, {'v': 3.0}),\n",
       " igraph.Edge(<igraph.Graph object at 0x11cdecb40>, 376378, {'v': 14.0}),\n",
       " igraph.Edge(<igraph.Graph object at 0x11cdecb40>, 376379, {'v': 7.0}),\n",
       " igraph.Edge(<igraph.Graph object at 0x11cdecb40>, 376380, {'v': 20.0}),\n",
       " igraph.Edge(<igraph.Graph object at 0x11cdecb40>, 376381, {'v': 1.0}),\n",
       " igraph.Edge(<igraph.Graph object at 0x11cdecb40>, 376382, {'v': 1.0}),\n",
       " igraph.Edge(<igraph.Graph object at 0x11cdecb40>, 376384, {'v': 7.0}),\n",
       " igraph.Edge(<igraph.Graph object at 0x11cdecb40>, 376385, {'v': 1.0}),\n",
       " igraph.Edge(<igraph.Graph object at 0x11cdecb40>, 376386, {'v': 47.0}),\n",
       " igraph.Edge(<igraph.Graph object at 0x11cdecb40>, 376388, {'v': 1.0}),\n",
       " igraph.Edge(<igraph.Graph object at 0x11cdecb40>, 376389, {'v': 7.0}),\n",
       " igraph.Edge(<igraph.Graph object at 0x11cdecb40>, 376395, {'v': 7.0}),\n",
       " igraph.Edge(<igraph.Graph object at 0x11cdecb40>, 376396, {'v': 1.0}),\n",
       " igraph.Edge(<igraph.Graph object at 0x11cdecb40>, 376397, {'v': 7.0}),\n",
       " igraph.Edge(<igraph.Graph object at 0x11cdecb40>, 376399, {'v': 15.0}),\n",
       " igraph.Edge(<igraph.Graph object at 0x11cdecb40>, 376403, {'v': 1.0}),\n",
       " igraph.Edge(<igraph.Graph object at 0x11cdecb40>, 376405, {'v': 7.0}),\n",
       " igraph.Edge(<igraph.Graph object at 0x11cdecb40>, 376407, {'v': 7.0}),\n",
       " igraph.Edge(<igraph.Graph object at 0x11cdecb40>, 376410, {'v': 81.0}),\n",
       " igraph.Edge(<igraph.Graph object at 0x11cdecb40>, 376411, {'v': 1.0}),\n",
       " igraph.Edge(<igraph.Graph object at 0x11cdecb40>, 376413, {'v': 1.0}),\n",
       " igraph.Edge(<igraph.Graph object at 0x11cdecb40>, 376415, {'v': 91.0}),\n",
       " igraph.Edge(<igraph.Graph object at 0x11cdecb40>, 376417, {'v': 1.0}),\n",
       " igraph.Edge(<igraph.Graph object at 0x11cdecb40>, 376418, {'v': 1.0}),\n",
       " igraph.Edge(<igraph.Graph object at 0x11cdecb40>, 376420, {'v': 1.0}),\n",
       " igraph.Edge(<igraph.Graph object at 0x11cdecb40>, 376425, {'v': 1.0}),\n",
       " igraph.Edge(<igraph.Graph object at 0x11cdecb40>, 376426, {'v': 10.0}),\n",
       " igraph.Edge(<igraph.Graph object at 0x11cdecb40>, 376428, {'v': 8.0}),\n",
       " igraph.Edge(<igraph.Graph object at 0x11cdecb40>, 376429, {'v': 1.0}),\n",
       " igraph.Edge(<igraph.Graph object at 0x11cdecb40>, 376430, {'v': 1.0}),\n",
       " igraph.Edge(<igraph.Graph object at 0x11cdecb40>, 376434, {'v': 43.0}),\n",
       " igraph.Edge(<igraph.Graph object at 0x11cdecb40>, 376436, {'v': 1.0}),\n",
       " igraph.Edge(<igraph.Graph object at 0x11cdecb40>, 376437, {'v': 2.0}),\n",
       " igraph.Edge(<igraph.Graph object at 0x11cdecb40>, 376438, {'v': 1.0}),\n",
       " igraph.Edge(<igraph.Graph object at 0x11cdecb40>, 376439, {'v': 7.0}),\n",
       " igraph.Edge(<igraph.Graph object at 0x11cdecb40>, 376440, {'v': 9.0}),\n",
       " igraph.Edge(<igraph.Graph object at 0x11cdecb40>, 376443, {'v': 65.0}),\n",
       " igraph.Edge(<igraph.Graph object at 0x11cdecb40>, 376444, {'v': 1.0}),\n",
       " igraph.Edge(<igraph.Graph object at 0x11cdecb40>, 376446, {'v': 1.0}),\n",
       " igraph.Edge(<igraph.Graph object at 0x11cdecb40>, 376448, {'v': 1.0}),\n",
       " igraph.Edge(<igraph.Graph object at 0x11cdecb40>, 376449, {'v': 1.0}),\n",
       " igraph.Edge(<igraph.Graph object at 0x11cdecb40>, 376450, {'v': 32.0}),\n",
       " igraph.Edge(<igraph.Graph object at 0x11cdecb40>, 376451, {'v': 11.0}),\n",
       " igraph.Edge(<igraph.Graph object at 0x11cdecb40>, 376452, {'v': 8.0}),\n",
       " igraph.Edge(<igraph.Graph object at 0x11cdecb40>, 376455, {'v': 21.0}),\n",
       " igraph.Edge(<igraph.Graph object at 0x11cdecb40>, 376457, {'v': 4.0}),\n",
       " igraph.Edge(<igraph.Graph object at 0x11cdecb40>, 376458, {'v': 7.0}),\n",
       " igraph.Edge(<igraph.Graph object at 0x11cdecb40>, 376459, {'v': 13.0}),\n",
       " igraph.Edge(<igraph.Graph object at 0x11cdecb40>, 376462, {'v': 1.0}),\n",
       " igraph.Edge(<igraph.Graph object at 0x11cdecb40>, 376464, {'v': 1.0}),\n",
       " igraph.Edge(<igraph.Graph object at 0x11cdecb40>, 376467, {'v': 25.0}),\n",
       " igraph.Edge(<igraph.Graph object at 0x11cdecb40>, 375800, {'v': 1.0}),\n",
       " igraph.Edge(<igraph.Graph object at 0x11cdecb40>, 375802, {'v': 1.0}),\n",
       " igraph.Edge(<igraph.Graph object at 0x11cdecb40>, 375804, {'v': 1.0}),\n",
       " igraph.Edge(<igraph.Graph object at 0x11cdecb40>, 375805, {'v': 2.0}),\n",
       " igraph.Edge(<igraph.Graph object at 0x11cdecb40>, 375806, {'v': 1.0}),\n",
       " igraph.Edge(<igraph.Graph object at 0x11cdecb40>, 375809, {'v': 1.0}),\n",
       " igraph.Edge(<igraph.Graph object at 0x11cdecb40>, 375811, {'v': 1.0}),\n",
       " igraph.Edge(<igraph.Graph object at 0x11cdecb40>, 3078, {'v': 1.0}),\n",
       " igraph.Edge(<igraph.Graph object at 0x11cdecb40>, 3079, {'v': 1.0}),\n",
       " igraph.Edge(<igraph.Graph object at 0x11cdecb40>, 3080, {'v': 1.0}),\n",
       " igraph.Edge(<igraph.Graph object at 0x11cdecb40>, 3081, {'v': 3.0}),\n",
       " igraph.Edge(<igraph.Graph object at 0x11cdecb40>, 3082, {'v': 1.0}),\n",
       " igraph.Edge(<igraph.Graph object at 0x11cdecb40>, 3083, {'v': 1.0}),\n",
       " igraph.Edge(<igraph.Graph object at 0x11cdecb40>, 3084, {'v': 1.0}),\n",
       " igraph.Edge(<igraph.Graph object at 0x11cdecb40>, 3085, {'v': 1.0}),\n",
       " igraph.Edge(<igraph.Graph object at 0x11cdecb40>, 3086, {'v': 8.0}),\n",
       " igraph.Edge(<igraph.Graph object at 0x11cdecb40>, 3087, {'v': 1.0}),\n",
       " igraph.Edge(<igraph.Graph object at 0x11cdecb40>, 3088, {'v': 1.0}),\n",
       " igraph.Edge(<igraph.Graph object at 0x11cdecb40>, 3089, {'v': 1.0}),\n",
       " igraph.Edge(<igraph.Graph object at 0x11cdecb40>, 3090, {'v': 1.0}),\n",
       " igraph.Edge(<igraph.Graph object at 0x11cdecb40>, 3091, {'v': 1.0}),\n",
       " igraph.Edge(<igraph.Graph object at 0x11cdecb40>, 3092, {'v': 7.0}),\n",
       " igraph.Edge(<igraph.Graph object at 0x11cdecb40>, 3093, {'v': 1.0}),\n",
       " igraph.Edge(<igraph.Graph object at 0x11cdecb40>, 3094, {'v': 1.0}),\n",
       " igraph.Edge(<igraph.Graph object at 0x11cdecb40>, 3095, {'v': 7.0}),\n",
       " igraph.Edge(<igraph.Graph object at 0x11cdecb40>, 3096, {'v': 1.0}),\n",
       " igraph.Edge(<igraph.Graph object at 0x11cdecb40>, 3097, {'v': 1.0}),\n",
       " igraph.Edge(<igraph.Graph object at 0x11cdecb40>, 3372, {'v': 1.0}),\n",
       " igraph.Edge(<igraph.Graph object at 0x11cdecb40>, 3374, {'v': 1.0}),\n",
       " igraph.Edge(<igraph.Graph object at 0x11cdecb40>, 3375, {'v': 26.0}),\n",
       " igraph.Edge(<igraph.Graph object at 0x11cdecb40>, 3387, {'v': 1.0}),\n",
       " igraph.Edge(<igraph.Graph object at 0x11cdecb40>, 3388, {'v': 26.0}),\n",
       " igraph.Edge(<igraph.Graph object at 0x11cdecb40>, 3389, {'v': 2.0}),\n",
       " igraph.Edge(<igraph.Graph object at 0x11cdecb40>, 3392, {'v': 1.0}),\n",
       " igraph.Edge(<igraph.Graph object at 0x11cdecb40>, 3393, {'v': 13.0}),\n",
       " igraph.Edge(<igraph.Graph object at 0x11cdecb40>, 3394, {'v': 19.0}),\n",
       " igraph.Edge(<igraph.Graph object at 0x11cdecb40>, 3397, {'v': 17.0}),\n",
       " igraph.Edge(<igraph.Graph object at 0x11cdecb40>, 3399, {'v': 1.0}),\n",
       " igraph.Edge(<igraph.Graph object at 0x11cdecb40>, 3677, {'v': 1.0}),\n",
       " igraph.Edge(<igraph.Graph object at 0x11cdecb40>, 3679, {'v': 8.0}),\n",
       " igraph.Edge(<igraph.Graph object at 0x11cdecb40>, 3683, {'v': 48.0}),\n",
       " igraph.Edge(<igraph.Graph object at 0x11cdecb40>, 3690, {'v': 1.0}),\n",
       " igraph.Edge(<igraph.Graph object at 0x11cdecb40>, 3692, {'v': 1.0}),\n",
       " igraph.Edge(<igraph.Graph object at 0x11cdecb40>, 3970, {'v': 3.0}),\n",
       " igraph.Edge(<igraph.Graph object at 0x11cdecb40>, 3974, {'v': 7.0}),\n",
       " igraph.Edge(<igraph.Graph object at 0x11cdecb40>, 3976, {'v': 19.0}),\n",
       " igraph.Edge(<igraph.Graph object at 0x11cdecb40>, 3977, {'v': 1.0}),\n",
       " igraph.Edge(<igraph.Graph object at 0x11cdecb40>, 3980, {'v': 8.0}),\n",
       " igraph.Edge(<igraph.Graph object at 0x11cdecb40>, 4258, {'v': 1.0}),\n",
       " igraph.Edge(<igraph.Graph object at 0x11cdecb40>, 4259, {'v': 1.0}),\n",
       " igraph.Edge(<igraph.Graph object at 0x11cdecb40>, 4261, {'v': 10.0}),\n",
       " igraph.Edge(<igraph.Graph object at 0x11cdecb40>, 4262, {'v': 5.0}),\n",
       " igraph.Edge(<igraph.Graph object at 0x11cdecb40>, 4269, {'v': 8.0}),\n",
       " igraph.Edge(<igraph.Graph object at 0x11cdecb40>, 4270, {'v': 1.0}),\n",
       " igraph.Edge(<igraph.Graph object at 0x11cdecb40>, 4545, {'v': 1.0}),\n",
       " igraph.Edge(<igraph.Graph object at 0x11cdecb40>, 4546, {'v': 56.0}),\n",
       " igraph.Edge(<igraph.Graph object at 0x11cdecb40>, 4552, {'v': 1.0}),\n",
       " igraph.Edge(<igraph.Graph object at 0x11cdecb40>, 4557, {'v': 14.0}),\n",
       " igraph.Edge(<igraph.Graph object at 0x11cdecb40>, 4558, {'v': 1.0}),\n",
       " igraph.Edge(<igraph.Graph object at 0x11cdecb40>, 4561, {'v': 8.0}),\n",
       " igraph.Edge(<igraph.Graph object at 0x11cdecb40>, 4700, {'v': 7.0}),\n",
       " igraph.Edge(<igraph.Graph object at 0x11cdecb40>, 4705, {'v': 16.0}),\n",
       " igraph.Edge(<igraph.Graph object at 0x11cdecb40>, 4843, {'v': 7.0}),\n",
       " igraph.Edge(<igraph.Graph object at 0x11cdecb40>, 4845, {'v': 1.0}),\n",
       " igraph.Edge(<igraph.Graph object at 0x11cdecb40>, 4846, {'v': 1.0}),\n",
       " igraph.Edge(<igraph.Graph object at 0x11cdecb40>, 4849, {'v': 7.0}),\n",
       " igraph.Edge(<igraph.Graph object at 0x11cdecb40>, 375813, {'v': 1.0}),\n",
       " igraph.Edge(<igraph.Graph object at 0x11cdecb40>, 375814, {'v': 1.0}),\n",
       " igraph.Edge(<igraph.Graph object at 0x11cdecb40>, 375819, {'v': 1.0}),\n",
       " igraph.Edge(<igraph.Graph object at 0x11cdecb40>, 375820, {'v': 1.0}),\n",
       " igraph.Edge(<igraph.Graph object at 0x11cdecb40>, 375827, {'v': 1.0}),\n",
       " igraph.Edge(<igraph.Graph object at 0x11cdecb40>, 375830, {'v': 7.0}),\n",
       " igraph.Edge(<igraph.Graph object at 0x11cdecb40>, 375831, {'v': 7.0}),\n",
       " igraph.Edge(<igraph.Graph object at 0x11cdecb40>, 375832, {'v': 1.0}),\n",
       " igraph.Edge(<igraph.Graph object at 0x11cdecb40>, 3373, {'v': 1.0}),\n",
       " igraph.Edge(<igraph.Graph object at 0x11cdecb40>, 3376, {'v': 1.0}),\n",
       " igraph.Edge(<igraph.Graph object at 0x11cdecb40>, 3377, {'v': 1.0}),\n",
       " igraph.Edge(<igraph.Graph object at 0x11cdecb40>, 3378, {'v': 1.0}),\n",
       " igraph.Edge(<igraph.Graph object at 0x11cdecb40>, 3379, {'v': 1.0}),\n",
       " igraph.Edge(<igraph.Graph object at 0x11cdecb40>, 3380, {'v': 1.0}),\n",
       " igraph.Edge(<igraph.Graph object at 0x11cdecb40>, 3381, {'v': 61.0}),\n",
       " igraph.Edge(<igraph.Graph object at 0x11cdecb40>, 3382, {'v': 1.0}),\n",
       " igraph.Edge(<igraph.Graph object at 0x11cdecb40>, 3383, {'v': 1.0}),\n",
       " igraph.Edge(<igraph.Graph object at 0x11cdecb40>, 3384, {'v': 1.0}),\n",
       " igraph.Edge(<igraph.Graph object at 0x11cdecb40>, 3385, {'v': 1.0}),\n",
       " igraph.Edge(<igraph.Graph object at 0x11cdecb40>, 3386, {'v': 1.0}),\n",
       " igraph.Edge(<igraph.Graph object at 0x11cdecb40>, 3390, {'v': 1.0}),\n",
       " igraph.Edge(<igraph.Graph object at 0x11cdecb40>, 3391, {'v': 1.0}),\n",
       " igraph.Edge(<igraph.Graph object at 0x11cdecb40>, 3395, {'v': 13.0}),\n",
       " igraph.Edge(<igraph.Graph object at 0x11cdecb40>, 3396, {'v': 1.0}),\n",
       " igraph.Edge(<igraph.Graph object at 0x11cdecb40>, 3398, {'v': 1.0}),\n",
       " igraph.Edge(<igraph.Graph object at 0x11cdecb40>, 3400, {'v': 1.0}),\n",
       " igraph.Edge(<igraph.Graph object at 0x11cdecb40>, 4851, {'v': 3.0}),\n",
       " igraph.Edge(<igraph.Graph object at 0x11cdecb40>, 4990, {'v': 1.0}),\n",
       " igraph.Edge(<igraph.Graph object at 0x11cdecb40>, 4992, {'v': 13.0}),\n",
       " igraph.Edge(<igraph.Graph object at 0x11cdecb40>, 4993, {'v': 7.0}),\n",
       " igraph.Edge(<igraph.Graph object at 0x11cdecb40>, 5000, {'v': 1.0}),\n",
       " igraph.Edge(<igraph.Graph object at 0x11cdecb40>, 5005, {'v': 1.0}),\n",
       " igraph.Edge(<igraph.Graph object at 0x11cdecb40>, 5006, {'v': 1.0}),\n",
       " igraph.Edge(<igraph.Graph object at 0x11cdecb40>, 5011, {'v': 1.0}),\n",
       " igraph.Edge(<igraph.Graph object at 0x11cdecb40>, 5013, {'v': 20.0}),\n",
       " igraph.Edge(<igraph.Graph object at 0x11cdecb40>, 5014, {'v': 1.0}),\n",
       " igraph.Edge(<igraph.Graph object at 0x11cdecb40>, 5016, {'v': 27.0}),\n",
       " igraph.Edge(<igraph.Graph object at 0x11cdecb40>, 5017, {'v': 1.0}),\n",
       " igraph.Edge(<igraph.Graph object at 0x11cdecb40>, 5018, {'v': 5.0}),\n",
       " igraph.Edge(<igraph.Graph object at 0x11cdecb40>, 5019, {'v': 2.0}),\n",
       " igraph.Edge(<igraph.Graph object at 0x11cdecb40>, 5021, {'v': 1.0}),\n",
       " igraph.Edge(<igraph.Graph object at 0x11cdecb40>, 5023, {'v': 13.0}),\n",
       " igraph.Edge(<igraph.Graph object at 0x11cdecb40>, 5024, {'v': 2.0}),\n",
       " igraph.Edge(<igraph.Graph object at 0x11cdecb40>, 5025, {'v': 1.0}),\n",
       " igraph.Edge(<igraph.Graph object at 0x11cdecb40>, 5028, {'v': 1.0}),\n",
       " igraph.Edge(<igraph.Graph object at 0x11cdecb40>, 5303, {'v': 16.0}),\n",
       " igraph.Edge(<igraph.Graph object at 0x11cdecb40>, 5304, {'v': 1.0}),\n",
       " igraph.Edge(<igraph.Graph object at 0x11cdecb40>, 5305, {'v': 1.0}),\n",
       " igraph.Edge(<igraph.Graph object at 0x11cdecb40>, 5306, {'v': 55.0}),\n",
       " igraph.Edge(<igraph.Graph object at 0x11cdecb40>, 5307, {'v': 1.0}),\n",
       " igraph.Edge(<igraph.Graph object at 0x11cdecb40>, 5308, {'v': 9.0}),\n",
       " igraph.Edge(<igraph.Graph object at 0x11cdecb40>, 5309, {'v': 1.0}),\n",
       " igraph.Edge(<igraph.Graph object at 0x11cdecb40>, 5312, {'v': 1.0}),\n",
       " igraph.Edge(<igraph.Graph object at 0x11cdecb40>, 5315, {'v': 1.0}),\n",
       " igraph.Edge(<igraph.Graph object at 0x11cdecb40>, 5316, {'v': 1.0}),\n",
       " igraph.Edge(<igraph.Graph object at 0x11cdecb40>, 5593, {'v': 25.0}),\n",
       " igraph.Edge(<igraph.Graph object at 0x11cdecb40>, 5598, {'v': 1.0}),\n",
       " igraph.Edge(<igraph.Graph object at 0x11cdecb40>, 5601, {'v': 1.0}),\n",
       " igraph.Edge(<igraph.Graph object at 0x11cdecb40>, 5602, {'v': 2.0}),\n",
       " igraph.Edge(<igraph.Graph object at 0x11cdecb40>, 5603, {'v': 1.0}),\n",
       " igraph.Edge(<igraph.Graph object at 0x11cdecb40>, 5885, {'v': 1.0}),\n",
       " igraph.Edge(<igraph.Graph object at 0x11cdecb40>, 6161, {'v': 7.0}),\n",
       " igraph.Edge(<igraph.Graph object at 0x11cdecb40>, 6163, {'v': 7.0}),\n",
       " igraph.Edge(<igraph.Graph object at 0x11cdecb40>, 6164, {'v': 1.0}),\n",
       " igraph.Edge(<igraph.Graph object at 0x11cdecb40>, 6169, {'v': 1.0}),\n",
       " igraph.Edge(<igraph.Graph object at 0x11cdecb40>, 6170, {'v': 7.0}),\n",
       " igraph.Edge(<igraph.Graph object at 0x11cdecb40>, 6445, {'v': 1.0}),\n",
       " igraph.Edge(<igraph.Graph object at 0x11cdecb40>, 6447, {'v': 13.0}),\n",
       " igraph.Edge(<igraph.Graph object at 0x11cdecb40>, 6448, {'v': 1.0}),\n",
       " igraph.Edge(<igraph.Graph object at 0x11cdecb40>, 6449, {'v': 1.0}),\n",
       " igraph.Edge(<igraph.Graph object at 0x11cdecb40>, 6452, {'v': 2.0}),\n",
       " igraph.Edge(<igraph.Graph object at 0x11cdecb40>, 6593, {'v': 1.0}),\n",
       " igraph.Edge(<igraph.Graph object at 0x11cdecb40>, 6595, {'v': 37.0}),\n",
       " igraph.Edge(<igraph.Graph object at 0x11cdecb40>, 6597, {'v': 13.0}),\n",
       " igraph.Edge(<igraph.Graph object at 0x11cdecb40>, 6736, {'v': 1.0}),\n",
       " igraph.Edge(<igraph.Graph object at 0x11cdecb40>, 6738, {'v': 9.0}),\n",
       " igraph.Edge(<igraph.Graph object at 0x11cdecb40>, 6739, {'v': 1.0}),\n",
       " igraph.Edge(<igraph.Graph object at 0x11cdecb40>, 6742, {'v': 65.0}),\n",
       " igraph.Edge(<igraph.Graph object at 0x11cdecb40>, 6746, {'v': 1.0}),\n",
       " igraph.Edge(<igraph.Graph object at 0x11cdecb40>, 6747, {'v': 24.0}),\n",
       " igraph.Edge(<igraph.Graph object at 0x11cdecb40>, 6748, {'v': 51.0}),\n",
       " igraph.Edge(<igraph.Graph object at 0x11cdecb40>, 6749, {'v': 61.0}),\n",
       " igraph.Edge(<igraph.Graph object at 0x11cdecb40>, 6751, {'v': 57.0}),\n",
       " igraph.Edge(<igraph.Graph object at 0x11cdecb40>, 6893, {'v': 7.0}),\n",
       " igraph.Edge(<igraph.Graph object at 0x11cdecb40>, 7034, {'v': 1.0}),\n",
       " igraph.Edge(<igraph.Graph object at 0x11cdecb40>, 7035, {'v': 1.0}),\n",
       " igraph.Edge(<igraph.Graph object at 0x11cdecb40>, 7040, {'v': 1.0}),\n",
       " igraph.Edge(<igraph.Graph object at 0x11cdecb40>, 7043, {'v': 17.0}),\n",
       " igraph.Edge(<igraph.Graph object at 0x11cdecb40>, 7044, {'v': 7.0}),\n",
       " igraph.Edge(<igraph.Graph object at 0x11cdecb40>, 7465, {'v': 1.0}),\n",
       " igraph.Edge(<igraph.Graph object at 0x11cdecb40>, 7466, {'v': 18.0}),\n",
       " igraph.Edge(<igraph.Graph object at 0x11cdecb40>, 7469, {'v': 1.0}),\n",
       " igraph.Edge(<igraph.Graph object at 0x11cdecb40>, 7470, {'v': 31.0}),\n",
       " igraph.Edge(<igraph.Graph object at 0x11cdecb40>, 7748, {'v': 1.0}),\n",
       " igraph.Edge(<igraph.Graph object at 0x11cdecb40>, 7756, {'v': 1.0}),\n",
       " igraph.Edge(<igraph.Graph object at 0x11cdecb40>, 7758, {'v': 1.0}),\n",
       " igraph.Edge(<igraph.Graph object at 0x11cdecb40>, 8035, {'v': 1.0}),\n",
       " igraph.Edge(<igraph.Graph object at 0x11cdecb40>, 8036, {'v': 1.0}),\n",
       " igraph.Edge(<igraph.Graph object at 0x11cdecb40>, 8038, {'v': 1.0}),\n",
       " igraph.Edge(<igraph.Graph object at 0x11cdecb40>, 8039, {'v': 1.0}),\n",
       " igraph.Edge(<igraph.Graph object at 0x11cdecb40>, 8041, {'v': 1.0}),\n",
       " igraph.Edge(<igraph.Graph object at 0x11cdecb40>, 8042, {'v': 1.0}),\n",
       " igraph.Edge(<igraph.Graph object at 0x11cdecb40>, 8049, {'v': 13.0}),\n",
       " igraph.Edge(<igraph.Graph object at 0x11cdecb40>, 8324, {'v': 1.0}),\n",
       " igraph.Edge(<igraph.Graph object at 0x11cdecb40>, 8325, {'v': 1.0}),\n",
       " igraph.Edge(<igraph.Graph object at 0x11cdecb40>, 8326, {'v': 1.0}),\n",
       " igraph.Edge(<igraph.Graph object at 0x11cdecb40>, 8329, {'v': 1.0}),\n",
       " igraph.Edge(<igraph.Graph object at 0x11cdecb40>, 8331, {'v': 10.0}),\n",
       " igraph.Edge(<igraph.Graph object at 0x11cdecb40>, 8332, {'v': 1.0}),\n",
       " igraph.Edge(<igraph.Graph object at 0x11cdecb40>, 8335, {'v': 1.0}),\n",
       " igraph.Edge(<igraph.Graph object at 0x11cdecb40>, 8615, {'v': 24.0}),\n",
       " igraph.Edge(<igraph.Graph object at 0x11cdecb40>, 375835, {'v': 1.0}),\n",
       " igraph.Edge(<igraph.Graph object at 0x11cdecb40>, 375841, {'v': 33.0}),\n",
       " igraph.Edge(<igraph.Graph object at 0x11cdecb40>, 375842, {'v': 1.0}),\n",
       " igraph.Edge(<igraph.Graph object at 0x11cdecb40>, 375845, {'v': 1.0}),\n",
       " igraph.Edge(<igraph.Graph object at 0x11cdecb40>, 375846, {'v': 1.0}),\n",
       " igraph.Edge(<igraph.Graph object at 0x11cdecb40>, 375850, {'v': 33.0}),\n",
       " igraph.Edge(<igraph.Graph object at 0x11cdecb40>, 375852, {'v': 1.0}),\n",
       " igraph.Edge(<igraph.Graph object at 0x11cdecb40>, 375855, {'v': 7.0}),\n",
       " igraph.Edge(<igraph.Graph object at 0x11cdecb40>, 3675, {'v': 1.0}),\n",
       " igraph.Edge(<igraph.Graph object at 0x11cdecb40>, 3676, {'v': 1.0}),\n",
       " igraph.Edge(<igraph.Graph object at 0x11cdecb40>, 3678, {'v': 2.0}),\n",
       " igraph.Edge(<igraph.Graph object at 0x11cdecb40>, 3680, {'v': 1.0}),\n",
       " igraph.Edge(<igraph.Graph object at 0x11cdecb40>, 3681, {'v': 1.0}),\n",
       " igraph.Edge(<igraph.Graph object at 0x11cdecb40>, 3682, {'v': 1.0}),\n",
       " igraph.Edge(<igraph.Graph object at 0x11cdecb40>, 3684, {'v': 1.0}),\n",
       " igraph.Edge(<igraph.Graph object at 0x11cdecb40>, 3685, {'v': 1.0}),\n",
       " igraph.Edge(<igraph.Graph object at 0x11cdecb40>, 3686, {'v': 1.0}),\n",
       " igraph.Edge(<igraph.Graph object at 0x11cdecb40>, 3687, {'v': 1.0}),\n",
       " igraph.Edge(<igraph.Graph object at 0x11cdecb40>, 3688, {'v': 1.0}),\n",
       " igraph.Edge(<igraph.Graph object at 0x11cdecb40>, 3689, {'v': 1.0}),\n",
       " igraph.Edge(<igraph.Graph object at 0x11cdecb40>, 3691, {'v': 1.0}),\n",
       " igraph.Edge(<igraph.Graph object at 0x11cdecb40>, 3693, {'v': 1.0}),\n",
       " igraph.Edge(<igraph.Graph object at 0x11cdecb40>, 3694, {'v': 1.0}),\n",
       " igraph.Edge(<igraph.Graph object at 0x11cdecb40>, 375858, {'v': 1.0}),\n",
       " igraph.Edge(<igraph.Graph object at 0x11cdecb40>, 375859, {'v': 1.0}),\n",
       " igraph.Edge(<igraph.Graph object at 0x11cdecb40>, 375861, {'v': 7.0}),\n",
       " igraph.Edge(<igraph.Graph object at 0x11cdecb40>, 375870, {'v': 1.0}),\n",
       " igraph.Edge(<igraph.Graph object at 0x11cdecb40>, 375873, {'v': 1.0}),\n",
       " igraph.Edge(<igraph.Graph object at 0x11cdecb40>, 375874, {'v': 7.0}),\n",
       " igraph.Edge(<igraph.Graph object at 0x11cdecb40>, 375877, {'v': 13.0}),\n",
       " ...]"
      ]
     },
     "execution_count": 21,
     "metadata": {},
     "output_type": "execute_result"
    }
   ],
   "source": [
    "[edge for j in k1[0][:5] for edge in g.vs[j].out_edges() ]"
   ]
  },
  {
   "cell_type": "code",
   "execution_count": 22,
   "id": "cbd7398b",
   "metadata": {},
   "outputs": [
    {
     "data": {
      "text/plain": [
       "igraph.Edge(<igraph.Graph object at 0x11cdecb40>, 116302, {'v': 24.0})"
      ]
     },
     "execution_count": 22,
     "metadata": {},
     "output_type": "execute_result"
    }
   ],
   "source": [
    "g.es[116302]"
   ]
  },
  {
   "cell_type": "code",
   "execution_count": 23,
   "id": "a937e7e3",
   "metadata": {},
   "outputs": [],
   "source": [
    "def into_ijv_for_edge(graph:ig.Graph, edge:ig.Edge, degree:int):\n",
    "    return {\n",
    "        'i': graph.vs[edge.tuple[0]][\"name\"],\n",
    "        'j': graph.vs[edge.tuple[1]][\"name\"],\n",
    "        'v': edge[\"v\"],\n",
    "        'k': degree\n",
    "    }"
   ]
  },
  {
   "cell_type": "code",
   "execution_count": 73,
   "id": "f31ed654",
   "metadata": {},
   "outputs": [],
   "source": [
    "def get_localtrust_with_degree(graph:ig.Graph, in_addr:str, max_neighbors:int, max_degree:int) -> list: \n",
    "    lt = []\n",
    "    mindist_and_order = 1\n",
    "    limit = max_neighbors\n",
    "    while mindist_and_order <= max_degree:\n",
    "        neighbors = graph.neighborhood(\n",
    "            [in_addr], order=mindist_and_order, mode=\"out\", mindist=mindist_and_order\n",
    "        )\n",
    "        k_edges = [edge for j in neighbors[0][:limit] for edge in graph.vs[j].out_edges()]\n",
    "        \n",
    "        [lt.append(into_ijv_for_edge(graph, e, mindist_and_order)) for e in k_edges]\n",
    "\n",
    "        limit = limit - len(neighbors[0])\n",
    "        if limit <= 0:\n",
    "            break # we have reached limit of neighbors\n",
    "        mindist_and_order += 1\n",
    "    # end of while\n",
    "    return lt"
   ]
  },
  {
   "cell_type": "code",
   "execution_count": 75,
   "id": "593406a5",
   "metadata": {},
   "outputs": [
    {
     "name": "stdout",
     "output_type": "stream",
     "text": [
      "CPU times: user 185 ms, sys: 26.8 ms, total: 212 ms\n",
      "Wall time: 217 ms\n"
     ]
    }
   ],
   "source": [
    "%%time\n",
    "localtrust = get_localtrust_with_degree(graph=g,\n",
    "                                        in_addr=\"0x0a860752374e8430b7ae704df85b24d6f6b9adf4\",\n",
    "                                        max_neighbors=100,\n",
    "                                        max_degree=3)"
   ]
  },
  {
   "cell_type": "code",
   "execution_count": 76,
   "id": "3899ca3c",
   "metadata": {},
   "outputs": [
    {
     "data": {
      "text/plain": [
       "44272"
      ]
     },
     "execution_count": 76,
     "metadata": {},
     "output_type": "execute_result"
    }
   ],
   "source": [
    "len(localtrust)"
   ]
  },
  {
   "cell_type": "code",
   "execution_count": 77,
   "id": "a2120404",
   "metadata": {},
   "outputs": [
    {
     "data": {
      "text/plain": [
       "[{'i': '0x2b09450cc18019d2c505bbcecb27485e0469bc2c',\n",
       "  'j': '0xfbca89c404fdbec685dd8b412b450a80af26d38f',\n",
       "  'v': 1.0,\n",
       "  'k': 1},\n",
       " {'i': '0x74c6b9a4217e0e391294a807a264fd0502990baa',\n",
       "  'j': '0xb3dfe30cc10995be126118c4b7a38e99f6bd39d4',\n",
       "  'v': 1.0,\n",
       "  'k': 1},\n",
       " {'i': '0x452c3c4acb32aad6abe53ad813dee3fe71a93669',\n",
       "  'j': '0xaa11ebefbb4723debabbfc85932c11f358e68306',\n",
       "  'v': 1.0,\n",
       "  'k': 1},\n",
       " {'i': '0xe1b1e3bbf4f29bd7253d6fc1e2ddc9cacb0a546a',\n",
       "  'j': '0x99bce75fc42e0e6114b170dfa89f833e21b2be78',\n",
       "  'v': 13.0,\n",
       "  'k': 1},\n",
       " {'i': '0x1ca66c990e86b750ea6b2180d17fff89273a5c0d',\n",
       "  'j': '0x7ab82b13992e38462f50df7065256071204099e5',\n",
       "  'v': 7.0,\n",
       "  'k': 1}]"
      ]
     },
     "execution_count": 77,
     "metadata": {},
     "output_type": "execute_result"
    }
   ],
   "source": [
    "import random\n",
    "random.sample(localtrust,5)"
   ]
  },
  {
   "cell_type": "code",
   "execution_count": 78,
   "id": "66af5c88",
   "metadata": {},
   "outputs": [
    {
     "name": "stdout",
     "output_type": "stream",
     "text": [
      "CPU times: user 1.31 s, sys: 85.1 ms, total: 1.4 s\n",
      "Wall time: 1.65 s\n"
     ]
    }
   ],
   "source": [
    "%%time\n",
    "localtrust = get_localtrust_with_degree(graph=g,\n",
    "                                        in_addr=\"0x0a860752374e8430b7ae704df85b24d6f6b9adf4\",\n",
    "                                        max_neighbors=1000,\n",
    "                                        max_degree=5)"
   ]
  },
  {
   "cell_type": "code",
   "execution_count": 79,
   "id": "55f385f3",
   "metadata": {},
   "outputs": [
    {
     "data": {
      "text/plain": [
       "363559"
      ]
     },
     "execution_count": 79,
     "metadata": {},
     "output_type": "execute_result"
    }
   ],
   "source": [
    "len(localtrust)"
   ]
  },
  {
   "cell_type": "code",
   "execution_count": 80,
   "id": "a41777e7",
   "metadata": {},
   "outputs": [
    {
     "data": {
      "text/plain": [
       "[{'i': '0x214573f904759874c9c2e4903b1cbd0bb5821e1d',\n",
       "  'j': '0x89b7dffc40b5cfb274d87555dce72b6a90d5d240',\n",
       "  'v': 13.0,\n",
       "  'k': 2},\n",
       " {'i': '0xbe2195d82d9d9f3a14c8ddf6b78c3872ed49a1ce',\n",
       "  'j': '0x27afccc7af1a7fde223f778eeccd308512ed7df9',\n",
       "  'v': 1.0,\n",
       "  'k': 2},\n",
       " {'i': '0xa35567b3b5ad54ffb88f6789aa2f4d69ee7097b1',\n",
       "  'j': '0x322d3353c3bd12f9a5308f90c808364326274178',\n",
       "  'v': 7.0,\n",
       "  'k': 2},\n",
       " {'i': '0xa35567b3b5ad54ffb88f6789aa2f4d69ee7097b1',\n",
       "  'j': '0xb5e6353fb6d02a9a66e7b83280927b16d87577d8',\n",
       "  'v': 19.0,\n",
       "  'k': 2},\n",
       " {'i': '0x19c29a3cea8733314e501d42f1a0d6dcb23e1b3d',\n",
       "  'j': '0x89141cdee17c6cad747efdb37dc7d5e3c8074bd6',\n",
       "  'v': 6.0,\n",
       "  'k': 2}]"
      ]
     },
     "execution_count": 80,
     "metadata": {},
     "output_type": "execute_result"
    }
   ],
   "source": [
    "random.sample(localtrust, 5)"
   ]
  },
  {
   "cell_type": "code",
   "execution_count": 82,
   "id": "65c79dd5",
   "metadata": {},
   "outputs": [
    {
     "name": "stdout",
     "output_type": "stream",
     "text": [
      "CPU times: user 260 ms, sys: 24.4 ms, total: 284 ms\n",
      "Wall time: 292 ms\n"
     ]
    }
   ],
   "source": [
    "%%time\n",
    "localtrust = get_localtrust_with_degree(graph=g,\n",
    "                                        in_addr=\"0x7ea38f878aec603bbce2376ded83d502bd2d881e\",\n",
    "                                        max_neighbors=100,\n",
    "                                        max_degree=5)"
   ]
  },
  {
   "cell_type": "code",
   "execution_count": 83,
   "id": "8eedcb09",
   "metadata": {},
   "outputs": [
    {
     "data": {
      "text/plain": [
       "59251"
      ]
     },
     "execution_count": 83,
     "metadata": {},
     "output_type": "execute_result"
    }
   ],
   "source": [
    "len(localtrust)"
   ]
  },
  {
   "cell_type": "code",
   "execution_count": 84,
   "id": "be9ca3a6",
   "metadata": {},
   "outputs": [
    {
     "data": {
      "text/plain": [
       "44784"
      ]
     },
     "execution_count": 84,
     "metadata": {},
     "output_type": "execute_result"
    }
   ],
   "source": [
    "len(g.vs)"
   ]
  },
  {
   "cell_type": "code",
   "execution_count": 85,
   "id": "537116c6",
   "metadata": {},
   "outputs": [
    {
     "data": {
      "text/plain": [
       "'0xcd1bae2391651198850b076c2b600d534df53ade'"
      ]
     },
     "execution_count": 85,
     "metadata": {},
     "output_type": "execute_result"
    }
   ],
   "source": [
    "g.vs[0][\"name\"]"
   ]
  },
  {
   "cell_type": "code",
   "execution_count": 89,
   "id": "98e80fc2",
   "metadata": {},
   "outputs": [],
   "source": [
    "%%script false --no-raise-error # skip because this cell takes too long\n",
    "%%time\n",
    "from tqdm import tqdm\n",
    "for v in tqdm(g.vs):\n",
    "    get_localtrust_with_degree(\n",
    "        graph=g,\n",
    "        in_addr=v[\"name\"],\n",
    "        max_neighbors=100,\n",
    "        max_degree=5\n",
    "    )"
   ]
  },
  {
   "cell_type": "code",
   "execution_count": 190,
   "id": "668a412c",
   "metadata": {},
   "outputs": [],
   "source": [
    "def get_neighbors(graph:ig.Graph, in_addr:str, max_neighbors:int, max_degree:int) -> list:\n",
    "    import itertools\n",
    "    klists = []\n",
    "    mindist_and_order = 1\n",
    "    limit = max_neighbors\n",
    "    while mindist_and_order <= max_degree:\n",
    "        neighbors = graph.neighborhood(\n",
    "            [in_addr], order=mindist_and_order, mode=\"out\", mindist=mindist_and_order\n",
    "        )\n",
    "        klists.append(g.vs[neighbors[0][:limit]][\"name\"])\n",
    "        \n",
    "        limit = limit - len(neighbors[0])\n",
    "        if limit <= 0:\n",
    "            break # we have reached limit of neighbors\n",
    "        mindist_and_order += 1\n",
    "    # end of while\n",
    "    return list(itertools.chain(*klists))"
   ]
  },
  {
   "cell_type": "code",
   "execution_count": 191,
   "id": "472f65ec",
   "metadata": {},
   "outputs": [
    {
     "name": "stdout",
     "output_type": "stream",
     "text": [
      "CPU times: user 667 µs, sys: 278 µs, total: 945 µs\n",
      "Wall time: 959 µs\n"
     ]
    }
   ],
   "source": [
    "%%time\n",
    "neighbors = get_neighbors(\n",
    "                graph=g,\n",
    "                in_addr=\"0x7ea38f878aec603bbce2376ded83d502bd2d881e\",\n",
    "                max_neighbors=1000,\n",
    "                max_degree=5\n",
    "            )"
   ]
  },
  {
   "cell_type": "code",
   "execution_count": 192,
   "id": "d9dac61f",
   "metadata": {},
   "outputs": [
    {
     "data": {
      "text/plain": [
       "1000"
      ]
     },
     "execution_count": 192,
     "metadata": {},
     "output_type": "execute_result"
    }
   ],
   "source": [
    "sum(1 for _ in neighbors)"
   ]
  },
  {
   "cell_type": "code",
   "execution_count": 193,
   "id": "c05a9d7c",
   "metadata": {},
   "outputs": [
    {
     "data": {
      "text/plain": [
       "['0xf16cad728c210c0e3c0c9d7c80a247120b1248a4',\n",
       " '0x81b3aa1a462ce3476dfd2aef65637155eecdba17',\n",
       " '0x5f447c08bb3dbd21bd4ddd389cd29156d9233594',\n",
       " '0xe4e3c59c8df9f365747c25006ff298d3a50fddde',\n",
       " '0x0b5454a3c0be024120d47b5fe2b355248dfc508a',\n",
       " '0xd68c39c9b2b1b947a5888a47e8299b2156de4565',\n",
       " '0xd09cf607675eae595017309f46f0837e85296a92',\n",
       " '0x0412883ac41b904c55b10c82e947aec06551f124',\n",
       " '0xe6f3078a49129375903d0b2598628bfec8dd9e56',\n",
       " '0x2d86f58e2e0f068a1720d4508280df24991b044f']"
      ]
     },
     "execution_count": 193,
     "metadata": {},
     "output_type": "execute_result"
    }
   ],
   "source": [
    "random.sample(neighbors,10)"
   ]
  },
  {
   "cell_type": "code",
   "execution_count": 194,
   "id": "1b11b228",
   "metadata": {},
   "outputs": [
    {
     "name": "stdout",
     "output_type": "stream",
     "text": [
      "CPU times: user 353 ms, sys: 36.8 ms, total: 390 ms\n",
      "Wall time: 480 ms\n"
     ]
    }
   ],
   "source": [
    "%%time\n",
    "lt_df = edges_df[edges_df['i'].isin(neighbors) & edges_df['j'].isin(neighbors)]"
   ]
  },
  {
   "cell_type": "code",
   "execution_count": 195,
   "id": "fc5f8c0a",
   "metadata": {},
   "outputs": [
    {
     "name": "stdout",
     "output_type": "stream",
     "text": [
      "<class 'pandas.core.frame.DataFrame'>\n",
      "Index: 134624 entries, 0 to 3007031\n",
      "Data columns (total 3 columns):\n",
      " #   Column  Non-Null Count   Dtype \n",
      "---  ------  --------------   ----- \n",
      " 0   i       134624 non-null  object\n",
      " 1   j       134624 non-null  object\n",
      " 2   v       134624 non-null  int64 \n",
      "dtypes: int64(1), object(2)\n",
      "memory usage: 4.1+ MB\n"
     ]
    }
   ],
   "source": [
    "lt_df.info()"
   ]
  },
  {
   "cell_type": "code",
   "execution_count": 157,
   "id": "31c864fa",
   "metadata": {},
   "outputs": [
    {
     "data": {
      "text/html": [
       "<div>\n",
       "<style scoped>\n",
       "    .dataframe tbody tr th:only-of-type {\n",
       "        vertical-align: middle;\n",
       "    }\n",
       "\n",
       "    .dataframe tbody tr th {\n",
       "        vertical-align: top;\n",
       "    }\n",
       "\n",
       "    .dataframe thead th {\n",
       "        text-align: right;\n",
       "    }\n",
       "</style>\n",
       "<table border=\"1\" class=\"dataframe\">\n",
       "  <thead>\n",
       "    <tr style=\"text-align: right;\">\n",
       "      <th></th>\n",
       "      <th>i</th>\n",
       "      <th>j</th>\n",
       "      <th>v</th>\n",
       "    </tr>\n",
       "  </thead>\n",
       "  <tbody>\n",
       "    <tr>\n",
       "      <th>800614</th>\n",
       "      <td>0xf5f23d337785825859de51f0bb36550ea7f4aec2</td>\n",
       "      <td>0x8c5e18af335fcd77b49eb32813dd57bb757e24f6</td>\n",
       "      <td>1</td>\n",
       "    </tr>\n",
       "    <tr>\n",
       "      <th>523251</th>\n",
       "      <td>0x9589f0b846e7f6b8c547ef0403ecd9a0c915b3f4</td>\n",
       "      <td>0x1500cfc7d2819442f1f5d7e2281554472c275075</td>\n",
       "      <td>67</td>\n",
       "    </tr>\n",
       "    <tr>\n",
       "      <th>204466</th>\n",
       "      <td>0x913ce0cb2ebeda248c3b80d53893b94b089c3f2c</td>\n",
       "      <td>0x38eaa03bd222ba7e616ff2d14f2c499df3ef3214</td>\n",
       "      <td>1</td>\n",
       "    </tr>\n",
       "    <tr>\n",
       "      <th>290748</th>\n",
       "      <td>0x0e43a2acb2fb3d9baa5222b183e0432bee2c65ab</td>\n",
       "      <td>0x0faeba7a10eaf727f0ebb9e9d844682d38c4a02a</td>\n",
       "      <td>53</td>\n",
       "    </tr>\n",
       "    <tr>\n",
       "      <th>254559</th>\n",
       "      <td>0xbc3d0b227834388550b95b5d2c636638bbc13f6e</td>\n",
       "      <td>0x95583d2bba5af877482a2ef3215e7ee8366cf87d</td>\n",
       "      <td>7</td>\n",
       "    </tr>\n",
       "  </tbody>\n",
       "</table>\n",
       "</div>"
      ],
      "text/plain": [
       "                                                 i  \\\n",
       "800614  0xf5f23d337785825859de51f0bb36550ea7f4aec2   \n",
       "523251  0x9589f0b846e7f6b8c547ef0403ecd9a0c915b3f4   \n",
       "204466  0x913ce0cb2ebeda248c3b80d53893b94b089c3f2c   \n",
       "290748  0x0e43a2acb2fb3d9baa5222b183e0432bee2c65ab   \n",
       "254559  0xbc3d0b227834388550b95b5d2c636638bbc13f6e   \n",
       "\n",
       "                                                 j   v  \n",
       "800614  0x8c5e18af335fcd77b49eb32813dd57bb757e24f6   1  \n",
       "523251  0x1500cfc7d2819442f1f5d7e2281554472c275075  67  \n",
       "204466  0x38eaa03bd222ba7e616ff2d14f2c499df3ef3214   1  \n",
       "290748  0x0faeba7a10eaf727f0ebb9e9d844682d38c4a02a  53  \n",
       "254559  0x95583d2bba5af877482a2ef3215e7ee8366cf87d   7  "
      ]
     },
     "execution_count": 157,
     "metadata": {},
     "output_type": "execute_result"
    }
   ],
   "source": [
    "lt_df.sample(5)"
   ]
  },
  {
   "cell_type": "code",
   "execution_count": 158,
   "id": "118dbd87",
   "metadata": {},
   "outputs": [
    {
     "name": "stdout",
     "output_type": "stream",
     "text": [
      "CPU times: user 466 ms, sys: 37.7 ms, total: 504 ms\n",
      "Wall time: 518 ms\n"
     ]
    }
   ],
   "source": [
    "%%time\n",
    "out_json = edges_df[edges_df['i'].isin(neighbors) & edges_df['j'].isin(neighbors)].to_json(orient=\"records\")"
   ]
  },
  {
   "cell_type": "code",
   "execution_count": 163,
   "id": "5e9da7fe",
   "metadata": {},
   "outputs": [
    {
     "data": {
      "text/plain": [
       "[{'i': '0xcd1bae2391651198850b076c2b600d534df53ade',\n",
       "  'j': '0x49fe8e96072b417f084fd8dd5b546cf19f3933b0',\n",
       "  'v': 7},\n",
       " {'i': '0x3a82f8eb5560af36b27420b586a05209e87ed3f6',\n",
       "  'j': '0xffb471f878e142ea8a357d341fec7424cffaff60',\n",
       "  'v': 2},\n",
       " {'i': '0x3a82f8eb5560af36b27420b586a05209e87ed3f6',\n",
       "  'j': '0xe6aa796c1b52bdbdebafad07ba324d88d7d4e842',\n",
       "  'v': 13},\n",
       " {'i': '0x3a82f8eb5560af36b27420b586a05209e87ed3f6',\n",
       "  'j': '0xe2f0d0523f8dfcc80b544513fe38baedf5d19a2e',\n",
       "  'v': 7},\n",
       " {'i': '0x3a82f8eb5560af36b27420b586a05209e87ed3f6',\n",
       "  'j': '0xa4b7c9173ff5be5c116d2ff846d23dd12a3cc5ec',\n",
       "  'v': 32}]"
      ]
     },
     "execution_count": 163,
     "metadata": {},
     "output_type": "execute_result"
    }
   ],
   "source": [
    "import json\n",
    "json.loads(out_json)[:5]"
   ]
  },
  {
   "cell_type": "code",
   "execution_count": 94,
   "id": "00261cf1",
   "metadata": {},
   "outputs": [
    {
     "name": "stderr",
     "output_type": "stream",
     "text": [
      "100%|████████████████████████████████████████████████████████████████████████████████████████████████████████████████████████████████████████| 44784/44784 [00:43<00:00, 1020.09it/s]"
     ]
    },
    {
     "name": "stdout",
     "output_type": "stream",
     "text": [
      "CPU times: user 29.2 s, sys: 11.9 s, total: 41 s\n",
      "Wall time: 43.9 s\n"
     ]
    },
    {
     "name": "stderr",
     "output_type": "stream",
     "text": [
      "\n"
     ]
    }
   ],
   "source": [
    "%%time\n",
    "from tqdm import tqdm\n",
    "for v in tqdm(g.vs):\n",
    "    get_neighbors(\n",
    "        graph=g,\n",
    "        in_addr=v[\"name\"],\n",
    "        max_neighbors=100,\n",
    "        max_degree=5\n",
    "    )"
   ]
  },
  {
   "cell_type": "code",
   "execution_count": 111,
   "id": "d444f6ac",
   "metadata": {},
   "outputs": [],
   "source": [
    "def get_neighbor_edges(graph:ig.Graph, in_addr:str, max_neighbors:int, max_degree:int) -> list:\n",
    "    import itertools\n",
    "    klists = []\n",
    "    mindist_and_order = 1\n",
    "    limit = max_neighbors\n",
    "    while mindist_and_order <= max_degree:\n",
    "        neighbors = graph.neighborhood(\n",
    "            [in_addr], order=mindist_and_order, mode=\"out\", mindist=mindist_and_order\n",
    "        )\n",
    "        klists.append([(graph.vs[j][\"name\"], edge[\"v\"]) for j in neighbors[0][:limit] for edge in graph.vs[j].out_edges()])\n",
    "        \n",
    "        limit = limit - len(neighbors[0])\n",
    "        if limit <= 0:\n",
    "            break # we have reached limit of neighbors\n",
    "        mindist_and_order += 1\n",
    "    # end of while\n",
    "    return list(itertools.chain(*klists))"
   ]
  },
  {
   "cell_type": "code",
   "execution_count": 112,
   "id": "0fd916c2",
   "metadata": {},
   "outputs": [
    {
     "name": "stdout",
     "output_type": "stream",
     "text": [
      "CPU times: user 642 ms, sys: 33.6 ms, total: 675 ms\n",
      "Wall time: 743 ms\n"
     ]
    }
   ],
   "source": [
    "%%time\n",
    "neighbor_edges = get_neighbor_edges(\n",
    "                graph=g,\n",
    "                in_addr=\"0x7ea38f878aec603bbce2376ded83d502bd2d881e\",\n",
    "                max_neighbors=1000,\n",
    "                max_degree=5\n",
    "            )"
   ]
  },
  {
   "cell_type": "code",
   "execution_count": 113,
   "id": "49fe02ea",
   "metadata": {},
   "outputs": [
    {
     "data": {
      "text/plain": [
       "380332"
      ]
     },
     "execution_count": 113,
     "metadata": {},
     "output_type": "execute_result"
    }
   ],
   "source": [
    "sum(1 for _ in neighbor_edges)"
   ]
  },
  {
   "cell_type": "code",
   "execution_count": 114,
   "id": "b94446a6",
   "metadata": {},
   "outputs": [
    {
     "data": {
      "text/plain": [
       "[(723, 7.0), (2601, 1.0), (18151, 1.0), (20668, 1.0), (2061, 45.0)]"
      ]
     },
     "execution_count": 114,
     "metadata": {},
     "output_type": "execute_result"
    }
   ],
   "source": [
    "random.sample(neighbors, 5)"
   ]
  },
  {
   "cell_type": "code",
   "execution_count": null,
   "id": "1b1e0acf",
   "metadata": {},
   "outputs": [],
   "source": [
    "%%time\n",
    "from tqdm import tqdm\n",
    "for v in tqdm(g.vs):\n",
    "    get_neighbor_edges(\n",
    "        graph=g,\n",
    "        in_addr=v[\"name\"],\n",
    "        max_neighbors=100,\n",
    "        max_degree=5\n",
    "    )"
   ]
  },
  {
   "cell_type": "code",
   "execution_count": null,
   "id": "22d1567c",
   "metadata": {},
   "outputs": [],
   "source": []
  }
 ],
 "metadata": {
  "kernelspec": {
   "display_name": "k3l-suggest-env3",
   "language": "python",
   "name": "k3l-suggest-env3"
  },
  "language_info": {
   "codemirror_mode": {
    "name": "ipython",
    "version": 3
   },
   "file_extension": ".py",
   "mimetype": "text/x-python",
   "name": "python",
   "nbconvert_exporter": "python",
   "pygments_lexer": "ipython3",
   "version": "3.9.18"
  }
 },
 "nbformat": 4,
 "nbformat_minor": 5
}
