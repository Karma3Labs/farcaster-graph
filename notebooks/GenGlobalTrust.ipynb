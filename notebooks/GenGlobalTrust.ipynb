{
 "cells": [
  {
   "cell_type": "code",
   "execution_count": 92,
   "id": "73ad8ad8-6814-4669-a47b-ea3937805b9f",
   "metadata": {},
   "outputs": [],
   "source": [
    "import pandas as pd\n",
    "import numpy as np\n",
    "pd.set_option(\"mode.copy_on_write\", True)"
   ]
  },
  {
   "cell_type": "code",
   "execution_count": 14,
   "id": "5fb9095c-1cc2-43de-b831-0d3afc36a6bb",
   "metadata": {},
   "outputs": [
    {
     "name": "stdin",
     "output_type": "stream",
     "text": [
      " ········\n"
     ]
    }
   ],
   "source": [
    "import getpass\n",
    "pg_password = getpass.getpass()"
   ]
  },
  {
   "cell_type": "code",
   "execution_count": 23,
   "id": "4ed751a4-f11b-4b32-aa96-ee339725e4ef",
   "metadata": {},
   "outputs": [
    {
     "name": "stdout",
     "output_type": "stream",
     "text": [
      "(datetime.datetime(2024, 3, 9, 19, 29, 26, 504660, tzinfo=datetime.timezone.utc),)\n"
     ]
    }
   ],
   "source": [
    "import psycopg2\n",
    "pg_dsn = f\"dbname=replicator user=replicator host=127.0.0.1 port=6541 password={pg_password}\"\n",
    "tmp_sql = \"select now()\"\n",
    "with psycopg2.connect(pg_dsn) as conn:\n",
    "    with conn.cursor() as cursor:\n",
    "        cursor.execute(tmp_sql)\n",
    "        print(cursor.fetchone())"
   ]
  },
  {
   "cell_type": "code",
   "execution_count": 198,
   "id": "9422ea7e-3394-4257-85b8-5b0cd9625c64",
   "metadata": {},
   "outputs": [],
   "source": [
    "import tempfile\n",
    "from collections import defaultdict\n",
    "\n",
    "def ijv_df_read_sql_tmpfile(query):\n",
    "    with tempfile.TemporaryFile() as tmpfile:\n",
    "        copy_sql = \"COPY ({query}) TO STDOUT WITH CSV {head}\".format(\n",
    "           query=query, head=\"HEADER\"\n",
    "        )\n",
    "        with psycopg2.connect(pg_dsn) as conn:\n",
    "            with conn.cursor() as cursor:\n",
    "                cursor.copy_expert(copy_sql, tmpfile)\n",
    "                tmpfile.seek(0)\n",
    "                # types = defaultdict(np.uint64, i='Int32', j='Int32')\n",
    "                df = pd.read_csv(tmpfile, dtype={'i':'Int32', 'j': 'Int32'})\n",
    "                return df"
   ]
  },
  {
   "cell_type": "code",
   "execution_count": 199,
   "id": "b1c6f440-0057-465f-9da3-4a7a5d8a447b",
   "metadata": {},
   "outputs": [
    {
     "name": "stdout",
     "output_type": "stream",
     "text": [
      "CPU times: user 550 ms, sys: 76.6 ms, total: 627 ms\n",
      "Wall time: 4.91 s\n"
     ]
    }
   ],
   "source": [
    "%%time\n",
    "likes_sql = \"\"\"\n",
    "    SELECT fid as i, target_cast_fid as j, count(1) as likes_v \n",
    "    FROM reactions \n",
    "    WHERE type=1\n",
    "    AND fid < 10000\n",
    "    GROUP BY i, j\n",
    "    -- limit 100\n",
    "  \"\"\"\n",
    "likes_df = ijv_df_read_sql_tmpfile(likes_sql)"
   ]
  },
  {
   "cell_type": "code",
   "execution_count": 200,
   "id": "57eb3799-36c5-43f1-837b-6251b4351168",
   "metadata": {},
   "outputs": [
    {
     "name": "stdout",
     "output_type": "stream",
     "text": [
      "<class 'pandas.core.frame.DataFrame'>\n",
      "RangeIndex: 271944 entries, 0 to 271943\n",
      "Data columns (total 3 columns):\n",
      " #   Column   Non-Null Count   Dtype\n",
      "---  ------   --------------   -----\n",
      " 0   i        271944 non-null  Int32\n",
      " 1   j        271930 non-null  Int32\n",
      " 2   likes_v  271944 non-null  int64\n",
      "dtypes: Int32(2), int64(1)\n",
      "memory usage: 4.7 MB\n"
     ]
    }
   ],
   "source": [
    "likes_df.info(memory_usage='deep')"
   ]
  },
  {
   "cell_type": "code",
   "execution_count": 201,
   "id": "657b8739-aea2-49ea-a1c7-5328c3609a14",
   "metadata": {},
   "outputs": [
    {
     "data": {
      "text/html": [
       "<div>\n",
       "<style scoped>\n",
       "    .dataframe tbody tr th:only-of-type {\n",
       "        vertical-align: middle;\n",
       "    }\n",
       "\n",
       "    .dataframe tbody tr th {\n",
       "        vertical-align: top;\n",
       "    }\n",
       "\n",
       "    .dataframe thead th {\n",
       "        text-align: right;\n",
       "    }\n",
       "</style>\n",
       "<table border=\"1\" class=\"dataframe\">\n",
       "  <thead>\n",
       "    <tr style=\"text-align: right;\">\n",
       "      <th></th>\n",
       "      <th>i</th>\n",
       "      <th>j</th>\n",
       "      <th>likes_v</th>\n",
       "    </tr>\n",
       "  </thead>\n",
       "  <tbody>\n",
       "    <tr>\n",
       "      <th>191239</th>\n",
       "      <td>2056</td>\n",
       "      <td>14487</td>\n",
       "      <td>1</td>\n",
       "    </tr>\n",
       "    <tr>\n",
       "      <th>73229</th>\n",
       "      <td>3792</td>\n",
       "      <td>548</td>\n",
       "      <td>2</td>\n",
       "    </tr>\n",
       "    <tr>\n",
       "      <th>213509</th>\n",
       "      <td>4286</td>\n",
       "      <td>12443</td>\n",
       "      <td>1</td>\n",
       "    </tr>\n",
       "    <tr>\n",
       "      <th>119797</th>\n",
       "      <td>9265</td>\n",
       "      <td>1407</td>\n",
       "      <td>2</td>\n",
       "    </tr>\n",
       "    <tr>\n",
       "      <th>190970</th>\n",
       "      <td>2056</td>\n",
       "      <td>2770</td>\n",
       "      <td>1</td>\n",
       "    </tr>\n",
       "  </tbody>\n",
       "</table>\n",
       "</div>"
      ],
      "text/plain": [
       "           i      j  likes_v\n",
       "191239  2056  14487        1\n",
       "73229   3792    548        2\n",
       "213509  4286  12443        1\n",
       "119797  9265   1407        2\n",
       "190970  2056   2770        1"
      ]
     },
     "execution_count": 201,
     "metadata": {},
     "output_type": "execute_result"
    }
   ],
   "source": [
    "likes_df.sample(5)"
   ]
  },
  {
   "cell_type": "code",
   "execution_count": 202,
   "id": "c64c9714-a117-4636-8299-5a32ad1191d9",
   "metadata": {},
   "outputs": [
    {
     "data": {
      "text/plain": [
       "dtype('int64')"
      ]
     },
     "execution_count": 202,
     "metadata": {},
     "output_type": "execute_result"
    }
   ],
   "source": [
    "likes_df.index.dtype"
   ]
  },
  {
   "cell_type": "code",
   "execution_count": 203,
   "id": "963a7b13-58bd-4820-8faa-8b3a7eabf4cd",
   "metadata": {},
   "outputs": [
    {
     "name": "stdout",
     "output_type": "stream",
     "text": [
      "CPU times: user 463 ms, sys: 61.2 ms, total: 524 ms\n",
      "Wall time: 4.64 s\n"
     ]
    }
   ],
   "source": [
    "%%time\n",
    "replies_sql = \"\"\"\n",
    "    SELECT fid as i, parent_fid as j, count(1) as replies_v \n",
    "    FROM casts\n",
    "    WHERE parent_hash IS NOT NULL\n",
    "    AND fid < 10000\n",
    "    GROUP by i, j\n",
    "  \"\"\"\n",
    "replies_df = ijv_df_read_sql_tmpfile(replies_sql)"
   ]
  },
  {
   "cell_type": "code",
   "execution_count": 204,
   "id": "76318bf8-cfad-47d2-a14a-3d5ce9df9b4b",
   "metadata": {},
   "outputs": [
    {
     "name": "stdout",
     "output_type": "stream",
     "text": [
      "<class 'pandas.core.frame.DataFrame'>\n",
      "RangeIndex: 231879 entries, 0 to 231878\n",
      "Data columns (total 3 columns):\n",
      " #   Column     Non-Null Count   Dtype\n",
      "---  ------     --------------   -----\n",
      " 0   i          231879 non-null  Int32\n",
      " 1   j          231879 non-null  Int32\n",
      " 2   replies_v  231879 non-null  int64\n",
      "dtypes: Int32(2), int64(1)\n",
      "memory usage: 4.0 MB\n"
     ]
    }
   ],
   "source": [
    "replies_df.info(memory_usage='deep')"
   ]
  },
  {
   "cell_type": "code",
   "execution_count": 205,
   "id": "6450dfaf-ea5f-495d-8e23-cb3cea457894",
   "metadata": {},
   "outputs": [
    {
     "name": "stdout",
     "output_type": "stream",
     "text": [
      "CPU times: user 108 ms, sys: 18.6 ms, total: 126 ms\n",
      "Wall time: 2.65 s\n"
     ]
    }
   ],
   "source": [
    "%%time\n",
    "mentions_sql = \"\"\"\n",
    "\t\tWITH mention AS (\n",
    "\t\t\tSELECT fid as author_fid, mention.value as mention_fid \n",
    "\t\t\tFROM casts, json_array_elements_text(casts.mentions) as mention\n",
    "\t\t)\n",
    "\t\tSELECT \n",
    "\t\t\tauthor_fid as i, mention_fid as j, count(1) as mentions_v\n",
    "\t\tFROM mention\n",
    "        WHERE author_fid < 10000\n",
    "\t\tGROUP BY i, j\n",
    "  \"\"\"\n",
    "mentions_df = ijv_df_read_sql_tmpfile(mentions_sql)"
   ]
  },
  {
   "cell_type": "code",
   "execution_count": 206,
   "id": "c10a6dbd-faeb-4fcd-95fe-399f3d49c766",
   "metadata": {},
   "outputs": [
    {
     "name": "stdout",
     "output_type": "stream",
     "text": [
      "<class 'pandas.core.frame.DataFrame'>\n",
      "RangeIndex: 48679 entries, 0 to 48678\n",
      "Data columns (total 3 columns):\n",
      " #   Column      Non-Null Count  Dtype\n",
      "---  ------      --------------  -----\n",
      " 0   i           48679 non-null  Int32\n",
      " 1   j           48679 non-null  Int32\n",
      " 2   mentions_v  48679 non-null  int64\n",
      "dtypes: Int32(2), int64(1)\n",
      "memory usage: 855.8 KB\n"
     ]
    }
   ],
   "source": [
    "mentions_df.info(memory_usage='deep')"
   ]
  },
  {
   "cell_type": "code",
   "execution_count": 207,
   "id": "89efe359-467f-4ab8-9ff9-4fbee77b70ad",
   "metadata": {},
   "outputs": [
    {
     "name": "stdout",
     "output_type": "stream",
     "text": [
      "CPU times: user 102 ms, sys: 23 ms, total: 125 ms\n",
      "Wall time: 2.16 s\n"
     ]
    }
   ],
   "source": [
    "%%time\n",
    "recasts_sql = \"\"\"\n",
    "    SELECT fid as i, target_cast_fid as j, count(1) as reacts_v \n",
    "    FROM reactions \n",
    "    WHERE type=2\n",
    "    AND fid < 10000\n",
    "    GROUP BY i, j\n",
    "  \"\"\"\n",
    "recasts_df = ijv_df_read_sql_tmpfile(recasts_sql)"
   ]
  },
  {
   "cell_type": "code",
   "execution_count": 208,
   "id": "0d2bb4ff-7c59-4549-bbbf-223f1508d3f8",
   "metadata": {},
   "outputs": [
    {
     "name": "stdout",
     "output_type": "stream",
     "text": [
      "<class 'pandas.core.frame.DataFrame'>\n",
      "RangeIndex: 43143 entries, 0 to 43142\n",
      "Data columns (total 3 columns):\n",
      " #   Column    Non-Null Count  Dtype\n",
      "---  ------    --------------  -----\n",
      " 0   i         43143 non-null  Int32\n",
      " 1   j         43139 non-null  Int32\n",
      " 2   reacts_v  43143 non-null  int64\n",
      "dtypes: Int32(2), int64(1)\n",
      "memory usage: 758.5 KB\n"
     ]
    }
   ],
   "source": [
    "recasts_df.info(memory_usage='deep')"
   ]
  },
  {
   "cell_type": "code",
   "execution_count": 209,
   "id": "d3c4b49b-5fee-464a-ac58-69b9b9636351",
   "metadata": {},
   "outputs": [
    {
     "name": "stdout",
     "output_type": "stream",
     "text": [
      "CPU times: user 2.05 s, sys: 210 ms, total: 2.26 s\n",
      "Wall time: 13.3 s\n"
     ]
    }
   ],
   "source": [
    "%%time\n",
    "follows_sql = \"\"\"\n",
    "    SELECT \n",
    "        follower_fid as i, \n",
    "        following_fid as j,\n",
    "        1 as follows_v\n",
    "    FROM mv_follow_links \n",
    "    WHERE follower_fid < 10000\n",
    "    ORDER BY i, j, follows_v desc\n",
    "    \"\"\"\n",
    "follows_df = ijv_df_read_sql_tmpfile(follows_sql)"
   ]
  },
  {
   "cell_type": "code",
   "execution_count": 210,
   "id": "77509522-6d1d-4e51-aa7f-0c45e1674e1d",
   "metadata": {},
   "outputs": [
    {
     "name": "stdout",
     "output_type": "stream",
     "text": [
      "<class 'pandas.core.frame.DataFrame'>\n",
      "RangeIndex: 1100115 entries, 0 to 1100114\n",
      "Data columns (total 3 columns):\n",
      " #   Column     Non-Null Count    Dtype\n",
      "---  ------     --------------    -----\n",
      " 0   i          1100115 non-null  Int32\n",
      " 1   j          1100115 non-null  Int32\n",
      " 2   follows_v  1100115 non-null  int64\n",
      "dtypes: Int32(2), int64(1)\n",
      "memory usage: 18.9 MB\n"
     ]
    }
   ],
   "source": [
    "follows_df.info(memory_usage='deep')"
   ]
  },
  {
   "cell_type": "code",
   "execution_count": 211,
   "id": "b30bcad9-3e92-45c5-9795-6e7a13bddf65",
   "metadata": {},
   "outputs": [
    {
     "name": "stdout",
     "output_type": "stream",
     "text": [
      "CPU times: user 120 ms, sys: 34.1 ms, total: 155 ms\n",
      "Wall time: 166 ms\n"
     ]
    }
   ],
   "source": [
    "%%time\n",
    "df = likes_df.merge(replies_df, how='outer', left_on=['i','j'], right_on=['i','j'], indicator=False)"
   ]
  },
  {
   "cell_type": "code",
   "execution_count": 212,
   "id": "1b454aef-bf97-40f7-98e3-11d1c39c585e",
   "metadata": {},
   "outputs": [
    {
     "name": "stdout",
     "output_type": "stream",
     "text": [
      "<class 'pandas.core.frame.DataFrame'>\n",
      "RangeIndex: 403229 entries, 0 to 403228\n",
      "Data columns (total 4 columns):\n",
      " #   Column     Non-Null Count   Dtype  \n",
      "---  ------     --------------   -----  \n",
      " 0   i          403229 non-null  Int32  \n",
      " 1   j          403215 non-null  Int32  \n",
      " 2   likes_v    271944 non-null  float64\n",
      " 3   replies_v  231879 non-null  float64\n",
      "dtypes: Int32(2), float64(2)\n",
      "memory usage: 10.0 MB\n"
     ]
    }
   ],
   "source": [
    "df.info(memory_usage='deep')"
   ]
  },
  {
   "cell_type": "code",
   "execution_count": 213,
   "id": "b8cdb6be-523a-4053-a7db-a2fad7d36104",
   "metadata": {},
   "outputs": [
    {
     "name": "stdout",
     "output_type": "stream",
     "text": [
      "CPU times: user 116 ms, sys: 36.1 ms, total: 152 ms\n",
      "Wall time: 159 ms\n"
     ]
    }
   ],
   "source": [
    "%%time\n",
    "df = df.merge(mentions_df, how='outer', left_on=['i','j'], right_on=['i','j'], indicator=False)"
   ]
  },
  {
   "cell_type": "code",
   "execution_count": 214,
   "id": "e76be080-6122-4259-b424-5c58ceff4c4b",
   "metadata": {},
   "outputs": [
    {
     "name": "stdout",
     "output_type": "stream",
     "text": [
      "<class 'pandas.core.frame.DataFrame'>\n",
      "RangeIndex: 421416 entries, 0 to 421415\n",
      "Data columns (total 5 columns):\n",
      " #   Column      Non-Null Count   Dtype  \n",
      "---  ------      --------------   -----  \n",
      " 0   i           421416 non-null  Int32  \n",
      " 1   j           421402 non-null  Int32  \n",
      " 2   likes_v     271944 non-null  float64\n",
      " 3   replies_v   231879 non-null  float64\n",
      " 4   mentions_v  48679 non-null   float64\n",
      "dtypes: Int32(2), float64(3)\n",
      "memory usage: 13.7 MB\n"
     ]
    }
   ],
   "source": [
    "df.info(memory_usage='deep')"
   ]
  },
  {
   "cell_type": "code",
   "execution_count": 215,
   "id": "53b22920-58b2-47d8-ac3d-470e1ce68b96",
   "metadata": {},
   "outputs": [
    {
     "name": "stdout",
     "output_type": "stream",
     "text": [
      "CPU times: user 98.7 ms, sys: 32.7 ms, total: 131 ms\n",
      "Wall time: 136 ms\n"
     ]
    }
   ],
   "source": [
    "%%time\n",
    "df = df.merge(recasts_df, how='outer', left_on=['i','j'], right_on=['i','j'], indicator=False)"
   ]
  },
  {
   "cell_type": "code",
   "execution_count": 216,
   "id": "41b5f6d4-9819-4a44-bd45-c1b50a15cbad",
   "metadata": {},
   "outputs": [
    {
     "name": "stdout",
     "output_type": "stream",
     "text": [
      "<class 'pandas.core.frame.DataFrame'>\n",
      "RangeIndex: 424852 entries, 0 to 424851\n",
      "Data columns (total 6 columns):\n",
      " #   Column      Non-Null Count   Dtype  \n",
      "---  ------      --------------   -----  \n",
      " 0   i           424852 non-null  Int32  \n",
      " 1   j           424837 non-null  Int32  \n",
      " 2   likes_v     271944 non-null  float64\n",
      " 3   replies_v   231879 non-null  float64\n",
      " 4   mentions_v  48679 non-null   float64\n",
      " 5   reacts_v    43143 non-null   float64\n",
      "dtypes: Int32(2), float64(4)\n",
      "memory usage: 17.0 MB\n"
     ]
    }
   ],
   "source": [
    "df.info(memory_usage='deep')"
   ]
  },
  {
   "cell_type": "code",
   "execution_count": 217,
   "id": "673c02b7-0601-431c-bae9-adff52203364",
   "metadata": {},
   "outputs": [
    {
     "name": "stdout",
     "output_type": "stream",
     "text": [
      "CPU times: user 404 ms, sys: 103 ms, total: 506 ms\n",
      "Wall time: 586 ms\n"
     ]
    }
   ],
   "source": [
    "%%time\n",
    "df = df.merge(follows_df, how='outer', left_on=['i','j'], right_on=['i','j'], indicator=False)"
   ]
  },
  {
   "cell_type": "code",
   "execution_count": 218,
   "id": "7373e79b-7cc1-488a-8c72-bb909419dc36",
   "metadata": {},
   "outputs": [
    {
     "name": "stdout",
     "output_type": "stream",
     "text": [
      "<class 'pandas.core.frame.DataFrame'>\n",
      "RangeIndex: 1303353 entries, 0 to 1303352\n",
      "Data columns (total 7 columns):\n",
      " #   Column      Non-Null Count    Dtype  \n",
      "---  ------      --------------    -----  \n",
      " 0   i           1303353 non-null  Int32  \n",
      " 1   j           1303338 non-null  Int32  \n",
      " 2   likes_v     271944 non-null   float64\n",
      " 3   replies_v   231879 non-null   float64\n",
      " 4   mentions_v  48679 non-null    float64\n",
      " 5   reacts_v    43143 non-null    float64\n",
      " 6   follows_v   1100115 non-null  float64\n",
      "dtypes: Int32(2), float64(5)\n",
      "memory usage: 62.1 MB\n"
     ]
    }
   ],
   "source": [
    "df.info(memory_usage='deep')"
   ]
  },
  {
   "cell_type": "code",
   "execution_count": 219,
   "id": "0509fbbf-d033-4995-b2e4-34507668d92d",
   "metadata": {},
   "outputs": [
    {
     "data": {
      "text/html": [
       "<div>\n",
       "<style scoped>\n",
       "    .dataframe tbody tr th:only-of-type {\n",
       "        vertical-align: middle;\n",
       "    }\n",
       "\n",
       "    .dataframe tbody tr th {\n",
       "        vertical-align: top;\n",
       "    }\n",
       "\n",
       "    .dataframe thead th {\n",
       "        text-align: right;\n",
       "    }\n",
       "</style>\n",
       "<table border=\"1\" class=\"dataframe\">\n",
       "  <thead>\n",
       "    <tr style=\"text-align: right;\">\n",
       "      <th></th>\n",
       "      <th>i</th>\n",
       "      <th>j</th>\n",
       "      <th>likes_v</th>\n",
       "      <th>replies_v</th>\n",
       "      <th>mentions_v</th>\n",
       "      <th>reacts_v</th>\n",
       "      <th>follows_v</th>\n",
       "    </tr>\n",
       "  </thead>\n",
       "  <tbody>\n",
       "    <tr>\n",
       "      <th>1246328</th>\n",
       "      <td>9595</td>\n",
       "      <td>731</td>\n",
       "      <td>NaN</td>\n",
       "      <td>NaN</td>\n",
       "      <td>NaN</td>\n",
       "      <td>NaN</td>\n",
       "      <td>1.0</td>\n",
       "    </tr>\n",
       "    <tr>\n",
       "      <th>1062523</th>\n",
       "      <td>7005</td>\n",
       "      <td>134</td>\n",
       "      <td>NaN</td>\n",
       "      <td>NaN</td>\n",
       "      <td>NaN</td>\n",
       "      <td>NaN</td>\n",
       "      <td>1.0</td>\n",
       "    </tr>\n",
       "    <tr>\n",
       "      <th>1219019</th>\n",
       "      <td>9143</td>\n",
       "      <td>23798</td>\n",
       "      <td>NaN</td>\n",
       "      <td>NaN</td>\n",
       "      <td>NaN</td>\n",
       "      <td>NaN</td>\n",
       "      <td>1.0</td>\n",
       "    </tr>\n",
       "    <tr>\n",
       "      <th>1227063</th>\n",
       "      <td>9228</td>\n",
       "      <td>12540</td>\n",
       "      <td>NaN</td>\n",
       "      <td>NaN</td>\n",
       "      <td>NaN</td>\n",
       "      <td>NaN</td>\n",
       "      <td>1.0</td>\n",
       "    </tr>\n",
       "    <tr>\n",
       "      <th>566870</th>\n",
       "      <td>880</td>\n",
       "      <td>465</td>\n",
       "      <td>NaN</td>\n",
       "      <td>NaN</td>\n",
       "      <td>NaN</td>\n",
       "      <td>NaN</td>\n",
       "      <td>1.0</td>\n",
       "    </tr>\n",
       "    <tr>\n",
       "      <th>1152723</th>\n",
       "      <td>8327</td>\n",
       "      <td>8296</td>\n",
       "      <td>NaN</td>\n",
       "      <td>NaN</td>\n",
       "      <td>NaN</td>\n",
       "      <td>NaN</td>\n",
       "      <td>1.0</td>\n",
       "    </tr>\n",
       "    <tr>\n",
       "      <th>1228254</th>\n",
       "      <td>9230</td>\n",
       "      <td>451</td>\n",
       "      <td>NaN</td>\n",
       "      <td>NaN</td>\n",
       "      <td>NaN</td>\n",
       "      <td>NaN</td>\n",
       "      <td>1.0</td>\n",
       "    </tr>\n",
       "    <tr>\n",
       "      <th>710993</th>\n",
       "      <td>2182</td>\n",
       "      <td>1982</td>\n",
       "      <td>NaN</td>\n",
       "      <td>NaN</td>\n",
       "      <td>NaN</td>\n",
       "      <td>NaN</td>\n",
       "      <td>1.0</td>\n",
       "    </tr>\n",
       "    <tr>\n",
       "      <th>316442</th>\n",
       "      <td>3278</td>\n",
       "      <td>3278</td>\n",
       "      <td>NaN</td>\n",
       "      <td>1.0</td>\n",
       "      <td>NaN</td>\n",
       "      <td>NaN</td>\n",
       "      <td>NaN</td>\n",
       "    </tr>\n",
       "    <tr>\n",
       "      <th>412918</th>\n",
       "      <td>3647</td>\n",
       "      <td>1495</td>\n",
       "      <td>NaN</td>\n",
       "      <td>NaN</td>\n",
       "      <td>2.0</td>\n",
       "      <td>NaN</td>\n",
       "      <td>1.0</td>\n",
       "    </tr>\n",
       "  </tbody>\n",
       "</table>\n",
       "</div>"
      ],
      "text/plain": [
       "            i      j  likes_v  replies_v  mentions_v  reacts_v  follows_v\n",
       "1246328  9595    731      NaN        NaN         NaN       NaN        1.0\n",
       "1062523  7005    134      NaN        NaN         NaN       NaN        1.0\n",
       "1219019  9143  23798      NaN        NaN         NaN       NaN        1.0\n",
       "1227063  9228  12540      NaN        NaN         NaN       NaN        1.0\n",
       "566870    880    465      NaN        NaN         NaN       NaN        1.0\n",
       "1152723  8327   8296      NaN        NaN         NaN       NaN        1.0\n",
       "1228254  9230    451      NaN        NaN         NaN       NaN        1.0\n",
       "710993   2182   1982      NaN        NaN         NaN       NaN        1.0\n",
       "316442   3278   3278      NaN        1.0         NaN       NaN        NaN\n",
       "412918   3647   1495      NaN        NaN         2.0       NaN        1.0"
      ]
     },
     "execution_count": 219,
     "metadata": {},
     "output_type": "execute_result"
    }
   ],
   "source": [
    "df.sample(10)"
   ]
  },
  {
   "cell_type": "code",
   "execution_count": 228,
   "id": "f31a41b1-0c80-489e-97fd-c25757f44485",
   "metadata": {},
   "outputs": [],
   "source": [
    "df['l1rep1rec1m1'] = df.loc[:,['likes_v', 'replies_v', 'mentions_v', 'reacts_v', 'follows_v']].sum(axis=1)"
   ]
  },
  {
   "cell_type": "code",
   "execution_count": 236,
   "id": "a5edeff7-409f-4286-9b69-51301ba1c479",
   "metadata": {},
   "outputs": [],
   "source": [
    "# Very Slow code\n",
    "# df['l1rep6rec3m12'] = df.apply(lambda x: x['likes_v'] + \n",
    "#                                            x['replies_v'] * 6.0 +\n",
    "#                                            x['reacts_v'] * 3.0 + \n",
    "#                                            x['mentions_v'] * 12.0 +\n",
    "#                                            x['follows_v'], \n",
    "#                                axis=1)"
   ]
  },
  {
   "cell_type": "code",
   "execution_count": 237,
   "id": "f6708b97-b8a4-428c-9d06-71f2a6927211",
   "metadata": {},
   "outputs": [],
   "source": [
    "df['l1rep6rec3m12'] = df['likes_v'].fillna(0) \\\n",
    "                        + (df['replies_v'].fillna(0) * 6.0) \\\n",
    "                        + (df['reacts_v'].fillna(0) * 3.0) \\\n",
    "                        + (df['mentions_v'].fillna(0) * 12.0) \\\n",
    "                        + df['follows_v'].fillna(0)"
   ]
  },
  {
   "cell_type": "code",
   "execution_count": 238,
   "id": "57d23aa6-875e-478f-b4e0-8cd698dfca71",
   "metadata": {},
   "outputs": [
    {
     "data": {
      "text/html": [
       "<div>\n",
       "<style scoped>\n",
       "    .dataframe tbody tr th:only-of-type {\n",
       "        vertical-align: middle;\n",
       "    }\n",
       "\n",
       "    .dataframe tbody tr th {\n",
       "        vertical-align: top;\n",
       "    }\n",
       "\n",
       "    .dataframe thead th {\n",
       "        text-align: right;\n",
       "    }\n",
       "</style>\n",
       "<table border=\"1\" class=\"dataframe\">\n",
       "  <thead>\n",
       "    <tr style=\"text-align: right;\">\n",
       "      <th></th>\n",
       "      <th>i</th>\n",
       "      <th>j</th>\n",
       "      <th>likes_v</th>\n",
       "      <th>replies_v</th>\n",
       "      <th>mentions_v</th>\n",
       "      <th>reacts_v</th>\n",
       "      <th>follows_v</th>\n",
       "      <th>l1rep1rec1m1</th>\n",
       "      <th>l1rep6rec3m12</th>\n",
       "    </tr>\n",
       "  </thead>\n",
       "  <tbody>\n",
       "    <tr>\n",
       "      <th>255072</th>\n",
       "      <td>707</td>\n",
       "      <td>849</td>\n",
       "      <td>2.0</td>\n",
       "      <td>NaN</td>\n",
       "      <td>NaN</td>\n",
       "      <td>NaN</td>\n",
       "      <td>1.0</td>\n",
       "      <td>3.0</td>\n",
       "      <td>3.0</td>\n",
       "    </tr>\n",
       "    <tr>\n",
       "      <th>544629</th>\n",
       "      <td>666</td>\n",
       "      <td>752</td>\n",
       "      <td>NaN</td>\n",
       "      <td>NaN</td>\n",
       "      <td>NaN</td>\n",
       "      <td>NaN</td>\n",
       "      <td>1.0</td>\n",
       "      <td>1.0</td>\n",
       "      <td>1.0</td>\n",
       "    </tr>\n",
       "    <tr>\n",
       "      <th>458528</th>\n",
       "      <td>243</td>\n",
       "      <td>293</td>\n",
       "      <td>NaN</td>\n",
       "      <td>NaN</td>\n",
       "      <td>NaN</td>\n",
       "      <td>NaN</td>\n",
       "      <td>1.0</td>\n",
       "      <td>1.0</td>\n",
       "      <td>1.0</td>\n",
       "    </tr>\n",
       "    <tr>\n",
       "      <th>21389</th>\n",
       "      <td>559</td>\n",
       "      <td>9546</td>\n",
       "      <td>1.0</td>\n",
       "      <td>NaN</td>\n",
       "      <td>NaN</td>\n",
       "      <td>NaN</td>\n",
       "      <td>1.0</td>\n",
       "      <td>2.0</td>\n",
       "      <td>2.0</td>\n",
       "    </tr>\n",
       "    <tr>\n",
       "      <th>541906</th>\n",
       "      <td>649</td>\n",
       "      <td>613</td>\n",
       "      <td>NaN</td>\n",
       "      <td>NaN</td>\n",
       "      <td>NaN</td>\n",
       "      <td>NaN</td>\n",
       "      <td>1.0</td>\n",
       "      <td>1.0</td>\n",
       "      <td>1.0</td>\n",
       "    </tr>\n",
       "    <tr>\n",
       "      <th>319199</th>\n",
       "      <td>518</td>\n",
       "      <td>371</td>\n",
       "      <td>NaN</td>\n",
       "      <td>1.0</td>\n",
       "      <td>NaN</td>\n",
       "      <td>NaN</td>\n",
       "      <td>NaN</td>\n",
       "      <td>1.0</td>\n",
       "      <td>6.0</td>\n",
       "    </tr>\n",
       "    <tr>\n",
       "      <th>1049857</th>\n",
       "      <td>6787</td>\n",
       "      <td>358</td>\n",
       "      <td>NaN</td>\n",
       "      <td>NaN</td>\n",
       "      <td>NaN</td>\n",
       "      <td>NaN</td>\n",
       "      <td>1.0</td>\n",
       "      <td>1.0</td>\n",
       "      <td>1.0</td>\n",
       "    </tr>\n",
       "    <tr>\n",
       "      <th>186724</th>\n",
       "      <td>306</td>\n",
       "      <td>5701</td>\n",
       "      <td>1.0</td>\n",
       "      <td>7.0</td>\n",
       "      <td>3.0</td>\n",
       "      <td>NaN</td>\n",
       "      <td>1.0</td>\n",
       "      <td>12.0</td>\n",
       "      <td>80.0</td>\n",
       "    </tr>\n",
       "    <tr>\n",
       "      <th>1188330</th>\n",
       "      <td>8831</td>\n",
       "      <td>18830</td>\n",
       "      <td>NaN</td>\n",
       "      <td>NaN</td>\n",
       "      <td>NaN</td>\n",
       "      <td>NaN</td>\n",
       "      <td>1.0</td>\n",
       "      <td>1.0</td>\n",
       "      <td>1.0</td>\n",
       "    </tr>\n",
       "    <tr>\n",
       "      <th>934192</th>\n",
       "      <td>5033</td>\n",
       "      <td>880</td>\n",
       "      <td>NaN</td>\n",
       "      <td>NaN</td>\n",
       "      <td>NaN</td>\n",
       "      <td>NaN</td>\n",
       "      <td>1.0</td>\n",
       "      <td>1.0</td>\n",
       "      <td>1.0</td>\n",
       "    </tr>\n",
       "  </tbody>\n",
       "</table>\n",
       "</div>"
      ],
      "text/plain": [
       "            i      j  likes_v  replies_v  mentions_v  reacts_v  follows_v  \\\n",
       "255072    707    849      2.0        NaN         NaN       NaN        1.0   \n",
       "544629    666    752      NaN        NaN         NaN       NaN        1.0   \n",
       "458528    243    293      NaN        NaN         NaN       NaN        1.0   \n",
       "21389     559   9546      1.0        NaN         NaN       NaN        1.0   \n",
       "541906    649    613      NaN        NaN         NaN       NaN        1.0   \n",
       "319199    518    371      NaN        1.0         NaN       NaN        NaN   \n",
       "1049857  6787    358      NaN        NaN         NaN       NaN        1.0   \n",
       "186724    306   5701      1.0        7.0         3.0       NaN        1.0   \n",
       "1188330  8831  18830      NaN        NaN         NaN       NaN        1.0   \n",
       "934192   5033    880      NaN        NaN         NaN       NaN        1.0   \n",
       "\n",
       "         l1rep1rec1m1  l1rep6rec3m12  \n",
       "255072            3.0            3.0  \n",
       "544629            1.0            1.0  \n",
       "458528            1.0            1.0  \n",
       "21389             2.0            2.0  \n",
       "541906            1.0            1.0  \n",
       "319199            1.0            6.0  \n",
       "1049857           1.0            1.0  \n",
       "186724           12.0           80.0  \n",
       "1188330           1.0            1.0  \n",
       "934192            1.0            1.0  "
      ]
     },
     "execution_count": 238,
     "metadata": {},
     "output_type": "execute_result"
    }
   ],
   "source": [
    "df.sample(10)"
   ]
  },
  {
   "cell_type": "code",
   "execution_count": 239,
   "id": "83d70beb-64d3-451c-ae55-e5e3b1274900",
   "metadata": {},
   "outputs": [],
   "source": [
    "lt_l1rep6rec3m12enhanced_df = df[df['follows_v'].notna()][['i','j','l1rep6rec3m12']].rename(columns={'l1rep6rec3m12':'v'})"
   ]
  },
  {
   "cell_type": "code",
   "execution_count": 240,
   "id": "e5d27d0f-ddd9-44d1-8c1b-2ccf014eb2e1",
   "metadata": {},
   "outputs": [
    {
     "name": "stdout",
     "output_type": "stream",
     "text": [
      "<class 'pandas.core.frame.DataFrame'>\n",
      "Index: 1100115 entries, 1 to 1303352\n",
      "Data columns (total 3 columns):\n",
      " #   Column  Non-Null Count    Dtype  \n",
      "---  ------  --------------    -----  \n",
      " 0   i       1100115 non-null  Int32  \n",
      " 1   j       1100115 non-null  Int32  \n",
      " 2   v       1100115 non-null  float64\n",
      "dtypes: Int32(2), float64(1)\n",
      "memory usage: 27.3 MB\n"
     ]
    }
   ],
   "source": [
    "lt_l1rep6rec3m12enhanced_df.info(memory_usage='deep')"
   ]
  },
  {
   "cell_type": "code",
   "execution_count": 241,
   "id": "6b8fcee0-0cca-42dd-aa9c-52ab092be8b6",
   "metadata": {},
   "outputs": [
    {
     "data": {
      "text/html": [
       "<div>\n",
       "<style scoped>\n",
       "    .dataframe tbody tr th:only-of-type {\n",
       "        vertical-align: middle;\n",
       "    }\n",
       "\n",
       "    .dataframe tbody tr th {\n",
       "        vertical-align: top;\n",
       "    }\n",
       "\n",
       "    .dataframe thead th {\n",
       "        text-align: right;\n",
       "    }\n",
       "</style>\n",
       "<table border=\"1\" class=\"dataframe\">\n",
       "  <thead>\n",
       "    <tr style=\"text-align: right;\">\n",
       "      <th></th>\n",
       "      <th>i</th>\n",
       "      <th>j</th>\n",
       "      <th>v</th>\n",
       "    </tr>\n",
       "  </thead>\n",
       "  <tbody>\n",
       "    <tr>\n",
       "      <th>902922</th>\n",
       "      <td>4553</td>\n",
       "      <td>207</td>\n",
       "      <td>1.0</td>\n",
       "    </tr>\n",
       "    <tr>\n",
       "      <th>782720</th>\n",
       "      <td>2898</td>\n",
       "      <td>207</td>\n",
       "      <td>1.0</td>\n",
       "    </tr>\n",
       "    <tr>\n",
       "      <th>162513</th>\n",
       "      <td>5925</td>\n",
       "      <td>2728</td>\n",
       "      <td>9.0</td>\n",
       "    </tr>\n",
       "    <tr>\n",
       "      <th>79611</th>\n",
       "      <td>312</td>\n",
       "      <td>14195</td>\n",
       "      <td>2.0</td>\n",
       "    </tr>\n",
       "    <tr>\n",
       "      <th>1108478</th>\n",
       "      <td>7692</td>\n",
       "      <td>11637</td>\n",
       "      <td>1.0</td>\n",
       "    </tr>\n",
       "  </tbody>\n",
       "</table>\n",
       "</div>"
      ],
      "text/plain": [
       "            i      j    v\n",
       "902922   4553    207  1.0\n",
       "782720   2898    207  1.0\n",
       "162513   5925   2728  9.0\n",
       "79611     312  14195  2.0\n",
       "1108478  7692  11637  1.0"
      ]
     },
     "execution_count": 241,
     "metadata": {},
     "output_type": "execute_result"
    }
   ],
   "source": [
    "lt_l1rep6rec3m12enhanced_df.sample(5)"
   ]
  },
  {
   "cell_type": "code",
   "execution_count": 242,
   "id": "4594eced-08fe-46bb-a654-f53b0db0f28f",
   "metadata": {},
   "outputs": [
    {
     "name": "stdout",
     "output_type": "stream",
     "text": [
      "CPU times: user 2.2 s, sys: 183 ms, total: 2.38 s\n",
      "Wall time: 2.56 s\n"
     ]
    }
   ],
   "source": [
    "%%time\n",
    "localtrust = lt_l1rep6rec3m12enhanced_df.to_dict(orient=\"records\")"
   ]
  },
  {
   "cell_type": "code",
   "execution_count": 249,
   "id": "d56373f7-672c-4248-8da6-c4d583702346",
   "metadata": {},
   "outputs": [
    {
     "data": {
      "text/plain": [
       "272350"
      ]
     },
     "execution_count": 249,
     "metadata": {},
     "output_type": "execute_result"
    }
   ],
   "source": [
    "max_lt_id = max(lt_l1rep6rec3m12enhanced_df['i'].max(), lt_l1rep6rec3m12enhanced_df['j'].max())\n",
    "max_lt_id"
   ]
  },
  {
   "cell_type": "code",
   "execution_count": 244,
   "id": "36518f4b-ee38-46a3-b576-1dc29b2d8273",
   "metadata": {},
   "outputs": [],
   "source": [
    "import random"
   ]
  },
  {
   "cell_type": "code",
   "execution_count": 248,
   "id": "65a7571a-6a45-42b4-9721-4eb2dc852704",
   "metadata": {},
   "outputs": [
    {
     "data": {
      "text/plain": [
       "[{'i': 8680, 'j': 6815, 'v': 1.0},\n",
       " {'i': 534, 'j': 1214, 'v': 20.0},\n",
       " {'i': 7742, 'j': 539, 'v': 1.0},\n",
       " {'i': 8432, 'j': 6227, 'v': 22.0},\n",
       " {'i': 3344, 'j': 5650, 'v': 1.0},\n",
       " {'i': 1082, 'j': 158, 'v': 1.0},\n",
       " {'i': 225, 'j': 2455, 'v': 1.0},\n",
       " {'i': 974, 'j': 884, 'v': 1.0},\n",
       " {'i': 1190, 'j': 4269, 'v': 1.0},\n",
       " {'i': 5399, 'j': 15617, 'v': 1.0}]"
      ]
     },
     "execution_count": 248,
     "metadata": {},
     "output_type": "execute_result"
    }
   ],
   "source": [
    "random.sample(localtrust, 10)"
   ]
  },
  {
   "cell_type": "code",
   "execution_count": null,
   "id": "0b58fbf1-b216-4885-a491-86daa958a7cb",
   "metadata": {},
   "outputs": [],
   "source": []
  },
  {
   "cell_type": "code",
   "execution_count": null,
   "id": "3a2ff0b7-0d27-467f-accd-13233bc6affe",
   "metadata": {},
   "outputs": [],
   "source": []
  },
  {
   "cell_type": "code",
   "execution_count": 221,
   "id": "7ce14311-bd2f-4e33-b9cc-450951466339",
   "metadata": {},
   "outputs": [],
   "source": [
    "lt_follows_df = df[['i','j','follows_v']].rename(columns={'follows_v':'v'})"
   ]
  },
  {
   "cell_type": "code",
   "execution_count": 222,
   "id": "d19b8243-72b4-4bd6-9f7d-81b279955e38",
   "metadata": {},
   "outputs": [
    {
     "name": "stdout",
     "output_type": "stream",
     "text": [
      "<class 'pandas.core.frame.DataFrame'>\n",
      "RangeIndex: 1303353 entries, 0 to 1303352\n",
      "Data columns (total 3 columns):\n",
      " #   Column  Non-Null Count    Dtype  \n",
      "---  ------  --------------    -----  \n",
      " 0   i       1303353 non-null  Int32  \n",
      " 1   j       1303338 non-null  Int32  \n",
      " 2   v       1100115 non-null  float64\n",
      "dtypes: Int32(2), float64(1)\n",
      "memory usage: 22.4 MB\n"
     ]
    }
   ],
   "source": [
    "lt_follows_df.info(memory_usage='deep')"
   ]
  },
  {
   "cell_type": "code",
   "execution_count": 223,
   "id": "a1241ac2-8cd8-48ef-801f-fbafcfc16e6a",
   "metadata": {},
   "outputs": [
    {
     "data": {
      "text/html": [
       "<div>\n",
       "<style scoped>\n",
       "    .dataframe tbody tr th:only-of-type {\n",
       "        vertical-align: middle;\n",
       "    }\n",
       "\n",
       "    .dataframe tbody tr th {\n",
       "        vertical-align: top;\n",
       "    }\n",
       "\n",
       "    .dataframe thead th {\n",
       "        text-align: right;\n",
       "    }\n",
       "</style>\n",
       "<table border=\"1\" class=\"dataframe\">\n",
       "  <thead>\n",
       "    <tr style=\"text-align: right;\">\n",
       "      <th></th>\n",
       "      <th>i</th>\n",
       "      <th>j</th>\n",
       "      <th>v</th>\n",
       "    </tr>\n",
       "  </thead>\n",
       "  <tbody>\n",
       "    <tr>\n",
       "      <th>1115900</th>\n",
       "      <td>7781</td>\n",
       "      <td>1580</td>\n",
       "      <td>1.0</td>\n",
       "    </tr>\n",
       "    <tr>\n",
       "      <th>190050</th>\n",
       "      <td>9051</td>\n",
       "      <td>187822</td>\n",
       "      <td>1.0</td>\n",
       "    </tr>\n",
       "    <tr>\n",
       "      <th>538387</th>\n",
       "      <td>629</td>\n",
       "      <td>359</td>\n",
       "      <td>1.0</td>\n",
       "    </tr>\n",
       "    <tr>\n",
       "      <th>636388</th>\n",
       "      <td>1464</td>\n",
       "      <td>83</td>\n",
       "      <td>1.0</td>\n",
       "    </tr>\n",
       "    <tr>\n",
       "      <th>471651</th>\n",
       "      <td>330</td>\n",
       "      <td>311</td>\n",
       "      <td>1.0</td>\n",
       "    </tr>\n",
       "  </tbody>\n",
       "</table>\n",
       "</div>"
      ],
      "text/plain": [
       "            i       j    v\n",
       "1115900  7781    1580  1.0\n",
       "190050   9051  187822  1.0\n",
       "538387    629     359  1.0\n",
       "636388   1464      83  1.0\n",
       "471651    330     311  1.0"
      ]
     },
     "execution_count": 223,
     "metadata": {},
     "output_type": "execute_result"
    }
   ],
   "source": [
    "lt_follows_df.sample(5)"
   ]
  }
 ],
 "metadata": {
  "kernelspec": {
   "display_name": "k3ldata-env3",
   "language": "python",
   "name": "k3ldata-env3"
  },
  "language_info": {
   "codemirror_mode": {
    "name": "ipython",
    "version": 3
   },
   "file_extension": ".py",
   "mimetype": "text/x-python",
   "name": "python",
   "nbconvert_exporter": "python",
   "pygments_lexer": "ipython3",
   "version": "3.8.9"
  }
 },
 "nbformat": 4,
 "nbformat_minor": 5
}
